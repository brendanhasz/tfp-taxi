{
  "nbformat": 4,
  "nbformat_minor": 0,
  "metadata": {
    "colab": {
      "name": "TFP_Taxi",
      "version": "0.3.2",
      "provenance": [],
      "collapsed_sections": [
        "yyhnXw_eCoGX"
      ]
    },
    "kernelspec": {
      "name": "python3",
      "display_name": "Python 3"
    },
    "accelerator": "GPU"
  },
  "cells": [
    {
      "cell_type": "markdown",
      "metadata": {
        "colab_type": "text",
        "id": "KdujiISZPEl0"
      },
      "source": [
        "# Dual-module Bayesian Neural Network\n",
        "\n",
        "TODO: intro\n",
        "\n"
      ]
    },
    {
      "cell_type": "code",
      "metadata": {
        "id": "OJlAVltTjtVO",
        "colab_type": "code",
        "colab": {}
      },
      "source": [
        "# Install packages\n",
        "#!pip install -q --upgrade tensorflow==2.0.0-beta0\n",
        "!pip install -q --upgrade tf-nightly-gpu-2.0-preview\n",
        "!pip install -q tfp-nightly\n",
        "!pip install -q catboost\n",
        "!pip install -q --pre vaex"
      ],
      "execution_count": 0,
      "outputs": []
    },
    {
      "cell_type": "code",
      "metadata": {
        "id": "7ceA-8EP5qMg",
        "colab_type": "code",
        "colab": {}
      },
      "source": [
        "# Packages\n",
        "import numpy as np\n",
        "import pandas as pd\n",
        "import matplotlib\n",
        "import matplotlib.pyplot as plt\n",
        "import seaborn as sns\n",
        "import vaex\n",
        "\n",
        "from sklearn.dummy import DummyRegressor\n",
        "from sklearn.isotonic import IsotonicRegression\n",
        "from sklearn.metrics import mean_absolute_error, make_scorer\n",
        "from sklearn.model_selection import cross_val_score, cross_val_predict\n",
        "\n",
        "import tensorflow as tf\n",
        "import tensorflow_probability as tfp\n",
        "tfd = tfp.distributions\n",
        "from tensorflow_probability.python.math import random_rademacher\n",
        "\n",
        "from tensorflow.keras import Sequential\n",
        "from tensorflow.keras.layers import Dense, BatchNormalization, ReLU, Dropout\n",
        "from tensorflow.keras.optimizers import Adam\n",
        "from tensorflow.keras.callbacks import EarlyStopping, ReduceLROnPlateau\n",
        "\n",
        "from catboost import CatBoostRegressor\n",
        "\n",
        "# Settings\n",
        "sns.set()\n",
        "colors = plt.rcParams['axes.prop_cycle'].by_key()['color']\n",
        "%config InlineBackend.figure_format = 'svg'\n",
        "np.random.seed(111)\n",
        "tf.random.set_seed(111)"
      ],
      "execution_count": 0,
      "outputs": []
    },
    {
      "cell_type": "markdown",
      "metadata": {
        "id": "qQSVyBp-minb",
        "colab_type": "text"
      },
      "source": [
        "## Data\n",
        "\n",
        "TODO: explain, mention more eda in previous post"
      ]
    },
    {
      "cell_type": "code",
      "metadata": {
        "id": "41GRdFiGOxC2",
        "colab_type": "code",
        "outputId": "c925c62e-c8f4-4f7f-b699-8506fa933f03",
        "colab": {
          "base_uri": "https://localhost:8080/",
          "height": 55
        }
      },
      "source": [
        "from google.colab import drive\n",
        "drive.mount('/content/gdrive')"
      ],
      "execution_count": 3,
      "outputs": [
        {
          "output_type": "stream",
          "text": [
            "Drive already mounted at /content/gdrive; to attempt to forcibly remount, call drive.mount(\"/content/gdrive\", force_remount=True).\n"
          ],
          "name": "stdout"
        }
      ]
    },
    {
      "cell_type": "code",
      "metadata": {
        "id": "VvpoZQeKO_Nc",
        "colab_type": "code",
        "colab": {}
      },
      "source": [
        "# Columns to load\n",
        "dtypes = {'fare_amount':      'float32',\n",
        "          'pickup_datetime':  'str', \n",
        "          'pickup_longitude': 'float32',\n",
        "          'pickup_latitude':  'float32',\n",
        "          'dropoff_longitude':'float32',\n",
        "          'dropoff_latitude': 'float32'}\n",
        "\n",
        "# Load data\n",
        "#train = pd.read_csv('train.csv', # TODO\n",
        "train = pd.read_csv('/content/gdrive/My Drive/DataScience/Data/train.zip', \n",
        "                    usecols=dtypes.keys(), \n",
        "                    dtype=dtypes,\n",
        "                    nrows=200000)\n",
        "\n",
        "# Convert pickup time column to datetime\n",
        "train['pickup_datetime'] = train['pickup_datetime'].str.slice(0, 16)\n",
        "train['pickup_datetime'] = pd.to_datetime(train['pickup_datetime'], \n",
        "                                          utc=True, \n",
        "                                          format='%Y-%m-%d %H:%M')"
      ],
      "execution_count": 0,
      "outputs": []
    },
    {
      "cell_type": "code",
      "metadata": {
        "id": "jdqqUEl2QV-e",
        "colab_type": "code",
        "colab": {}
      },
      "source": [
        "# Drop rows with empty values\n",
        "train.dropna(inplace=True)\n",
        "\n",
        "# Extract useful time information\n",
        "train['min_of_day'] = (60*train['pickup_datetime'].dt.hour + \n",
        "                       train['pickup_datetime'].dt.minute)\n",
        "train['day_of_week'] = train['pickup_datetime'].dt.dayofweek\n",
        "train['day_of_year'] = train['pickup_datetime'].dt.dayofyear\n",
        "train['year'] = train['pickup_datetime'].dt.year\n",
        "\n",
        "# Remove original datetime column\n",
        "train.drop('pickup_datetime', axis=1, inplace=True)\n",
        "\n",
        "# Ensure all columns are float32s\n",
        "train = train.astype('float32')\n",
        "\n",
        "# Function to remove rows outside range\n",
        "def clip(df, a, b, col):\n",
        "    for c in col:\n",
        "        df = df[(df[c]>a) & (df[c]<b)]\n",
        "    return df\n",
        "\n",
        "# Remove outliers\n",
        "train = clip(train, 1, 200, ['fare_amount'])\n",
        "train = clip(train,  -75, -72.5,\n",
        "             ['pickup_longitude', 'dropoff_longitude'])\n",
        "train = clip(train, 40, 41.5,\n",
        "             ['pickup_latitude', 'dropoff_latitude'])\n",
        "\n",
        "# Make copy with untransformed data\n",
        "train_orig = train.copy()\n",
        "\n",
        "# Transform target column\n",
        "train['fare_amount'] = np.log(np.log10(train['fare_amount']))\n",
        "\n",
        "# Normalize data\n",
        "train = (train - train.mean()) / train.std()\n",
        "\n",
        "# Separate in- from dependent variables\n",
        "x_taxi = train.drop('fare_amount', axis=1)\n",
        "y_taxi = train['fare_amount']"
      ],
      "execution_count": 0,
      "outputs": []
    },
    {
      "cell_type": "markdown",
      "metadata": {
        "id": "vcgBGyl7WHbJ",
        "colab_type": "text"
      },
      "source": [
        "TODO: print head and simple plots"
      ]
    },
    {
      "cell_type": "markdown",
      "metadata": {
        "id": "yVSvi4I8moAU",
        "colab_type": "text"
      },
      "source": [
        "## Baseline Models"
      ]
    },
    {
      "cell_type": "code",
      "metadata": {
        "id": "Nt7Yirg4cTh9",
        "colab_type": "code",
        "colab": {}
      },
      "source": [
        "# Make Mean Absolute Error scorer\n",
        "mae_scorer = make_scorer(mean_absolute_error)\n",
        "\n",
        "# Function to print cross-validated mean abs deviation\n",
        "def cv_mae(regressor, x, y, cv=3, scorer=mae_scorer):\n",
        "    scores = cross_val_score(regressor, \n",
        "                             x, y, cv=cv,\n",
        "                             scoring=scorer)\n",
        "    print('MAE:', scores.mean())"
      ],
      "execution_count": 0,
      "outputs": []
    },
    {
      "cell_type": "code",
      "metadata": {
        "id": "KGGXJDeNcZyX",
        "colab_type": "code",
        "outputId": "715606a2-e477-449b-9f5e-691010bde3e1",
        "colab": {
          "base_uri": "https://localhost:8080/",
          "height": 35
        }
      },
      "source": [
        "# MAE from predicting just the mean\n",
        "cv_mae(DummyRegressor(), x_taxi, y_taxi)"
      ],
      "execution_count": 7,
      "outputs": [
        {
          "output_type": "stream",
          "text": [
            "MAE: 0.7927840153376261\n"
          ],
          "name": "stdout"
        }
      ]
    },
    {
      "cell_type": "code",
      "metadata": {
        "id": "b7u2_TRXcXgG",
        "colab_type": "code",
        "outputId": "8c6bdac3-9d4c-4ed4-a6e4-f6b40a87b7fe",
        "colab": {
          "base_uri": "https://localhost:8080/",
          "height": 35
        }
      },
      "source": [
        "# Distance between pickup and dropoff locations\n",
        "dist = np.sqrt(\n",
        "    np.power(x_taxi['pickup_longitude'] -\n",
        "             x_taxi['dropoff_longitude'], 2) + \n",
        "    np.power(x_taxi['pickup_latitude'] - \n",
        "             x_taxi['dropoff_latitude'], 2))\n",
        "\n",
        "# MAE from using just distance as predictor\n",
        "cv_mae(IsotonicRegression(out_of_bounds='clip'), \n",
        "       dist, y_taxi)"
      ],
      "execution_count": 8,
      "outputs": [
        {
          "output_type": "stream",
          "text": [
            "MAE: 0.3694203396638234\n"
          ],
          "name": "stdout"
        }
      ]
    },
    {
      "cell_type": "markdown",
      "metadata": {
        "id": "48JPiH0DfQzm",
        "colab_type": "text"
      },
      "source": [
        "TODO: let's also see how a gradient-boosted decision tree does."
      ]
    },
    {
      "cell_type": "code",
      "metadata": {
        "id": "YdO_cHkyfVt9",
        "colab_type": "code",
        "outputId": "8417594f-4654-48ee-dd28-1d66a7be2a94",
        "colab": {
          "base_uri": "https://localhost:8080/",
          "height": 35
        }
      },
      "source": [
        "# MAE using CatBoost\n",
        "cv_mae(CatBoostRegressor(verbose=False, depth=9), x_taxi, y_taxi)"
      ],
      "execution_count": 0,
      "outputs": [
        {
          "output_type": "stream",
          "text": [
            "MAE: 0.30021984335733554\n"
          ],
          "name": "stdout"
        }
      ]
    },
    {
      "cell_type": "markdown",
      "metadata": {
        "id": "XCdOGxErmqtz",
        "colab_type": "text"
      },
      "source": [
        "## Vanilla Neural Network\n",
        "\n",
        "TODO: talk about just prediction w/ nnet w/ MAE"
      ]
    },
    {
      "cell_type": "code",
      "metadata": {
        "id": "hxLCv2JYLr3r",
        "colab_type": "code",
        "colab": {}
      },
      "source": [
        "# Run simple keras model to get MAE\n",
        "D = x_taxi.shape[1]\n",
        "model = Sequential([\n",
        "    Dense(512, use_bias=False, input_shape=(D,)),\n",
        "    BatchNormalization(),\n",
        "    ReLU(),\n",
        "    Dropout(0.1),\n",
        "    Dense(128, use_bias=False),\n",
        "    BatchNormalization(),\n",
        "    ReLU(),\n",
        "    Dropout(0.1),\n",
        "    Dense(64, use_bias=False),\n",
        "    BatchNormalization(),\n",
        "    ReLU(),\n",
        "    Dropout(0.1),\n",
        "    Dense(1)\n",
        "])"
      ],
      "execution_count": 0,
      "outputs": []
    },
    {
      "cell_type": "code",
      "metadata": {
        "id": "2zkyz9dyPDY5",
        "colab_type": "code",
        "colab": {}
      },
      "source": [
        "# Compile the model using MAE\n",
        "model.compile(Adam(), loss='mean_absolute_error')"
      ],
      "execution_count": 0,
      "outputs": []
    },
    {
      "cell_type": "code",
      "metadata": {
        "id": "DKN-hzn4SShl",
        "colab_type": "code",
        "outputId": "46c9ff9e-108c-4098-acc6-57b57dec223c",
        "colab": {
          "base_uri": "https://localhost:8080/",
          "height": 1000
        }
      },
      "source": [
        "# Stop training when we start to overfit\n",
        "# Reduce learning rate if not improving\n",
        "callbacks = [\n",
        "    EarlyStopping(patience=20, restore_best_weights=True),\n",
        "    ReduceLROnPlateau(factor=0.2, patience=10, min_delta=1e-4)\n",
        "]\n",
        "\n",
        "# Fit the model\n",
        "history = model.fit(x_taxi, y_taxi,\n",
        "                    batch_size=1024,\n",
        "                    epochs=100,\n",
        "                    validation_split=0.2,\n",
        "                    callbacks=callbacks,\n",
        "                    verbose=2)"
      ],
      "execution_count": 11,
      "outputs": [
        {
          "output_type": "stream",
          "text": [
            "WARNING: Logging before flag parsing goes to stderr.\n",
            "W0706 04:15:33.766726 140673704961920 deprecation.py:323] From /usr/local/lib/python3.6/dist-packages/tensorflow_core/python/keras/optimizer_v2/optimizer_v2.py:460: BaseResourceVariable.constraint (from tensorflow.python.ops.resource_variable_ops) is deprecated and will be removed in a future version.\n",
            "Instructions for updating:\n",
            "Apply a constraint manually following the optimizer update step.\n"
          ],
          "name": "stderr"
        },
        {
          "output_type": "stream",
          "text": [
            "Train on 156656 samples, validate on 39164 samples\n",
            "Epoch 1/100\n",
            "156656/156656 - 2s - loss: 0.4790 - val_loss: 0.6710\n",
            "Epoch 2/100\n",
            "156656/156656 - 1s - loss: 0.3662 - val_loss: 0.5413\n",
            "Epoch 3/100\n",
            "156656/156656 - 1s - loss: 0.3450 - val_loss: 0.3510\n",
            "Epoch 4/100\n",
            "156656/156656 - 1s - loss: 0.3329 - val_loss: 0.3059\n",
            "Epoch 5/100\n",
            "156656/156656 - 1s - loss: 0.3265 - val_loss: 0.3051\n",
            "Epoch 6/100\n",
            "156656/156656 - 1s - loss: 0.3204 - val_loss: 0.2932\n",
            "Epoch 7/100\n",
            "156656/156656 - 1s - loss: 0.3190 - val_loss: 0.2929\n",
            "Epoch 8/100\n",
            "156656/156656 - 1s - loss: 0.3160 - val_loss: 0.2874\n",
            "Epoch 9/100\n",
            "156656/156656 - 1s - loss: 0.3142 - val_loss: 0.2887\n",
            "Epoch 10/100\n",
            "156656/156656 - 1s - loss: 0.3124 - val_loss: 0.2877\n",
            "Epoch 11/100\n",
            "156656/156656 - 1s - loss: 0.3112 - val_loss: 0.2843\n",
            "Epoch 12/100\n",
            "156656/156656 - 1s - loss: 0.3100 - val_loss: 0.2827\n",
            "Epoch 13/100\n",
            "156656/156656 - 1s - loss: 0.3078 - val_loss: 0.2844\n",
            "Epoch 14/100\n",
            "156656/156656 - 1s - loss: 0.3063 - val_loss: 0.2873\n",
            "Epoch 15/100\n",
            "156656/156656 - 1s - loss: 0.3055 - val_loss: 0.2873\n",
            "Epoch 16/100\n",
            "156656/156656 - 1s - loss: 0.3046 - val_loss: 0.2821\n",
            "Epoch 17/100\n",
            "156656/156656 - 1s - loss: 0.3032 - val_loss: 0.2806\n",
            "Epoch 18/100\n",
            "156656/156656 - 1s - loss: 0.3032 - val_loss: 0.2831\n",
            "Epoch 19/100\n",
            "156656/156656 - 1s - loss: 0.3035 - val_loss: 0.2823\n",
            "Epoch 20/100\n",
            "156656/156656 - 1s - loss: 0.3011 - val_loss: 0.2815\n",
            "Epoch 21/100\n",
            "156656/156656 - 1s - loss: 0.3014 - val_loss: 0.2760\n",
            "Epoch 22/100\n",
            "156656/156656 - 1s - loss: 0.2997 - val_loss: 0.2799\n",
            "Epoch 23/100\n",
            "156656/156656 - 1s - loss: 0.2990 - val_loss: 0.2771\n",
            "Epoch 24/100\n",
            "156656/156656 - 1s - loss: 0.2992 - val_loss: 0.2775\n",
            "Epoch 25/100\n",
            "156656/156656 - 1s - loss: 0.2986 - val_loss: 0.2755\n",
            "Epoch 26/100\n",
            "156656/156656 - 1s - loss: 0.2972 - val_loss: 0.2804\n",
            "Epoch 27/100\n",
            "156656/156656 - 1s - loss: 0.2976 - val_loss: 0.2783\n",
            "Epoch 28/100\n",
            "156656/156656 - 1s - loss: 0.2974 - val_loss: 0.2750\n",
            "Epoch 29/100\n",
            "156656/156656 - 1s - loss: 0.2958 - val_loss: 0.2749\n",
            "Epoch 30/100\n",
            "156656/156656 - 1s - loss: 0.2957 - val_loss: 0.2757\n",
            "Epoch 31/100\n",
            "156656/156656 - 1s - loss: 0.2951 - val_loss: 0.2777\n",
            "Epoch 32/100\n",
            "156656/156656 - 1s - loss: 0.2950 - val_loss: 0.2775\n",
            "Epoch 33/100\n",
            "156656/156656 - 1s - loss: 0.2945 - val_loss: 0.2761\n",
            "Epoch 34/100\n",
            "156656/156656 - 1s - loss: 0.2945 - val_loss: 0.2751\n",
            "Epoch 35/100\n",
            "156656/156656 - 1s - loss: 0.2940 - val_loss: 0.2759\n",
            "Epoch 36/100\n",
            "156656/156656 - 1s - loss: 0.2930 - val_loss: 0.2739\n",
            "Epoch 37/100\n",
            "156656/156656 - 1s - loss: 0.2928 - val_loss: 0.2745\n",
            "Epoch 38/100\n",
            "156656/156656 - 1s - loss: 0.2936 - val_loss: 0.2740\n",
            "Epoch 39/100\n",
            "156656/156656 - 1s - loss: 0.2923 - val_loss: 0.2721\n",
            "Epoch 40/100\n",
            "156656/156656 - 1s - loss: 0.2931 - val_loss: 0.2751\n",
            "Epoch 41/100\n",
            "156656/156656 - 1s - loss: 0.2923 - val_loss: 0.2728\n",
            "Epoch 42/100\n",
            "156656/156656 - 1s - loss: 0.2925 - val_loss: 0.2721\n",
            "Epoch 43/100\n",
            "156656/156656 - 1s - loss: 0.2914 - val_loss: 0.2733\n",
            "Epoch 44/100\n",
            "156656/156656 - 1s - loss: 0.2928 - val_loss: 0.2736\n",
            "Epoch 45/100\n",
            "156656/156656 - 1s - loss: 0.2918 - val_loss: 0.2763\n",
            "Epoch 46/100\n",
            "156656/156656 - 1s - loss: 0.2907 - val_loss: 0.2729\n",
            "Epoch 47/100\n",
            "156656/156656 - 1s - loss: 0.2907 - val_loss: 0.2734\n",
            "Epoch 48/100\n",
            "156656/156656 - 1s - loss: 0.2889 - val_loss: 0.2712\n",
            "Epoch 49/100\n",
            "156656/156656 - 1s - loss: 0.2915 - val_loss: 0.2723\n",
            "Epoch 50/100\n",
            "156656/156656 - 1s - loss: 0.2909 - val_loss: 0.2726\n",
            "Epoch 51/100\n",
            "156656/156656 - 1s - loss: 0.2903 - val_loss: 0.2776\n",
            "Epoch 52/100\n",
            "156656/156656 - 1s - loss: 0.2898 - val_loss: 0.2733\n",
            "Epoch 53/100\n",
            "156656/156656 - 1s - loss: 0.2896 - val_loss: 0.2697\n",
            "Epoch 54/100\n",
            "156656/156656 - 1s - loss: 0.2897 - val_loss: 0.2729\n",
            "Epoch 55/100\n",
            "156656/156656 - 1s - loss: 0.2904 - val_loss: 0.2707\n",
            "Epoch 56/100\n",
            "156656/156656 - 1s - loss: 0.2894 - val_loss: 0.2710\n",
            "Epoch 57/100\n",
            "156656/156656 - 1s - loss: 0.2903 - val_loss: 0.2748\n",
            "Epoch 58/100\n",
            "156656/156656 - 1s - loss: 0.2883 - val_loss: 0.2719\n",
            "Epoch 59/100\n",
            "156656/156656 - 1s - loss: 0.2886 - val_loss: 0.2709\n",
            "Epoch 60/100\n",
            "156656/156656 - 1s - loss: 0.2884 - val_loss: 0.2703\n",
            "Epoch 61/100\n",
            "156656/156656 - 1s - loss: 0.2890 - val_loss: 0.2724\n",
            "Epoch 62/100\n",
            "156656/156656 - 1s - loss: 0.2884 - val_loss: 0.2695\n",
            "Epoch 63/100\n",
            "156656/156656 - 1s - loss: 0.2890 - val_loss: 0.2764\n",
            "Epoch 64/100\n",
            "156656/156656 - 1s - loss: 0.2873 - val_loss: 0.2717\n",
            "Epoch 65/100\n",
            "156656/156656 - 1s - loss: 0.2882 - val_loss: 0.2707\n",
            "Epoch 66/100\n",
            "156656/156656 - 1s - loss: 0.2881 - val_loss: 0.2699\n",
            "Epoch 67/100\n",
            "156656/156656 - 1s - loss: 0.2878 - val_loss: 0.2699\n",
            "Epoch 68/100\n",
            "156656/156656 - 1s - loss: 0.2872 - val_loss: 0.2727\n",
            "Epoch 69/100\n",
            "156656/156656 - 1s - loss: 0.2875 - val_loss: 0.2726\n",
            "Epoch 70/100\n",
            "156656/156656 - 1s - loss: 0.2868 - val_loss: 0.2697\n",
            "Epoch 71/100\n",
            "156656/156656 - 1s - loss: 0.2879 - val_loss: 0.2718\n",
            "Epoch 72/100\n",
            "156656/156656 - 1s - loss: 0.2869 - val_loss: 0.2702\n",
            "Epoch 73/100\n",
            "156656/156656 - 1s - loss: 0.2843 - val_loss: 0.2684\n",
            "Epoch 74/100\n",
            "156656/156656 - 1s - loss: 0.2842 - val_loss: 0.2675\n",
            "Epoch 75/100\n",
            "156656/156656 - 1s - loss: 0.2839 - val_loss: 0.2691\n",
            "Epoch 76/100\n",
            "156656/156656 - 1s - loss: 0.2839 - val_loss: 0.2669\n",
            "Epoch 77/100\n",
            "156656/156656 - 1s - loss: 0.2836 - val_loss: 0.2678\n",
            "Epoch 78/100\n",
            "156656/156656 - 1s - loss: 0.2835 - val_loss: 0.2669\n",
            "Epoch 79/100\n",
            "156656/156656 - 1s - loss: 0.2832 - val_loss: 0.2662\n",
            "Epoch 80/100\n",
            "156656/156656 - 1s - loss: 0.2832 - val_loss: 0.2668\n",
            "Epoch 81/100\n",
            "156656/156656 - 1s - loss: 0.2831 - val_loss: 0.2671\n",
            "Epoch 82/100\n",
            "156656/156656 - 1s - loss: 0.2833 - val_loss: 0.2680\n",
            "Epoch 83/100\n",
            "156656/156656 - 1s - loss: 0.2834 - val_loss: 0.2685\n",
            "Epoch 84/100\n",
            "156656/156656 - 1s - loss: 0.2832 - val_loss: 0.2673\n",
            "Epoch 85/100\n",
            "156656/156656 - 1s - loss: 0.2834 - val_loss: 0.2675\n",
            "Epoch 86/100\n",
            "156656/156656 - 1s - loss: 0.2823 - val_loss: 0.2658\n",
            "Epoch 87/100\n",
            "156656/156656 - 1s - loss: 0.2833 - val_loss: 0.2674\n",
            "Epoch 88/100\n",
            "156656/156656 - 1s - loss: 0.2835 - val_loss: 0.2677\n",
            "Epoch 89/100\n",
            "156656/156656 - 1s - loss: 0.2819 - val_loss: 0.2673\n",
            "Epoch 90/100\n",
            "156656/156656 - 1s - loss: 0.2823 - val_loss: 0.2673\n",
            "Epoch 91/100\n",
            "156656/156656 - 1s - loss: 0.2832 - val_loss: 0.2677\n",
            "Epoch 92/100\n",
            "156656/156656 - 1s - loss: 0.2839 - val_loss: 0.2674\n",
            "Epoch 93/100\n",
            "156656/156656 - 1s - loss: 0.2828 - val_loss: 0.2671\n",
            "Epoch 94/100\n",
            "156656/156656 - 1s - loss: 0.2822 - val_loss: 0.2664\n",
            "Epoch 95/100\n",
            "156656/156656 - 1s - loss: 0.2828 - val_loss: 0.2681\n",
            "Epoch 96/100\n",
            "156656/156656 - 1s - loss: 0.2822 - val_loss: 0.2666\n",
            "Epoch 97/100\n",
            "156656/156656 - 1s - loss: 0.2813 - val_loss: 0.2671\n",
            "Epoch 98/100\n",
            "156656/156656 - 1s - loss: 0.2813 - val_loss: 0.2664\n",
            "Epoch 99/100\n",
            "156656/156656 - 1s - loss: 0.2822 - val_loss: 0.2659\n",
            "Epoch 100/100\n",
            "156656/156656 - 1s - loss: 0.2816 - val_loss: 0.2664\n"
          ],
          "name": "stdout"
        }
      ]
    },
    {
      "cell_type": "code",
      "metadata": {
        "id": "Zv5roSMpgE61",
        "colab_type": "code",
        "outputId": "5a8e46ed-b7a4-495a-a464-d1590ba35f68",
        "colab": {
          "base_uri": "https://localhost:8080/",
          "height": 386
        }
      },
      "source": [
        "plt.plot(history.history['loss'], label='Train')\n",
        "plt.plot(history.history['val_loss'], label='Val')\n",
        "plt.legend()\n",
        "plt.xlabel('Epoch')\n",
        "plt.ylabel('MAE')\n",
        "plt.show()"
      ],
      "execution_count": 12,
      "outputs": [
        {
          "output_type": "display_data",
          "data": {
            "text/plain": [
              "<Figure size 432x288 with 1 Axes>"
            ],
            "image/svg+xml": "<?xml version=\"1.0\" encoding=\"utf-8\" standalone=\"no\"?>\n<!DOCTYPE svg PUBLIC \"-//W3C//DTD SVG 1.1//EN\"\n  \"http://www.w3.org/Graphics/SVG/1.1/DTD/svg11.dtd\">\n<!-- Created with matplotlib (https://matplotlib.org/) -->\n<svg height=\"273.599688pt\" version=\"1.1\" viewBox=\"0 0 404.805937 273.599688\" width=\"404.805937pt\" xmlns=\"http://www.w3.org/2000/svg\" xmlns:xlink=\"http://www.w3.org/1999/xlink\">\n <defs>\n  <style type=\"text/css\">\n*{stroke-linecap:butt;stroke-linejoin:round;}\n  </style>\n </defs>\n <g id=\"figure_1\">\n  <g id=\"patch_1\">\n   <path d=\"M 0 273.599688 \nL 404.805937 273.599688 \nL 404.805937 0 \nL 0 0 \nz\n\" style=\"fill:#ffffff;\"/>\n  </g>\n  <g id=\"axes_1\">\n   <g id=\"patch_2\">\n    <path d=\"M 56.805937 230.64 \nL 391.605938 230.64 \nL 391.605938 13.2 \nL 56.805937 13.2 \nz\n\" style=\"fill:#eaeaf2;\"/>\n   </g>\n   <g id=\"matplotlib.axis_1\">\n    <g id=\"xtick_1\">\n     <g id=\"line2d_1\">\n      <path clip-path=\"url(#pc034521ba9)\" d=\"M 72.024119 230.64 \nL 72.024119 13.2 \n\" style=\"fill:none;stroke:#ffffff;stroke-linecap:round;\"/>\n     </g>\n     <g id=\"text_1\">\n      <!-- 0 -->\n      <defs>\n       <path d=\"M 31.78125 66.40625 \nQ 24.171875 66.40625 20.328125 58.90625 \nQ 16.5 51.421875 16.5 36.375 \nQ 16.5 21.390625 20.328125 13.890625 \nQ 24.171875 6.390625 31.78125 6.390625 \nQ 39.453125 6.390625 43.28125 13.890625 \nQ 47.125 21.390625 47.125 36.375 \nQ 47.125 51.421875 43.28125 58.90625 \nQ 39.453125 66.40625 31.78125 66.40625 \nz\nM 31.78125 74.21875 \nQ 44.046875 74.21875 50.515625 64.515625 \nQ 56.984375 54.828125 56.984375 36.375 \nQ 56.984375 17.96875 50.515625 8.265625 \nQ 44.046875 -1.421875 31.78125 -1.421875 \nQ 19.53125 -1.421875 13.0625 8.265625 \nQ 6.59375 17.96875 6.59375 36.375 \nQ 6.59375 54.828125 13.0625 64.515625 \nQ 19.53125 74.21875 31.78125 74.21875 \nz\n\" id=\"DejaVuSans-48\"/>\n      </defs>\n      <g style=\"fill:#262626;\" transform=\"translate(68.524744 248.498281)scale(0.11 -0.11)\">\n       <use xlink:href=\"#DejaVuSans-48\"/>\n      </g>\n     </g>\n    </g>\n    <g id=\"xtick_2\">\n     <g id=\"line2d_2\">\n      <path clip-path=\"url(#pc034521ba9)\" d=\"M 133.511723 230.64 \nL 133.511723 13.2 \n\" style=\"fill:none;stroke:#ffffff;stroke-linecap:round;\"/>\n     </g>\n     <g id=\"text_2\">\n      <!-- 20 -->\n      <defs>\n       <path d=\"M 19.1875 8.296875 \nL 53.609375 8.296875 \nL 53.609375 0 \nL 7.328125 0 \nL 7.328125 8.296875 \nQ 12.9375 14.109375 22.625 23.890625 \nQ 32.328125 33.6875 34.8125 36.53125 \nQ 39.546875 41.84375 41.421875 45.53125 \nQ 43.3125 49.21875 43.3125 52.78125 \nQ 43.3125 58.59375 39.234375 62.25 \nQ 35.15625 65.921875 28.609375 65.921875 \nQ 23.96875 65.921875 18.8125 64.3125 \nQ 13.671875 62.703125 7.8125 59.421875 \nL 7.8125 69.390625 \nQ 13.765625 71.78125 18.9375 73 \nQ 24.125 74.21875 28.421875 74.21875 \nQ 39.75 74.21875 46.484375 68.546875 \nQ 53.21875 62.890625 53.21875 53.421875 \nQ 53.21875 48.921875 51.53125 44.890625 \nQ 49.859375 40.875 45.40625 35.40625 \nQ 44.1875 33.984375 37.640625 27.21875 \nQ 31.109375 20.453125 19.1875 8.296875 \nz\n\" id=\"DejaVuSans-50\"/>\n      </defs>\n      <g style=\"fill:#262626;\" transform=\"translate(126.512973 248.498281)scale(0.11 -0.11)\">\n       <use xlink:href=\"#DejaVuSans-50\"/>\n       <use x=\"63.623047\" xlink:href=\"#DejaVuSans-48\"/>\n      </g>\n     </g>\n    </g>\n    <g id=\"xtick_3\">\n     <g id=\"line2d_3\">\n      <path clip-path=\"url(#pc034521ba9)\" d=\"M 194.999326 230.64 \nL 194.999326 13.2 \n\" style=\"fill:none;stroke:#ffffff;stroke-linecap:round;\"/>\n     </g>\n     <g id=\"text_3\">\n      <!-- 40 -->\n      <defs>\n       <path d=\"M 37.796875 64.3125 \nL 12.890625 25.390625 \nL 37.796875 25.390625 \nz\nM 35.203125 72.90625 \nL 47.609375 72.90625 \nL 47.609375 25.390625 \nL 58.015625 25.390625 \nL 58.015625 17.1875 \nL 47.609375 17.1875 \nL 47.609375 0 \nL 37.796875 0 \nL 37.796875 17.1875 \nL 4.890625 17.1875 \nL 4.890625 26.703125 \nz\n\" id=\"DejaVuSans-52\"/>\n      </defs>\n      <g style=\"fill:#262626;\" transform=\"translate(188.000576 248.498281)scale(0.11 -0.11)\">\n       <use xlink:href=\"#DejaVuSans-52\"/>\n       <use x=\"63.623047\" xlink:href=\"#DejaVuSans-48\"/>\n      </g>\n     </g>\n    </g>\n    <g id=\"xtick_4\">\n     <g id=\"line2d_4\">\n      <path clip-path=\"url(#pc034521ba9)\" d=\"M 256.486929 230.64 \nL 256.486929 13.2 \n\" style=\"fill:none;stroke:#ffffff;stroke-linecap:round;\"/>\n     </g>\n     <g id=\"text_4\">\n      <!-- 60 -->\n      <defs>\n       <path d=\"M 33.015625 40.375 \nQ 26.375 40.375 22.484375 35.828125 \nQ 18.609375 31.296875 18.609375 23.390625 \nQ 18.609375 15.53125 22.484375 10.953125 \nQ 26.375 6.390625 33.015625 6.390625 \nQ 39.65625 6.390625 43.53125 10.953125 \nQ 47.40625 15.53125 47.40625 23.390625 \nQ 47.40625 31.296875 43.53125 35.828125 \nQ 39.65625 40.375 33.015625 40.375 \nz\nM 52.59375 71.296875 \nL 52.59375 62.3125 \nQ 48.875 64.0625 45.09375 64.984375 \nQ 41.3125 65.921875 37.59375 65.921875 \nQ 27.828125 65.921875 22.671875 59.328125 \nQ 17.53125 52.734375 16.796875 39.40625 \nQ 19.671875 43.65625 24.015625 45.921875 \nQ 28.375 48.1875 33.59375 48.1875 \nQ 44.578125 48.1875 50.953125 41.515625 \nQ 57.328125 34.859375 57.328125 23.390625 \nQ 57.328125 12.15625 50.6875 5.359375 \nQ 44.046875 -1.421875 33.015625 -1.421875 \nQ 20.359375 -1.421875 13.671875 8.265625 \nQ 6.984375 17.96875 6.984375 36.375 \nQ 6.984375 53.65625 15.1875 63.9375 \nQ 23.390625 74.21875 37.203125 74.21875 \nQ 40.921875 74.21875 44.703125 73.484375 \nQ 48.484375 72.75 52.59375 71.296875 \nz\n\" id=\"DejaVuSans-54\"/>\n      </defs>\n      <g style=\"fill:#262626;\" transform=\"translate(249.488179 248.498281)scale(0.11 -0.11)\">\n       <use xlink:href=\"#DejaVuSans-54\"/>\n       <use x=\"63.623047\" xlink:href=\"#DejaVuSans-48\"/>\n      </g>\n     </g>\n    </g>\n    <g id=\"xtick_5\">\n     <g id=\"line2d_5\">\n      <path clip-path=\"url(#pc034521ba9)\" d=\"M 317.974533 230.64 \nL 317.974533 13.2 \n\" style=\"fill:none;stroke:#ffffff;stroke-linecap:round;\"/>\n     </g>\n     <g id=\"text_5\">\n      <!-- 80 -->\n      <defs>\n       <path d=\"M 31.78125 34.625 \nQ 24.75 34.625 20.71875 30.859375 \nQ 16.703125 27.09375 16.703125 20.515625 \nQ 16.703125 13.921875 20.71875 10.15625 \nQ 24.75 6.390625 31.78125 6.390625 \nQ 38.8125 6.390625 42.859375 10.171875 \nQ 46.921875 13.96875 46.921875 20.515625 \nQ 46.921875 27.09375 42.890625 30.859375 \nQ 38.875 34.625 31.78125 34.625 \nz\nM 21.921875 38.8125 \nQ 15.578125 40.375 12.03125 44.71875 \nQ 8.5 49.078125 8.5 55.328125 \nQ 8.5 64.0625 14.71875 69.140625 \nQ 20.953125 74.21875 31.78125 74.21875 \nQ 42.671875 74.21875 48.875 69.140625 \nQ 55.078125 64.0625 55.078125 55.328125 \nQ 55.078125 49.078125 51.53125 44.71875 \nQ 48 40.375 41.703125 38.8125 \nQ 48.828125 37.15625 52.796875 32.3125 \nQ 56.78125 27.484375 56.78125 20.515625 \nQ 56.78125 9.90625 50.3125 4.234375 \nQ 43.84375 -1.421875 31.78125 -1.421875 \nQ 19.734375 -1.421875 13.25 4.234375 \nQ 6.78125 9.90625 6.78125 20.515625 \nQ 6.78125 27.484375 10.78125 32.3125 \nQ 14.796875 37.15625 21.921875 38.8125 \nz\nM 18.3125 54.390625 \nQ 18.3125 48.734375 21.84375 45.5625 \nQ 25.390625 42.390625 31.78125 42.390625 \nQ 38.140625 42.390625 41.71875 45.5625 \nQ 45.3125 48.734375 45.3125 54.390625 \nQ 45.3125 60.0625 41.71875 63.234375 \nQ 38.140625 66.40625 31.78125 66.40625 \nQ 25.390625 66.40625 21.84375 63.234375 \nQ 18.3125 60.0625 18.3125 54.390625 \nz\n\" id=\"DejaVuSans-56\"/>\n      </defs>\n      <g style=\"fill:#262626;\" transform=\"translate(310.975783 248.498281)scale(0.11 -0.11)\">\n       <use xlink:href=\"#DejaVuSans-56\"/>\n       <use x=\"63.623047\" xlink:href=\"#DejaVuSans-48\"/>\n      </g>\n     </g>\n    </g>\n    <g id=\"xtick_6\">\n     <g id=\"line2d_6\">\n      <path clip-path=\"url(#pc034521ba9)\" d=\"M 379.462136 230.64 \nL 379.462136 13.2 \n\" style=\"fill:none;stroke:#ffffff;stroke-linecap:round;\"/>\n     </g>\n     <g id=\"text_6\">\n      <!-- 100 -->\n      <defs>\n       <path d=\"M 12.40625 8.296875 \nL 28.515625 8.296875 \nL 28.515625 63.921875 \nL 10.984375 60.40625 \nL 10.984375 69.390625 \nL 28.421875 72.90625 \nL 38.28125 72.90625 \nL 38.28125 8.296875 \nL 54.390625 8.296875 \nL 54.390625 0 \nL 12.40625 0 \nz\n\" id=\"DejaVuSans-49\"/>\n      </defs>\n      <g style=\"fill:#262626;\" transform=\"translate(368.964011 248.498281)scale(0.11 -0.11)\">\n       <use xlink:href=\"#DejaVuSans-49\"/>\n       <use x=\"63.623047\" xlink:href=\"#DejaVuSans-48\"/>\n       <use x=\"127.246094\" xlink:href=\"#DejaVuSans-48\"/>\n      </g>\n     </g>\n    </g>\n    <g id=\"text_7\">\n     <!-- Epoch -->\n     <defs>\n      <path d=\"M 9.8125 72.90625 \nL 55.90625 72.90625 \nL 55.90625 64.59375 \nL 19.671875 64.59375 \nL 19.671875 43.015625 \nL 54.390625 43.015625 \nL 54.390625 34.71875 \nL 19.671875 34.71875 \nL 19.671875 8.296875 \nL 56.78125 8.296875 \nL 56.78125 0 \nL 9.8125 0 \nz\n\" id=\"DejaVuSans-69\"/>\n      <path d=\"M 18.109375 8.203125 \nL 18.109375 -20.796875 \nL 9.078125 -20.796875 \nL 9.078125 54.6875 \nL 18.109375 54.6875 \nL 18.109375 46.390625 \nQ 20.953125 51.265625 25.265625 53.625 \nQ 29.59375 56 35.59375 56 \nQ 45.5625 56 51.78125 48.09375 \nQ 58.015625 40.1875 58.015625 27.296875 \nQ 58.015625 14.40625 51.78125 6.484375 \nQ 45.5625 -1.421875 35.59375 -1.421875 \nQ 29.59375 -1.421875 25.265625 0.953125 \nQ 20.953125 3.328125 18.109375 8.203125 \nz\nM 48.6875 27.296875 \nQ 48.6875 37.203125 44.609375 42.84375 \nQ 40.53125 48.484375 33.40625 48.484375 \nQ 26.265625 48.484375 22.1875 42.84375 \nQ 18.109375 37.203125 18.109375 27.296875 \nQ 18.109375 17.390625 22.1875 11.75 \nQ 26.265625 6.109375 33.40625 6.109375 \nQ 40.53125 6.109375 44.609375 11.75 \nQ 48.6875 17.390625 48.6875 27.296875 \nz\n\" id=\"DejaVuSans-112\"/>\n      <path d=\"M 30.609375 48.390625 \nQ 23.390625 48.390625 19.1875 42.75 \nQ 14.984375 37.109375 14.984375 27.296875 \nQ 14.984375 17.484375 19.15625 11.84375 \nQ 23.34375 6.203125 30.609375 6.203125 \nQ 37.796875 6.203125 41.984375 11.859375 \nQ 46.1875 17.53125 46.1875 27.296875 \nQ 46.1875 37.015625 41.984375 42.703125 \nQ 37.796875 48.390625 30.609375 48.390625 \nz\nM 30.609375 56 \nQ 42.328125 56 49.015625 48.375 \nQ 55.71875 40.765625 55.71875 27.296875 \nQ 55.71875 13.875 49.015625 6.21875 \nQ 42.328125 -1.421875 30.609375 -1.421875 \nQ 18.84375 -1.421875 12.171875 6.21875 \nQ 5.515625 13.875 5.515625 27.296875 \nQ 5.515625 40.765625 12.171875 48.375 \nQ 18.84375 56 30.609375 56 \nz\n\" id=\"DejaVuSans-111\"/>\n      <path d=\"M 48.78125 52.59375 \nL 48.78125 44.1875 \nQ 44.96875 46.296875 41.140625 47.34375 \nQ 37.3125 48.390625 33.40625 48.390625 \nQ 24.65625 48.390625 19.8125 42.84375 \nQ 14.984375 37.3125 14.984375 27.296875 \nQ 14.984375 17.28125 19.8125 11.734375 \nQ 24.65625 6.203125 33.40625 6.203125 \nQ 37.3125 6.203125 41.140625 7.25 \nQ 44.96875 8.296875 48.78125 10.40625 \nL 48.78125 2.09375 \nQ 45.015625 0.34375 40.984375 -0.53125 \nQ 36.96875 -1.421875 32.421875 -1.421875 \nQ 20.0625 -1.421875 12.78125 6.34375 \nQ 5.515625 14.109375 5.515625 27.296875 \nQ 5.515625 40.671875 12.859375 48.328125 \nQ 20.21875 56 33.015625 56 \nQ 37.15625 56 41.109375 55.140625 \nQ 45.0625 54.296875 48.78125 52.59375 \nz\n\" id=\"DejaVuSans-99\"/>\n      <path d=\"M 54.890625 33.015625 \nL 54.890625 0 \nL 45.90625 0 \nL 45.90625 32.71875 \nQ 45.90625 40.484375 42.875 44.328125 \nQ 39.84375 48.1875 33.796875 48.1875 \nQ 26.515625 48.1875 22.3125 43.546875 \nQ 18.109375 38.921875 18.109375 30.90625 \nL 18.109375 0 \nL 9.078125 0 \nL 9.078125 75.984375 \nL 18.109375 75.984375 \nL 18.109375 46.1875 \nQ 21.34375 51.125 25.703125 53.5625 \nQ 30.078125 56 35.796875 56 \nQ 45.21875 56 50.046875 50.171875 \nQ 54.890625 44.34375 54.890625 33.015625 \nz\n\" id=\"DejaVuSans-104\"/>\n     </defs>\n     <g style=\"fill:#262626;\" transform=\"translate(205.832813 263.904063)scale(0.12 -0.12)\">\n      <use xlink:href=\"#DejaVuSans-69\"/>\n      <use x=\"63.183594\" xlink:href=\"#DejaVuSans-112\"/>\n      <use x=\"126.660156\" xlink:href=\"#DejaVuSans-111\"/>\n      <use x=\"187.841797\" xlink:href=\"#DejaVuSans-99\"/>\n      <use x=\"242.822266\" xlink:href=\"#DejaVuSans-104\"/>\n     </g>\n    </g>\n   </g>\n   <g id=\"matplotlib.axis_2\">\n    <g id=\"ytick_1\">\n     <g id=\"line2d_7\">\n      <path clip-path=\"url(#pc034521ba9)\" d=\"M 56.805937 228.482751 \nL 391.605938 228.482751 \n\" style=\"fill:none;stroke:#ffffff;stroke-linecap:round;\"/>\n     </g>\n     <g id=\"text_8\">\n      <!-- 0.25 -->\n      <defs>\n       <path d=\"M 10.6875 12.40625 \nL 21 12.40625 \nL 21 0 \nL 10.6875 0 \nz\n\" id=\"DejaVuSans-46\"/>\n       <path d=\"M 10.796875 72.90625 \nL 49.515625 72.90625 \nL 49.515625 64.59375 \nL 19.828125 64.59375 \nL 19.828125 46.734375 \nQ 21.96875 47.46875 24.109375 47.828125 \nQ 26.265625 48.1875 28.421875 48.1875 \nQ 40.625 48.1875 47.75 41.5 \nQ 54.890625 34.8125 54.890625 23.390625 \nQ 54.890625 11.625 47.5625 5.09375 \nQ 40.234375 -1.421875 26.90625 -1.421875 \nQ 22.3125 -1.421875 17.546875 -0.640625 \nQ 12.796875 0.140625 7.71875 1.703125 \nL 7.71875 11.625 \nQ 12.109375 9.234375 16.796875 8.0625 \nQ 21.484375 6.890625 26.703125 6.890625 \nQ 35.15625 6.890625 40.078125 11.328125 \nQ 45.015625 15.765625 45.015625 23.390625 \nQ 45.015625 31 40.078125 35.4375 \nQ 35.15625 39.890625 26.703125 39.890625 \nQ 22.75 39.890625 18.8125 39.015625 \nQ 14.890625 38.140625 10.796875 36.28125 \nz\n\" id=\"DejaVuSans-53\"/>\n      </defs>\n      <g style=\"fill:#262626;\" transform=\"translate(22.81375 232.661892)scale(0.11 -0.11)\">\n       <use xlink:href=\"#DejaVuSans-48\"/>\n       <use x=\"63.623047\" xlink:href=\"#DejaVuSans-46\"/>\n       <use x=\"95.410156\" xlink:href=\"#DejaVuSans-50\"/>\n       <use x=\"159.033203\" xlink:href=\"#DejaVuSans-53\"/>\n      </g>\n     </g>\n    </g>\n    <g id=\"ytick_2\">\n     <g id=\"line2d_8\">\n      <path clip-path=\"url(#pc034521ba9)\" d=\"M 56.805937 204.087844 \nL 391.605938 204.087844 \n\" style=\"fill:none;stroke:#ffffff;stroke-linecap:round;\"/>\n     </g>\n     <g id=\"text_9\">\n      <!-- 0.30 -->\n      <defs>\n       <path d=\"M 40.578125 39.3125 \nQ 47.65625 37.796875 51.625 33 \nQ 55.609375 28.21875 55.609375 21.1875 \nQ 55.609375 10.40625 48.1875 4.484375 \nQ 40.765625 -1.421875 27.09375 -1.421875 \nQ 22.515625 -1.421875 17.65625 -0.515625 \nQ 12.796875 0.390625 7.625 2.203125 \nL 7.625 11.71875 \nQ 11.71875 9.328125 16.59375 8.109375 \nQ 21.484375 6.890625 26.8125 6.890625 \nQ 36.078125 6.890625 40.9375 10.546875 \nQ 45.796875 14.203125 45.796875 21.1875 \nQ 45.796875 27.640625 41.28125 31.265625 \nQ 36.765625 34.90625 28.71875 34.90625 \nL 20.21875 34.90625 \nL 20.21875 43.015625 \nL 29.109375 43.015625 \nQ 36.375 43.015625 40.234375 45.921875 \nQ 44.09375 48.828125 44.09375 54.296875 \nQ 44.09375 59.90625 40.109375 62.90625 \nQ 36.140625 65.921875 28.71875 65.921875 \nQ 24.65625 65.921875 20.015625 65.03125 \nQ 15.375 64.15625 9.8125 62.3125 \nL 9.8125 71.09375 \nQ 15.4375 72.65625 20.34375 73.4375 \nQ 25.25 74.21875 29.59375 74.21875 \nQ 40.828125 74.21875 47.359375 69.109375 \nQ 53.90625 64.015625 53.90625 55.328125 \nQ 53.90625 49.265625 50.4375 45.09375 \nQ 46.96875 40.921875 40.578125 39.3125 \nz\n\" id=\"DejaVuSans-51\"/>\n      </defs>\n      <g style=\"fill:#262626;\" transform=\"translate(22.81375 208.266984)scale(0.11 -0.11)\">\n       <use xlink:href=\"#DejaVuSans-48\"/>\n       <use x=\"63.623047\" xlink:href=\"#DejaVuSans-46\"/>\n       <use x=\"95.410156\" xlink:href=\"#DejaVuSans-51\"/>\n       <use x=\"159.033203\" xlink:href=\"#DejaVuSans-48\"/>\n      </g>\n     </g>\n    </g>\n    <g id=\"ytick_3\">\n     <g id=\"line2d_9\">\n      <path clip-path=\"url(#pc034521ba9)\" d=\"M 56.805937 179.692937 \nL 391.605938 179.692937 \n\" style=\"fill:none;stroke:#ffffff;stroke-linecap:round;\"/>\n     </g>\n     <g id=\"text_10\">\n      <!-- 0.35 -->\n      <g style=\"fill:#262626;\" transform=\"translate(22.81375 183.872077)scale(0.11 -0.11)\">\n       <use xlink:href=\"#DejaVuSans-48\"/>\n       <use x=\"63.623047\" xlink:href=\"#DejaVuSans-46\"/>\n       <use x=\"95.410156\" xlink:href=\"#DejaVuSans-51\"/>\n       <use x=\"159.033203\" xlink:href=\"#DejaVuSans-53\"/>\n      </g>\n     </g>\n    </g>\n    <g id=\"ytick_4\">\n     <g id=\"line2d_10\">\n      <path clip-path=\"url(#pc034521ba9)\" d=\"M 56.805937 155.29803 \nL 391.605938 155.29803 \n\" style=\"fill:none;stroke:#ffffff;stroke-linecap:round;\"/>\n     </g>\n     <g id=\"text_11\">\n      <!-- 0.40 -->\n      <g style=\"fill:#262626;\" transform=\"translate(22.81375 159.47717)scale(0.11 -0.11)\">\n       <use xlink:href=\"#DejaVuSans-48\"/>\n       <use x=\"63.623047\" xlink:href=\"#DejaVuSans-46\"/>\n       <use x=\"95.410156\" xlink:href=\"#DejaVuSans-52\"/>\n       <use x=\"159.033203\" xlink:href=\"#DejaVuSans-48\"/>\n      </g>\n     </g>\n    </g>\n    <g id=\"ytick_5\">\n     <g id=\"line2d_11\">\n      <path clip-path=\"url(#pc034521ba9)\" d=\"M 56.805937 130.903122 \nL 391.605938 130.903122 \n\" style=\"fill:none;stroke:#ffffff;stroke-linecap:round;\"/>\n     </g>\n     <g id=\"text_12\">\n      <!-- 0.45 -->\n      <g style=\"fill:#262626;\" transform=\"translate(22.81375 135.082263)scale(0.11 -0.11)\">\n       <use xlink:href=\"#DejaVuSans-48\"/>\n       <use x=\"63.623047\" xlink:href=\"#DejaVuSans-46\"/>\n       <use x=\"95.410156\" xlink:href=\"#DejaVuSans-52\"/>\n       <use x=\"159.033203\" xlink:href=\"#DejaVuSans-53\"/>\n      </g>\n     </g>\n    </g>\n    <g id=\"ytick_6\">\n     <g id=\"line2d_12\">\n      <path clip-path=\"url(#pc034521ba9)\" d=\"M 56.805937 106.508215 \nL 391.605938 106.508215 \n\" style=\"fill:none;stroke:#ffffff;stroke-linecap:round;\"/>\n     </g>\n     <g id=\"text_13\">\n      <!-- 0.50 -->\n      <g style=\"fill:#262626;\" transform=\"translate(22.81375 110.687356)scale(0.11 -0.11)\">\n       <use xlink:href=\"#DejaVuSans-48\"/>\n       <use x=\"63.623047\" xlink:href=\"#DejaVuSans-46\"/>\n       <use x=\"95.410156\" xlink:href=\"#DejaVuSans-53\"/>\n       <use x=\"159.033203\" xlink:href=\"#DejaVuSans-48\"/>\n      </g>\n     </g>\n    </g>\n    <g id=\"ytick_7\">\n     <g id=\"line2d_13\">\n      <path clip-path=\"url(#pc034521ba9)\" d=\"M 56.805937 82.113308 \nL 391.605938 82.113308 \n\" style=\"fill:none;stroke:#ffffff;stroke-linecap:round;\"/>\n     </g>\n     <g id=\"text_14\">\n      <!-- 0.55 -->\n      <g style=\"fill:#262626;\" transform=\"translate(22.81375 86.292449)scale(0.11 -0.11)\">\n       <use xlink:href=\"#DejaVuSans-48\"/>\n       <use x=\"63.623047\" xlink:href=\"#DejaVuSans-46\"/>\n       <use x=\"95.410156\" xlink:href=\"#DejaVuSans-53\"/>\n       <use x=\"159.033203\" xlink:href=\"#DejaVuSans-53\"/>\n      </g>\n     </g>\n    </g>\n    <g id=\"ytick_8\">\n     <g id=\"line2d_14\">\n      <path clip-path=\"url(#pc034521ba9)\" d=\"M 56.805937 57.718401 \nL 391.605938 57.718401 \n\" style=\"fill:none;stroke:#ffffff;stroke-linecap:round;\"/>\n     </g>\n     <g id=\"text_15\">\n      <!-- 0.60 -->\n      <g style=\"fill:#262626;\" transform=\"translate(22.81375 61.897542)scale(0.11 -0.11)\">\n       <use xlink:href=\"#DejaVuSans-48\"/>\n       <use x=\"63.623047\" xlink:href=\"#DejaVuSans-46\"/>\n       <use x=\"95.410156\" xlink:href=\"#DejaVuSans-54\"/>\n       <use x=\"159.033203\" xlink:href=\"#DejaVuSans-48\"/>\n      </g>\n     </g>\n    </g>\n    <g id=\"ytick_9\">\n     <g id=\"line2d_15\">\n      <path clip-path=\"url(#pc034521ba9)\" d=\"M 56.805937 33.323494 \nL 391.605938 33.323494 \n\" style=\"fill:none;stroke:#ffffff;stroke-linecap:round;\"/>\n     </g>\n     <g id=\"text_16\">\n      <!-- 0.65 -->\n      <g style=\"fill:#262626;\" transform=\"translate(22.81375 37.502635)scale(0.11 -0.11)\">\n       <use xlink:href=\"#DejaVuSans-48\"/>\n       <use x=\"63.623047\" xlink:href=\"#DejaVuSans-46\"/>\n       <use x=\"95.410156\" xlink:href=\"#DejaVuSans-54\"/>\n       <use x=\"159.033203\" xlink:href=\"#DejaVuSans-53\"/>\n      </g>\n     </g>\n    </g>\n    <g id=\"text_17\">\n     <!-- MAE -->\n     <defs>\n      <path d=\"M 9.8125 72.90625 \nL 24.515625 72.90625 \nL 43.109375 23.296875 \nL 61.8125 72.90625 \nL 76.515625 72.90625 \nL 76.515625 0 \nL 66.890625 0 \nL 66.890625 64.015625 \nL 48.09375 14.015625 \nL 38.1875 14.015625 \nL 19.390625 64.015625 \nL 19.390625 0 \nL 9.8125 0 \nz\n\" id=\"DejaVuSans-77\"/>\n      <path d=\"M 34.1875 63.1875 \nL 20.796875 26.90625 \nL 47.609375 26.90625 \nz\nM 28.609375 72.90625 \nL 39.796875 72.90625 \nL 67.578125 0 \nL 57.328125 0 \nL 50.6875 18.703125 \nL 17.828125 18.703125 \nL 11.1875 0 \nL 0.78125 0 \nz\n\" id=\"DejaVuSans-65\"/>\n     </defs>\n     <g style=\"fill:#262626;\" transform=\"translate(16.318125 134.9925)rotate(-90)scale(0.12 -0.12)\">\n      <use xlink:href=\"#DejaVuSans-77\"/>\n      <use x=\"86.279297\" xlink:href=\"#DejaVuSans-65\"/>\n      <use x=\"154.6875\" xlink:href=\"#DejaVuSans-69\"/>\n     </g>\n    </g>\n   </g>\n   <g id=\"line2d_16\">\n    <path clip-path=\"url(#pc034521ba9)\" d=\"M 72.024119 116.747803 \nL 75.098499 171.81115 \nL 78.17288 182.136657 \nL 81.24726 188.041838 \nL 84.32164 191.150211 \nL 87.39602 194.140528 \nL 90.4704 194.80739 \nL 93.54478 196.270868 \nL 96.619161 197.164644 \nL 99.693541 198.054064 \nL 102.767921 198.605932 \nL 105.842301 199.201917 \nL 108.916681 200.302789 \nL 111.991061 201.023627 \nL 115.065442 201.395102 \nL 118.139822 201.842485 \nL 121.214202 202.540726 \nL 124.288582 202.51271 \nL 127.362962 202.360952 \nL 130.437342 203.541231 \nL 133.511723 203.409078 \nL 136.586103 204.213354 \nL 139.660483 204.59333 \nL 142.734863 204.4733 \nL 145.809243 204.789693 \nL 148.883623 205.430433 \nL 151.958004 205.243205 \nL 155.032384 205.379271 \nL 158.106764 206.150352 \nL 161.181144 206.177206 \nL 164.255524 206.493365 \nL 167.329904 206.536188 \nL 170.404285 206.749684 \nL 173.478665 206.781711 \nL 176.553045 206.995833 \nL 179.627425 207.502165 \nL 182.701805 207.619043 \nL 185.776185 207.207951 \nL 188.850566 207.846528 \nL 191.924946 207.456304 \nL 194.999326 207.86213 \nL 198.073706 207.734729 \nL 201.148086 208.306702 \nL 204.222466 207.595258 \nL 207.296847 208.068745 \nL 210.371227 208.61833 \nL 213.445607 208.635797 \nL 216.519987 209.513669 \nL 219.594367 208.249124 \nL 222.668747 208.538663 \nL 225.743128 208.808751 \nL 228.817508 209.072026 \nL 231.891888 209.186128 \nL 234.966268 209.103399 \nL 238.040648 208.764415 \nL 241.115028 209.2495 \nL 244.189409 208.818966 \nL 247.263789 209.801034 \nL 250.338169 209.664837 \nL 253.412549 209.764867 \nL 256.486929 209.445837 \nL 259.561309 209.736469 \nL 262.63569 209.460251 \nL 265.71007 210.285056 \nL 268.78445 209.824946 \nL 271.85883 209.875327 \nL 274.93321 210.027389 \nL 278.00759 210.312366 \nL 281.081971 210.182216 \nL 284.156351 210.546295 \nL 287.230731 210.008563 \nL 290.305111 210.497998 \nL 293.379491 211.755544 \nL 296.453871 211.793716 \nL 299.528252 211.959133 \nL 302.602632 211.939448 \nL 305.677012 212.09424 \nL 308.751392 212.117705 \nL 311.825772 212.275494 \nL 314.900152 212.284885 \nL 317.974533 212.321124 \nL 321.048913 212.224452 \nL 324.123293 212.185068 \nL 327.197673 212.292105 \nL 330.272053 212.164661 \nL 333.346433 212.718248 \nL 336.420814 212.250824 \nL 339.495194 212.143297 \nL 342.569574 212.918067 \nL 345.643954 212.7328 \nL 348.718334 212.281174 \nL 351.792714 211.931919 \nL 354.867095 212.480572 \nL 357.941475 212.765539 \nL 361.015855 212.477374 \nL 364.090235 212.794262 \nL 367.164615 213.226505 \nL 370.238995 213.193848 \nL 373.313376 212.758722 \nL 376.387756 213.079007 \n\" style=\"fill:none;stroke:#4c72b0;stroke-linecap:round;stroke-width:1.5;\"/>\n   </g>\n   <g id=\"line2d_17\">\n    <path clip-path=\"url(#pc034521ba9)\" d=\"M 72.024119 23.083636 \nL 75.098499 86.362762 \nL 78.17288 179.200711 \nL 81.24726 201.187611 \nL 84.32164 201.603045 \nL 87.39602 207.389822 \nL 90.4704 207.541512 \nL 93.54478 210.213707 \nL 96.619161 209.622734 \nL 99.693541 210.108827 \nL 102.767921 211.73697 \nL 105.842301 212.513048 \nL 108.916681 211.72268 \nL 111.991061 210.263688 \nL 115.065442 210.285029 \nL 118.139822 212.809166 \nL 121.214202 213.568401 \nL 124.288582 212.351153 \nL 127.362962 212.727068 \nL 130.437342 213.124137 \nL 133.511723 215.819252 \nL 136.586103 213.910711 \nL 139.660483 215.280969 \nL 142.734863 215.069511 \nL 145.809243 216.040068 \nL 148.883623 213.665164 \nL 151.958004 214.659669 \nL 155.032384 216.308637 \nL 158.106764 216.327853 \nL 161.181144 215.947233 \nL 164.255524 214.984478 \nL 167.329904 215.066214 \nL 170.404285 215.749549 \nL 173.478665 216.217104 \nL 176.553045 215.849116 \nL 179.627425 216.827088 \nL 182.701805 216.549348 \nL 185.776185 216.794547 \nL 188.850566 217.688631 \nL 191.924946 216.244599 \nL 194.999326 217.364571 \nL 198.073706 217.70381 \nL 201.148086 217.11818 \nL 204.222466 216.948866 \nL 207.296847 215.645676 \nL 210.371227 217.289411 \nL 213.445607 217.044477 \nL 216.519987 218.12408 \nL 219.594367 217.599319 \nL 222.668747 217.435836 \nL 225.743128 215.024849 \nL 228.817508 217.114033 \nL 231.891888 218.858267 \nL 234.966268 217.303646 \nL 238.040648 218.366892 \nL 241.115028 218.22358 \nL 244.189409 216.38286 \nL 247.263789 217.818983 \nL 250.338169 218.307519 \nL 253.412549 218.586294 \nL 256.486929 217.574478 \nL 259.561309 218.951754 \nL 262.63569 215.585277 \nL 265.71007 217.878451 \nL 268.78445 218.369786 \nL 271.85883 218.786875 \nL 274.93321 218.790925 \nL 278.00759 217.38312 \nL 281.081971 217.454238 \nL 284.156351 218.873304 \nL 287.230731 217.85032 \nL 290.305111 218.625033 \nL 293.379491 219.513549 \nL 296.453871 219.933594 \nL 299.528252 219.180435 \nL 302.602632 220.227737 \nL 305.677012 219.822419 \nL 308.751392 220.244854 \nL 311.825772 220.585199 \nL 314.900152 220.302924 \nL 317.974533 220.123311 \nL 321.048913 219.717794 \nL 324.123293 219.467333 \nL 327.197673 220.02604 \nL 330.272053 219.920215 \nL 333.346433 220.756364 \nL 336.420814 220.009014 \nL 339.495194 219.857833 \nL 342.569574 220.062518 \nL 345.643954 220.020149 \nL 348.718334 219.830171 \nL 351.792714 219.989609 \nL 354.867095 220.118429 \nL 357.941475 220.496904 \nL 361.015855 219.636441 \nL 364.090235 220.362947 \nL 367.164615 220.126311 \nL 370.238995 220.479599 \nL 373.313376 220.711958 \nL 376.387756 220.486479 \n\" style=\"fill:none;stroke:#dd8452;stroke-linecap:round;stroke-width:1.5;\"/>\n   </g>\n   <g id=\"patch_3\">\n    <path d=\"M 56.805937 230.64 \nL 56.805937 13.2 \n\" style=\"fill:none;stroke:#ffffff;stroke-linecap:square;stroke-linejoin:miter;stroke-width:1.25;\"/>\n   </g>\n   <g id=\"patch_4\">\n    <path d=\"M 391.605938 230.64 \nL 391.605938 13.2 \n\" style=\"fill:none;stroke:#ffffff;stroke-linecap:square;stroke-linejoin:miter;stroke-width:1.25;\"/>\n   </g>\n   <g id=\"patch_5\">\n    <path d=\"M 56.805937 230.64 \nL 391.605938 230.64 \n\" style=\"fill:none;stroke:#ffffff;stroke-linecap:square;stroke-linejoin:miter;stroke-width:1.25;\"/>\n   </g>\n   <g id=\"patch_6\">\n    <path d=\"M 56.805937 13.2 \nL 391.605938 13.2 \n\" style=\"fill:none;stroke:#ffffff;stroke-linecap:square;stroke-linejoin:miter;stroke-width:1.25;\"/>\n   </g>\n   <g id=\"legend_1\">\n    <g id=\"patch_7\">\n     <path d=\"M 320.72125 54.291875 \nL 383.905938 54.291875 \nQ 386.105938 54.291875 386.105938 52.091875 \nL 386.105938 20.9 \nQ 386.105938 18.7 383.905938 18.7 \nL 320.72125 18.7 \nQ 318.52125 18.7 318.52125 20.9 \nL 318.52125 52.091875 \nQ 318.52125 54.291875 320.72125 54.291875 \nz\n\" style=\"fill:#eaeaf2;opacity:0.8;stroke:#cccccc;stroke-linejoin:miter;\"/>\n    </g>\n    <g id=\"line2d_18\">\n     <path d=\"M 322.92125 27.608281 \nL 344.92125 27.608281 \n\" style=\"fill:none;stroke:#4c72b0;stroke-linecap:round;stroke-width:1.5;\"/>\n    </g>\n    <g id=\"line2d_19\"/>\n    <g id=\"text_18\">\n     <!-- Train -->\n     <defs>\n      <path d=\"M -0.296875 72.90625 \nL 61.375 72.90625 \nL 61.375 64.59375 \nL 35.5 64.59375 \nL 35.5 0 \nL 25.59375 0 \nL 25.59375 64.59375 \nL -0.296875 64.59375 \nz\n\" id=\"DejaVuSans-84\"/>\n      <path d=\"M 41.109375 46.296875 \nQ 39.59375 47.171875 37.8125 47.578125 \nQ 36.03125 48 33.890625 48 \nQ 26.265625 48 22.1875 43.046875 \nQ 18.109375 38.09375 18.109375 28.8125 \nL 18.109375 0 \nL 9.078125 0 \nL 9.078125 54.6875 \nL 18.109375 54.6875 \nL 18.109375 46.1875 \nQ 20.953125 51.171875 25.484375 53.578125 \nQ 30.03125 56 36.53125 56 \nQ 37.453125 56 38.578125 55.875 \nQ 39.703125 55.765625 41.0625 55.515625 \nz\n\" id=\"DejaVuSans-114\"/>\n      <path d=\"M 34.28125 27.484375 \nQ 23.390625 27.484375 19.1875 25 \nQ 14.984375 22.515625 14.984375 16.5 \nQ 14.984375 11.71875 18.140625 8.90625 \nQ 21.296875 6.109375 26.703125 6.109375 \nQ 34.1875 6.109375 38.703125 11.40625 \nQ 43.21875 16.703125 43.21875 25.484375 \nL 43.21875 27.484375 \nz\nM 52.203125 31.203125 \nL 52.203125 0 \nL 43.21875 0 \nL 43.21875 8.296875 \nQ 40.140625 3.328125 35.546875 0.953125 \nQ 30.953125 -1.421875 24.3125 -1.421875 \nQ 15.921875 -1.421875 10.953125 3.296875 \nQ 6 8.015625 6 15.921875 \nQ 6 25.140625 12.171875 29.828125 \nQ 18.359375 34.515625 30.609375 34.515625 \nL 43.21875 34.515625 \nL 43.21875 35.40625 \nQ 43.21875 41.609375 39.140625 45 \nQ 35.0625 48.390625 27.6875 48.390625 \nQ 23 48.390625 18.546875 47.265625 \nQ 14.109375 46.140625 10.015625 43.890625 \nL 10.015625 52.203125 \nQ 14.9375 54.109375 19.578125 55.046875 \nQ 24.21875 56 28.609375 56 \nQ 40.484375 56 46.34375 49.84375 \nQ 52.203125 43.703125 52.203125 31.203125 \nz\n\" id=\"DejaVuSans-97\"/>\n      <path d=\"M 9.421875 54.6875 \nL 18.40625 54.6875 \nL 18.40625 0 \nL 9.421875 0 \nz\nM 9.421875 75.984375 \nL 18.40625 75.984375 \nL 18.40625 64.59375 \nL 9.421875 64.59375 \nz\n\" id=\"DejaVuSans-105\"/>\n      <path d=\"M 54.890625 33.015625 \nL 54.890625 0 \nL 45.90625 0 \nL 45.90625 32.71875 \nQ 45.90625 40.484375 42.875 44.328125 \nQ 39.84375 48.1875 33.796875 48.1875 \nQ 26.515625 48.1875 22.3125 43.546875 \nQ 18.109375 38.921875 18.109375 30.90625 \nL 18.109375 0 \nL 9.078125 0 \nL 9.078125 54.6875 \nL 18.109375 54.6875 \nL 18.109375 46.1875 \nQ 21.34375 51.125 25.703125 53.5625 \nQ 30.078125 56 35.796875 56 \nQ 45.21875 56 50.046875 50.171875 \nQ 54.890625 44.34375 54.890625 33.015625 \nz\n\" id=\"DejaVuSans-110\"/>\n     </defs>\n     <g style=\"fill:#262626;\" transform=\"translate(353.72125 31.458281)scale(0.11 -0.11)\">\n      <use xlink:href=\"#DejaVuSans-84\"/>\n      <use x=\"60.865234\" xlink:href=\"#DejaVuSans-114\"/>\n      <use x=\"101.978516\" xlink:href=\"#DejaVuSans-97\"/>\n      <use x=\"163.257812\" xlink:href=\"#DejaVuSans-105\"/>\n      <use x=\"191.041016\" xlink:href=\"#DejaVuSans-110\"/>\n     </g>\n    </g>\n    <g id=\"line2d_20\">\n     <path d=\"M 322.92125 43.754219 \nL 344.92125 43.754219 \n\" style=\"fill:none;stroke:#dd8452;stroke-linecap:round;stroke-width:1.5;\"/>\n    </g>\n    <g id=\"line2d_21\"/>\n    <g id=\"text_19\">\n     <!-- Val -->\n     <defs>\n      <path d=\"M 28.609375 0 \nL 0.78125 72.90625 \nL 11.078125 72.90625 \nL 34.1875 11.53125 \nL 57.328125 72.90625 \nL 67.578125 72.90625 \nL 39.796875 0 \nz\n\" id=\"DejaVuSans-86\"/>\n      <path d=\"M 9.421875 75.984375 \nL 18.40625 75.984375 \nL 18.40625 0 \nL 9.421875 0 \nz\n\" id=\"DejaVuSans-108\"/>\n     </defs>\n     <g style=\"fill:#262626;\" transform=\"translate(353.72125 47.604219)scale(0.11 -0.11)\">\n      <use xlink:href=\"#DejaVuSans-86\"/>\n      <use x=\"68.298828\" xlink:href=\"#DejaVuSans-97\"/>\n      <use x=\"129.578125\" xlink:href=\"#DejaVuSans-108\"/>\n     </g>\n    </g>\n   </g>\n  </g>\n </g>\n <defs>\n  <clipPath id=\"pc034521ba9\">\n   <rect height=\"217.44\" width=\"334.8\" x=\"56.805937\" y=\"13.2\"/>\n  </clipPath>\n </defs>\n</svg>\n"
          },
          "metadata": {
            "tags": []
          }
        }
      ]
    },
    {
      "cell_type": "code",
      "metadata": {
        "id": "MIvBIawqozC7",
        "colab_type": "code",
        "outputId": "72f115a5-2e6d-4ff8-a90e-6551fcfe14b3",
        "colab": {
          "base_uri": "https://localhost:8080/",
          "height": 386
        }
      },
      "source": [
        "plt.plot(history.history['lr'])\n",
        "plt.xlabel('Epoch')\n",
        "plt.ylabel('Learning Rate')\n",
        "plt.show()"
      ],
      "execution_count": 13,
      "outputs": [
        {
          "output_type": "display_data",
          "data": {
            "text/plain": [
              "<Figure size 432x288 with 1 Axes>"
            ],
            "image/svg+xml": "<?xml version=\"1.0\" encoding=\"utf-8\" standalone=\"no\"?>\n<!DOCTYPE svg PUBLIC \"-//W3C//DTD SVG 1.1//EN\"\n  \"http://www.w3.org/Graphics/SVG/1.1/DTD/svg11.dtd\">\n<!-- Created with matplotlib (https://matplotlib.org/) -->\n<svg height=\"273.599688pt\" version=\"1.1\" viewBox=\"0 0 418.803437 273.599688\" width=\"418.803437pt\" xmlns=\"http://www.w3.org/2000/svg\" xmlns:xlink=\"http://www.w3.org/1999/xlink\">\n <defs>\n  <style type=\"text/css\">\n*{stroke-linecap:butt;stroke-linejoin:round;}\n  </style>\n </defs>\n <g id=\"figure_1\">\n  <g id=\"patch_1\">\n   <path d=\"M 0 273.599688 \nL 418.803437 273.599688 \nL 418.803437 0 \nL 0 0 \nz\n\" style=\"fill:#ffffff;\"/>\n  </g>\n  <g id=\"axes_1\">\n   <g id=\"patch_2\">\n    <path d=\"M 70.803438 230.64 \nL 405.603438 230.64 \nL 405.603438 13.2 \nL 70.803438 13.2 \nz\n\" style=\"fill:#eaeaf2;\"/>\n   </g>\n   <g id=\"matplotlib.axis_1\">\n    <g id=\"xtick_1\">\n     <g id=\"line2d_1\">\n      <path clip-path=\"url(#p7679b15448)\" d=\"M 86.021619 230.64 \nL 86.021619 13.2 \n\" style=\"fill:none;stroke:#ffffff;stroke-linecap:round;\"/>\n     </g>\n     <g id=\"text_1\">\n      <!-- 0 -->\n      <defs>\n       <path d=\"M 31.78125 66.40625 \nQ 24.171875 66.40625 20.328125 58.90625 \nQ 16.5 51.421875 16.5 36.375 \nQ 16.5 21.390625 20.328125 13.890625 \nQ 24.171875 6.390625 31.78125 6.390625 \nQ 39.453125 6.390625 43.28125 13.890625 \nQ 47.125 21.390625 47.125 36.375 \nQ 47.125 51.421875 43.28125 58.90625 \nQ 39.453125 66.40625 31.78125 66.40625 \nz\nM 31.78125 74.21875 \nQ 44.046875 74.21875 50.515625 64.515625 \nQ 56.984375 54.828125 56.984375 36.375 \nQ 56.984375 17.96875 50.515625 8.265625 \nQ 44.046875 -1.421875 31.78125 -1.421875 \nQ 19.53125 -1.421875 13.0625 8.265625 \nQ 6.59375 17.96875 6.59375 36.375 \nQ 6.59375 54.828125 13.0625 64.515625 \nQ 19.53125 74.21875 31.78125 74.21875 \nz\n\" id=\"DejaVuSans-48\"/>\n      </defs>\n      <g style=\"fill:#262626;\" transform=\"translate(82.522244 248.498281)scale(0.11 -0.11)\">\n       <use xlink:href=\"#DejaVuSans-48\"/>\n      </g>\n     </g>\n    </g>\n    <g id=\"xtick_2\">\n     <g id=\"line2d_2\">\n      <path clip-path=\"url(#p7679b15448)\" d=\"M 147.509223 230.64 \nL 147.509223 13.2 \n\" style=\"fill:none;stroke:#ffffff;stroke-linecap:round;\"/>\n     </g>\n     <g id=\"text_2\">\n      <!-- 20 -->\n      <defs>\n       <path d=\"M 19.1875 8.296875 \nL 53.609375 8.296875 \nL 53.609375 0 \nL 7.328125 0 \nL 7.328125 8.296875 \nQ 12.9375 14.109375 22.625 23.890625 \nQ 32.328125 33.6875 34.8125 36.53125 \nQ 39.546875 41.84375 41.421875 45.53125 \nQ 43.3125 49.21875 43.3125 52.78125 \nQ 43.3125 58.59375 39.234375 62.25 \nQ 35.15625 65.921875 28.609375 65.921875 \nQ 23.96875 65.921875 18.8125 64.3125 \nQ 13.671875 62.703125 7.8125 59.421875 \nL 7.8125 69.390625 \nQ 13.765625 71.78125 18.9375 73 \nQ 24.125 74.21875 28.421875 74.21875 \nQ 39.75 74.21875 46.484375 68.546875 \nQ 53.21875 62.890625 53.21875 53.421875 \nQ 53.21875 48.921875 51.53125 44.890625 \nQ 49.859375 40.875 45.40625 35.40625 \nQ 44.1875 33.984375 37.640625 27.21875 \nQ 31.109375 20.453125 19.1875 8.296875 \nz\n\" id=\"DejaVuSans-50\"/>\n      </defs>\n      <g style=\"fill:#262626;\" transform=\"translate(140.510473 248.498281)scale(0.11 -0.11)\">\n       <use xlink:href=\"#DejaVuSans-50\"/>\n       <use x=\"63.623047\" xlink:href=\"#DejaVuSans-48\"/>\n      </g>\n     </g>\n    </g>\n    <g id=\"xtick_3\">\n     <g id=\"line2d_3\">\n      <path clip-path=\"url(#p7679b15448)\" d=\"M 208.996826 230.64 \nL 208.996826 13.2 \n\" style=\"fill:none;stroke:#ffffff;stroke-linecap:round;\"/>\n     </g>\n     <g id=\"text_3\">\n      <!-- 40 -->\n      <defs>\n       <path d=\"M 37.796875 64.3125 \nL 12.890625 25.390625 \nL 37.796875 25.390625 \nz\nM 35.203125 72.90625 \nL 47.609375 72.90625 \nL 47.609375 25.390625 \nL 58.015625 25.390625 \nL 58.015625 17.1875 \nL 47.609375 17.1875 \nL 47.609375 0 \nL 37.796875 0 \nL 37.796875 17.1875 \nL 4.890625 17.1875 \nL 4.890625 26.703125 \nz\n\" id=\"DejaVuSans-52\"/>\n      </defs>\n      <g style=\"fill:#262626;\" transform=\"translate(201.998076 248.498281)scale(0.11 -0.11)\">\n       <use xlink:href=\"#DejaVuSans-52\"/>\n       <use x=\"63.623047\" xlink:href=\"#DejaVuSans-48\"/>\n      </g>\n     </g>\n    </g>\n    <g id=\"xtick_4\">\n     <g id=\"line2d_4\">\n      <path clip-path=\"url(#p7679b15448)\" d=\"M 270.484429 230.64 \nL 270.484429 13.2 \n\" style=\"fill:none;stroke:#ffffff;stroke-linecap:round;\"/>\n     </g>\n     <g id=\"text_4\">\n      <!-- 60 -->\n      <defs>\n       <path d=\"M 33.015625 40.375 \nQ 26.375 40.375 22.484375 35.828125 \nQ 18.609375 31.296875 18.609375 23.390625 \nQ 18.609375 15.53125 22.484375 10.953125 \nQ 26.375 6.390625 33.015625 6.390625 \nQ 39.65625 6.390625 43.53125 10.953125 \nQ 47.40625 15.53125 47.40625 23.390625 \nQ 47.40625 31.296875 43.53125 35.828125 \nQ 39.65625 40.375 33.015625 40.375 \nz\nM 52.59375 71.296875 \nL 52.59375 62.3125 \nQ 48.875 64.0625 45.09375 64.984375 \nQ 41.3125 65.921875 37.59375 65.921875 \nQ 27.828125 65.921875 22.671875 59.328125 \nQ 17.53125 52.734375 16.796875 39.40625 \nQ 19.671875 43.65625 24.015625 45.921875 \nQ 28.375 48.1875 33.59375 48.1875 \nQ 44.578125 48.1875 50.953125 41.515625 \nQ 57.328125 34.859375 57.328125 23.390625 \nQ 57.328125 12.15625 50.6875 5.359375 \nQ 44.046875 -1.421875 33.015625 -1.421875 \nQ 20.359375 -1.421875 13.671875 8.265625 \nQ 6.984375 17.96875 6.984375 36.375 \nQ 6.984375 53.65625 15.1875 63.9375 \nQ 23.390625 74.21875 37.203125 74.21875 \nQ 40.921875 74.21875 44.703125 73.484375 \nQ 48.484375 72.75 52.59375 71.296875 \nz\n\" id=\"DejaVuSans-54\"/>\n      </defs>\n      <g style=\"fill:#262626;\" transform=\"translate(263.485679 248.498281)scale(0.11 -0.11)\">\n       <use xlink:href=\"#DejaVuSans-54\"/>\n       <use x=\"63.623047\" xlink:href=\"#DejaVuSans-48\"/>\n      </g>\n     </g>\n    </g>\n    <g id=\"xtick_5\">\n     <g id=\"line2d_5\">\n      <path clip-path=\"url(#p7679b15448)\" d=\"M 331.972033 230.64 \nL 331.972033 13.2 \n\" style=\"fill:none;stroke:#ffffff;stroke-linecap:round;\"/>\n     </g>\n     <g id=\"text_5\">\n      <!-- 80 -->\n      <defs>\n       <path d=\"M 31.78125 34.625 \nQ 24.75 34.625 20.71875 30.859375 \nQ 16.703125 27.09375 16.703125 20.515625 \nQ 16.703125 13.921875 20.71875 10.15625 \nQ 24.75 6.390625 31.78125 6.390625 \nQ 38.8125 6.390625 42.859375 10.171875 \nQ 46.921875 13.96875 46.921875 20.515625 \nQ 46.921875 27.09375 42.890625 30.859375 \nQ 38.875 34.625 31.78125 34.625 \nz\nM 21.921875 38.8125 \nQ 15.578125 40.375 12.03125 44.71875 \nQ 8.5 49.078125 8.5 55.328125 \nQ 8.5 64.0625 14.71875 69.140625 \nQ 20.953125 74.21875 31.78125 74.21875 \nQ 42.671875 74.21875 48.875 69.140625 \nQ 55.078125 64.0625 55.078125 55.328125 \nQ 55.078125 49.078125 51.53125 44.71875 \nQ 48 40.375 41.703125 38.8125 \nQ 48.828125 37.15625 52.796875 32.3125 \nQ 56.78125 27.484375 56.78125 20.515625 \nQ 56.78125 9.90625 50.3125 4.234375 \nQ 43.84375 -1.421875 31.78125 -1.421875 \nQ 19.734375 -1.421875 13.25 4.234375 \nQ 6.78125 9.90625 6.78125 20.515625 \nQ 6.78125 27.484375 10.78125 32.3125 \nQ 14.796875 37.15625 21.921875 38.8125 \nz\nM 18.3125 54.390625 \nQ 18.3125 48.734375 21.84375 45.5625 \nQ 25.390625 42.390625 31.78125 42.390625 \nQ 38.140625 42.390625 41.71875 45.5625 \nQ 45.3125 48.734375 45.3125 54.390625 \nQ 45.3125 60.0625 41.71875 63.234375 \nQ 38.140625 66.40625 31.78125 66.40625 \nQ 25.390625 66.40625 21.84375 63.234375 \nQ 18.3125 60.0625 18.3125 54.390625 \nz\n\" id=\"DejaVuSans-56\"/>\n      </defs>\n      <g style=\"fill:#262626;\" transform=\"translate(324.973283 248.498281)scale(0.11 -0.11)\">\n       <use xlink:href=\"#DejaVuSans-56\"/>\n       <use x=\"63.623047\" xlink:href=\"#DejaVuSans-48\"/>\n      </g>\n     </g>\n    </g>\n    <g id=\"xtick_6\">\n     <g id=\"line2d_6\">\n      <path clip-path=\"url(#p7679b15448)\" d=\"M 393.459636 230.64 \nL 393.459636 13.2 \n\" style=\"fill:none;stroke:#ffffff;stroke-linecap:round;\"/>\n     </g>\n     <g id=\"text_6\">\n      <!-- 100 -->\n      <defs>\n       <path d=\"M 12.40625 8.296875 \nL 28.515625 8.296875 \nL 28.515625 63.921875 \nL 10.984375 60.40625 \nL 10.984375 69.390625 \nL 28.421875 72.90625 \nL 38.28125 72.90625 \nL 38.28125 8.296875 \nL 54.390625 8.296875 \nL 54.390625 0 \nL 12.40625 0 \nz\n\" id=\"DejaVuSans-49\"/>\n      </defs>\n      <g style=\"fill:#262626;\" transform=\"translate(382.961511 248.498281)scale(0.11 -0.11)\">\n       <use xlink:href=\"#DejaVuSans-49\"/>\n       <use x=\"63.623047\" xlink:href=\"#DejaVuSans-48\"/>\n       <use x=\"127.246094\" xlink:href=\"#DejaVuSans-48\"/>\n      </g>\n     </g>\n    </g>\n    <g id=\"text_7\">\n     <!-- Epoch -->\n     <defs>\n      <path d=\"M 9.8125 72.90625 \nL 55.90625 72.90625 \nL 55.90625 64.59375 \nL 19.671875 64.59375 \nL 19.671875 43.015625 \nL 54.390625 43.015625 \nL 54.390625 34.71875 \nL 19.671875 34.71875 \nL 19.671875 8.296875 \nL 56.78125 8.296875 \nL 56.78125 0 \nL 9.8125 0 \nz\n\" id=\"DejaVuSans-69\"/>\n      <path d=\"M 18.109375 8.203125 \nL 18.109375 -20.796875 \nL 9.078125 -20.796875 \nL 9.078125 54.6875 \nL 18.109375 54.6875 \nL 18.109375 46.390625 \nQ 20.953125 51.265625 25.265625 53.625 \nQ 29.59375 56 35.59375 56 \nQ 45.5625 56 51.78125 48.09375 \nQ 58.015625 40.1875 58.015625 27.296875 \nQ 58.015625 14.40625 51.78125 6.484375 \nQ 45.5625 -1.421875 35.59375 -1.421875 \nQ 29.59375 -1.421875 25.265625 0.953125 \nQ 20.953125 3.328125 18.109375 8.203125 \nz\nM 48.6875 27.296875 \nQ 48.6875 37.203125 44.609375 42.84375 \nQ 40.53125 48.484375 33.40625 48.484375 \nQ 26.265625 48.484375 22.1875 42.84375 \nQ 18.109375 37.203125 18.109375 27.296875 \nQ 18.109375 17.390625 22.1875 11.75 \nQ 26.265625 6.109375 33.40625 6.109375 \nQ 40.53125 6.109375 44.609375 11.75 \nQ 48.6875 17.390625 48.6875 27.296875 \nz\n\" id=\"DejaVuSans-112\"/>\n      <path d=\"M 30.609375 48.390625 \nQ 23.390625 48.390625 19.1875 42.75 \nQ 14.984375 37.109375 14.984375 27.296875 \nQ 14.984375 17.484375 19.15625 11.84375 \nQ 23.34375 6.203125 30.609375 6.203125 \nQ 37.796875 6.203125 41.984375 11.859375 \nQ 46.1875 17.53125 46.1875 27.296875 \nQ 46.1875 37.015625 41.984375 42.703125 \nQ 37.796875 48.390625 30.609375 48.390625 \nz\nM 30.609375 56 \nQ 42.328125 56 49.015625 48.375 \nQ 55.71875 40.765625 55.71875 27.296875 \nQ 55.71875 13.875 49.015625 6.21875 \nQ 42.328125 -1.421875 30.609375 -1.421875 \nQ 18.84375 -1.421875 12.171875 6.21875 \nQ 5.515625 13.875 5.515625 27.296875 \nQ 5.515625 40.765625 12.171875 48.375 \nQ 18.84375 56 30.609375 56 \nz\n\" id=\"DejaVuSans-111\"/>\n      <path d=\"M 48.78125 52.59375 \nL 48.78125 44.1875 \nQ 44.96875 46.296875 41.140625 47.34375 \nQ 37.3125 48.390625 33.40625 48.390625 \nQ 24.65625 48.390625 19.8125 42.84375 \nQ 14.984375 37.3125 14.984375 27.296875 \nQ 14.984375 17.28125 19.8125 11.734375 \nQ 24.65625 6.203125 33.40625 6.203125 \nQ 37.3125 6.203125 41.140625 7.25 \nQ 44.96875 8.296875 48.78125 10.40625 \nL 48.78125 2.09375 \nQ 45.015625 0.34375 40.984375 -0.53125 \nQ 36.96875 -1.421875 32.421875 -1.421875 \nQ 20.0625 -1.421875 12.78125 6.34375 \nQ 5.515625 14.109375 5.515625 27.296875 \nQ 5.515625 40.671875 12.859375 48.328125 \nQ 20.21875 56 33.015625 56 \nQ 37.15625 56 41.109375 55.140625 \nQ 45.0625 54.296875 48.78125 52.59375 \nz\n\" id=\"DejaVuSans-99\"/>\n      <path d=\"M 54.890625 33.015625 \nL 54.890625 0 \nL 45.90625 0 \nL 45.90625 32.71875 \nQ 45.90625 40.484375 42.875 44.328125 \nQ 39.84375 48.1875 33.796875 48.1875 \nQ 26.515625 48.1875 22.3125 43.546875 \nQ 18.109375 38.921875 18.109375 30.90625 \nL 18.109375 0 \nL 9.078125 0 \nL 9.078125 75.984375 \nL 18.109375 75.984375 \nL 18.109375 46.1875 \nQ 21.34375 51.125 25.703125 53.5625 \nQ 30.078125 56 35.796875 56 \nQ 45.21875 56 50.046875 50.171875 \nQ 54.890625 44.34375 54.890625 33.015625 \nz\n\" id=\"DejaVuSans-104\"/>\n     </defs>\n     <g style=\"fill:#262626;\" transform=\"translate(219.830313 263.904063)scale(0.12 -0.12)\">\n      <use xlink:href=\"#DejaVuSans-69\"/>\n      <use x=\"63.183594\" xlink:href=\"#DejaVuSans-112\"/>\n      <use x=\"126.660156\" xlink:href=\"#DejaVuSans-111\"/>\n      <use x=\"187.841797\" xlink:href=\"#DejaVuSans-99\"/>\n      <use x=\"242.822266\" xlink:href=\"#DejaVuSans-104\"/>\n     </g>\n    </g>\n   </g>\n   <g id=\"matplotlib.axis_2\">\n    <g id=\"ytick_1\">\n     <g id=\"line2d_7\">\n      <path clip-path=\"url(#p7679b15448)\" d=\"M 70.803438 228.992727 \nL 405.603438 228.992727 \n\" style=\"fill:none;stroke:#ffffff;stroke-linecap:round;\"/>\n     </g>\n     <g id=\"text_8\">\n      <!-- 0.0000 -->\n      <defs>\n       <path d=\"M 10.6875 12.40625 \nL 21 12.40625 \nL 21 0 \nL 10.6875 0 \nz\n\" id=\"DejaVuSans-46\"/>\n      </defs>\n      <g style=\"fill:#262626;\" transform=\"translate(22.81375 233.171868)scale(0.11 -0.11)\">\n       <use xlink:href=\"#DejaVuSans-48\"/>\n       <use x=\"63.623047\" xlink:href=\"#DejaVuSans-46\"/>\n       <use x=\"95.410156\" xlink:href=\"#DejaVuSans-48\"/>\n       <use x=\"159.033203\" xlink:href=\"#DejaVuSans-48\"/>\n       <use x=\"222.65625\" xlink:href=\"#DejaVuSans-48\"/>\n       <use x=\"286.279297\" xlink:href=\"#DejaVuSans-48\"/>\n      </g>\n     </g>\n    </g>\n    <g id=\"ytick_2\">\n     <g id=\"line2d_8\">\n      <path clip-path=\"url(#p7679b15448)\" d=\"M 70.803438 187.810911 \nL 405.603438 187.810911 \n\" style=\"fill:none;stroke:#ffffff;stroke-linecap:round;\"/>\n     </g>\n     <g id=\"text_9\">\n      <!-- 0.0002 -->\n      <g style=\"fill:#262626;\" transform=\"translate(22.81375 191.990052)scale(0.11 -0.11)\">\n       <use xlink:href=\"#DejaVuSans-48\"/>\n       <use x=\"63.623047\" xlink:href=\"#DejaVuSans-46\"/>\n       <use x=\"95.410156\" xlink:href=\"#DejaVuSans-48\"/>\n       <use x=\"159.033203\" xlink:href=\"#DejaVuSans-48\"/>\n       <use x=\"222.65625\" xlink:href=\"#DejaVuSans-48\"/>\n       <use x=\"286.279297\" xlink:href=\"#DejaVuSans-50\"/>\n      </g>\n     </g>\n    </g>\n    <g id=\"ytick_3\">\n     <g id=\"line2d_9\">\n      <path clip-path=\"url(#p7679b15448)\" d=\"M 70.803438 146.629095 \nL 405.603438 146.629095 \n\" style=\"fill:none;stroke:#ffffff;stroke-linecap:round;\"/>\n     </g>\n     <g id=\"text_10\">\n      <!-- 0.0004 -->\n      <g style=\"fill:#262626;\" transform=\"translate(22.81375 150.808236)scale(0.11 -0.11)\">\n       <use xlink:href=\"#DejaVuSans-48\"/>\n       <use x=\"63.623047\" xlink:href=\"#DejaVuSans-46\"/>\n       <use x=\"95.410156\" xlink:href=\"#DejaVuSans-48\"/>\n       <use x=\"159.033203\" xlink:href=\"#DejaVuSans-48\"/>\n       <use x=\"222.65625\" xlink:href=\"#DejaVuSans-48\"/>\n       <use x=\"286.279297\" xlink:href=\"#DejaVuSans-52\"/>\n      </g>\n     </g>\n    </g>\n    <g id=\"ytick_4\">\n     <g id=\"line2d_10\">\n      <path clip-path=\"url(#p7679b15448)\" d=\"M 70.803438 105.447279 \nL 405.603438 105.447279 \n\" style=\"fill:none;stroke:#ffffff;stroke-linecap:round;\"/>\n     </g>\n     <g id=\"text_11\">\n      <!-- 0.0006 -->\n      <g style=\"fill:#262626;\" transform=\"translate(22.81375 109.626419)scale(0.11 -0.11)\">\n       <use xlink:href=\"#DejaVuSans-48\"/>\n       <use x=\"63.623047\" xlink:href=\"#DejaVuSans-46\"/>\n       <use x=\"95.410156\" xlink:href=\"#DejaVuSans-48\"/>\n       <use x=\"159.033203\" xlink:href=\"#DejaVuSans-48\"/>\n       <use x=\"222.65625\" xlink:href=\"#DejaVuSans-48\"/>\n       <use x=\"286.279297\" xlink:href=\"#DejaVuSans-54\"/>\n      </g>\n     </g>\n    </g>\n    <g id=\"ytick_5\">\n     <g id=\"line2d_11\">\n      <path clip-path=\"url(#p7679b15448)\" d=\"M 70.803438 64.265462 \nL 405.603438 64.265462 \n\" style=\"fill:none;stroke:#ffffff;stroke-linecap:round;\"/>\n     </g>\n     <g id=\"text_12\">\n      <!-- 0.0008 -->\n      <g style=\"fill:#262626;\" transform=\"translate(22.81375 68.444603)scale(0.11 -0.11)\">\n       <use xlink:href=\"#DejaVuSans-48\"/>\n       <use x=\"63.623047\" xlink:href=\"#DejaVuSans-46\"/>\n       <use x=\"95.410156\" xlink:href=\"#DejaVuSans-48\"/>\n       <use x=\"159.033203\" xlink:href=\"#DejaVuSans-48\"/>\n       <use x=\"222.65625\" xlink:href=\"#DejaVuSans-48\"/>\n       <use x=\"286.279297\" xlink:href=\"#DejaVuSans-56\"/>\n      </g>\n     </g>\n    </g>\n    <g id=\"ytick_6\">\n     <g id=\"line2d_12\">\n      <path clip-path=\"url(#p7679b15448)\" d=\"M 70.803438 23.083646 \nL 405.603438 23.083646 \n\" style=\"fill:none;stroke:#ffffff;stroke-linecap:round;\"/>\n     </g>\n     <g id=\"text_13\">\n      <!-- 0.0010 -->\n      <g style=\"fill:#262626;\" transform=\"translate(22.81375 27.262787)scale(0.11 -0.11)\">\n       <use xlink:href=\"#DejaVuSans-48\"/>\n       <use x=\"63.623047\" xlink:href=\"#DejaVuSans-46\"/>\n       <use x=\"95.410156\" xlink:href=\"#DejaVuSans-48\"/>\n       <use x=\"159.033203\" xlink:href=\"#DejaVuSans-48\"/>\n       <use x=\"222.65625\" xlink:href=\"#DejaVuSans-49\"/>\n       <use x=\"286.279297\" xlink:href=\"#DejaVuSans-48\"/>\n      </g>\n     </g>\n    </g>\n    <g id=\"text_14\">\n     <!-- Learning Rate -->\n     <defs>\n      <path d=\"M 9.8125 72.90625 \nL 19.671875 72.90625 \nL 19.671875 8.296875 \nL 55.171875 8.296875 \nL 55.171875 0 \nL 9.8125 0 \nz\n\" id=\"DejaVuSans-76\"/>\n      <path d=\"M 56.203125 29.59375 \nL 56.203125 25.203125 \nL 14.890625 25.203125 \nQ 15.484375 15.921875 20.484375 11.0625 \nQ 25.484375 6.203125 34.421875 6.203125 \nQ 39.59375 6.203125 44.453125 7.46875 \nQ 49.3125 8.734375 54.109375 11.28125 \nL 54.109375 2.78125 \nQ 49.265625 0.734375 44.1875 -0.34375 \nQ 39.109375 -1.421875 33.890625 -1.421875 \nQ 20.796875 -1.421875 13.15625 6.1875 \nQ 5.515625 13.8125 5.515625 26.8125 \nQ 5.515625 40.234375 12.765625 48.109375 \nQ 20.015625 56 32.328125 56 \nQ 43.359375 56 49.78125 48.890625 \nQ 56.203125 41.796875 56.203125 29.59375 \nz\nM 47.21875 32.234375 \nQ 47.125 39.59375 43.09375 43.984375 \nQ 39.0625 48.390625 32.421875 48.390625 \nQ 24.90625 48.390625 20.390625 44.140625 \nQ 15.875 39.890625 15.1875 32.171875 \nz\n\" id=\"DejaVuSans-101\"/>\n      <path d=\"M 34.28125 27.484375 \nQ 23.390625 27.484375 19.1875 25 \nQ 14.984375 22.515625 14.984375 16.5 \nQ 14.984375 11.71875 18.140625 8.90625 \nQ 21.296875 6.109375 26.703125 6.109375 \nQ 34.1875 6.109375 38.703125 11.40625 \nQ 43.21875 16.703125 43.21875 25.484375 \nL 43.21875 27.484375 \nz\nM 52.203125 31.203125 \nL 52.203125 0 \nL 43.21875 0 \nL 43.21875 8.296875 \nQ 40.140625 3.328125 35.546875 0.953125 \nQ 30.953125 -1.421875 24.3125 -1.421875 \nQ 15.921875 -1.421875 10.953125 3.296875 \nQ 6 8.015625 6 15.921875 \nQ 6 25.140625 12.171875 29.828125 \nQ 18.359375 34.515625 30.609375 34.515625 \nL 43.21875 34.515625 \nL 43.21875 35.40625 \nQ 43.21875 41.609375 39.140625 45 \nQ 35.0625 48.390625 27.6875 48.390625 \nQ 23 48.390625 18.546875 47.265625 \nQ 14.109375 46.140625 10.015625 43.890625 \nL 10.015625 52.203125 \nQ 14.9375 54.109375 19.578125 55.046875 \nQ 24.21875 56 28.609375 56 \nQ 40.484375 56 46.34375 49.84375 \nQ 52.203125 43.703125 52.203125 31.203125 \nz\n\" id=\"DejaVuSans-97\"/>\n      <path d=\"M 41.109375 46.296875 \nQ 39.59375 47.171875 37.8125 47.578125 \nQ 36.03125 48 33.890625 48 \nQ 26.265625 48 22.1875 43.046875 \nQ 18.109375 38.09375 18.109375 28.8125 \nL 18.109375 0 \nL 9.078125 0 \nL 9.078125 54.6875 \nL 18.109375 54.6875 \nL 18.109375 46.1875 \nQ 20.953125 51.171875 25.484375 53.578125 \nQ 30.03125 56 36.53125 56 \nQ 37.453125 56 38.578125 55.875 \nQ 39.703125 55.765625 41.0625 55.515625 \nz\n\" id=\"DejaVuSans-114\"/>\n      <path d=\"M 54.890625 33.015625 \nL 54.890625 0 \nL 45.90625 0 \nL 45.90625 32.71875 \nQ 45.90625 40.484375 42.875 44.328125 \nQ 39.84375 48.1875 33.796875 48.1875 \nQ 26.515625 48.1875 22.3125 43.546875 \nQ 18.109375 38.921875 18.109375 30.90625 \nL 18.109375 0 \nL 9.078125 0 \nL 9.078125 54.6875 \nL 18.109375 54.6875 \nL 18.109375 46.1875 \nQ 21.34375 51.125 25.703125 53.5625 \nQ 30.078125 56 35.796875 56 \nQ 45.21875 56 50.046875 50.171875 \nQ 54.890625 44.34375 54.890625 33.015625 \nz\n\" id=\"DejaVuSans-110\"/>\n      <path d=\"M 9.421875 54.6875 \nL 18.40625 54.6875 \nL 18.40625 0 \nL 9.421875 0 \nz\nM 9.421875 75.984375 \nL 18.40625 75.984375 \nL 18.40625 64.59375 \nL 9.421875 64.59375 \nz\n\" id=\"DejaVuSans-105\"/>\n      <path d=\"M 45.40625 27.984375 \nQ 45.40625 37.75 41.375 43.109375 \nQ 37.359375 48.484375 30.078125 48.484375 \nQ 22.859375 48.484375 18.828125 43.109375 \nQ 14.796875 37.75 14.796875 27.984375 \nQ 14.796875 18.265625 18.828125 12.890625 \nQ 22.859375 7.515625 30.078125 7.515625 \nQ 37.359375 7.515625 41.375 12.890625 \nQ 45.40625 18.265625 45.40625 27.984375 \nz\nM 54.390625 6.78125 \nQ 54.390625 -7.171875 48.1875 -13.984375 \nQ 42 -20.796875 29.203125 -20.796875 \nQ 24.46875 -20.796875 20.265625 -20.09375 \nQ 16.0625 -19.390625 12.109375 -17.921875 \nL 12.109375 -9.1875 \nQ 16.0625 -11.328125 19.921875 -12.34375 \nQ 23.78125 -13.375 27.78125 -13.375 \nQ 36.625 -13.375 41.015625 -8.765625 \nQ 45.40625 -4.15625 45.40625 5.171875 \nL 45.40625 9.625 \nQ 42.625 4.78125 38.28125 2.390625 \nQ 33.9375 0 27.875 0 \nQ 17.828125 0 11.671875 7.65625 \nQ 5.515625 15.328125 5.515625 27.984375 \nQ 5.515625 40.671875 11.671875 48.328125 \nQ 17.828125 56 27.875 56 \nQ 33.9375 56 38.28125 53.609375 \nQ 42.625 51.21875 45.40625 46.390625 \nL 45.40625 54.6875 \nL 54.390625 54.6875 \nz\n\" id=\"DejaVuSans-103\"/>\n      <path id=\"DejaVuSans-32\"/>\n      <path d=\"M 44.390625 34.1875 \nQ 47.5625 33.109375 50.5625 29.59375 \nQ 53.5625 26.078125 56.59375 19.921875 \nL 66.609375 0 \nL 56 0 \nL 46.6875 18.703125 \nQ 43.0625 26.03125 39.671875 28.421875 \nQ 36.28125 30.8125 30.421875 30.8125 \nL 19.671875 30.8125 \nL 19.671875 0 \nL 9.8125 0 \nL 9.8125 72.90625 \nL 32.078125 72.90625 \nQ 44.578125 72.90625 50.734375 67.671875 \nQ 56.890625 62.453125 56.890625 51.90625 \nQ 56.890625 45.015625 53.6875 40.46875 \nQ 50.484375 35.9375 44.390625 34.1875 \nz\nM 19.671875 64.796875 \nL 19.671875 38.921875 \nL 32.078125 38.921875 \nQ 39.203125 38.921875 42.84375 42.21875 \nQ 46.484375 45.515625 46.484375 51.90625 \nQ 46.484375 58.296875 42.84375 61.546875 \nQ 39.203125 64.796875 32.078125 64.796875 \nz\n\" id=\"DejaVuSans-82\"/>\n      <path d=\"M 18.3125 70.21875 \nL 18.3125 54.6875 \nL 36.8125 54.6875 \nL 36.8125 47.703125 \nL 18.3125 47.703125 \nL 18.3125 18.015625 \nQ 18.3125 11.328125 20.140625 9.421875 \nQ 21.96875 7.515625 27.59375 7.515625 \nL 36.8125 7.515625 \nL 36.8125 0 \nL 27.59375 0 \nQ 17.1875 0 13.234375 3.875 \nQ 9.28125 7.765625 9.28125 18.015625 \nL 9.28125 47.703125 \nL 2.6875 47.703125 \nL 2.6875 54.6875 \nL 9.28125 54.6875 \nL 9.28125 70.21875 \nz\n\" id=\"DejaVuSans-116\"/>\n     </defs>\n     <g style=\"fill:#262626;\" transform=\"translate(16.318125 163.9725)rotate(-90)scale(0.12 -0.12)\">\n      <use xlink:href=\"#DejaVuSans-76\"/>\n      <use x=\"55.697266\" xlink:href=\"#DejaVuSans-101\"/>\n      <use x=\"117.220703\" xlink:href=\"#DejaVuSans-97\"/>\n      <use x=\"178.5\" xlink:href=\"#DejaVuSans-114\"/>\n      <use x=\"219.597656\" xlink:href=\"#DejaVuSans-110\"/>\n      <use x=\"282.976562\" xlink:href=\"#DejaVuSans-105\"/>\n      <use x=\"310.759766\" xlink:href=\"#DejaVuSans-110\"/>\n      <use x=\"374.138672\" xlink:href=\"#DejaVuSans-103\"/>\n      <use x=\"437.615234\" xlink:href=\"#DejaVuSans-32\"/>\n      <use x=\"469.402344\" xlink:href=\"#DejaVuSans-82\"/>\n      <use x=\"538.853516\" xlink:href=\"#DejaVuSans-97\"/>\n      <use x=\"600.132812\" xlink:href=\"#DejaVuSans-116\"/>\n      <use x=\"639.341797\" xlink:href=\"#DejaVuSans-101\"/>\n     </g>\n    </g>\n   </g>\n   <g id=\"line2d_13\">\n    <path clip-path=\"url(#p7679b15448)\" d=\"M 86.021619 23.083636 \nL 89.095999 23.083636 \nL 92.17038 23.083636 \nL 95.24476 23.083636 \nL 98.31914 23.083636 \nL 101.39352 23.083636 \nL 104.4679 23.083636 \nL 107.54228 23.083636 \nL 110.616661 23.083636 \nL 113.691041 23.083636 \nL 116.765421 23.083636 \nL 119.839801 23.083636 \nL 122.914181 23.083636 \nL 125.988561 23.083636 \nL 129.062942 23.083636 \nL 132.137322 23.083636 \nL 135.211702 23.083636 \nL 138.286082 23.083636 \nL 141.360462 23.083636 \nL 144.434842 23.083636 \nL 147.509223 23.083636 \nL 150.583603 23.083636 \nL 153.657983 23.083636 \nL 156.732363 23.083636 \nL 159.806743 23.083636 \nL 162.881123 23.083636 \nL 165.955504 23.083636 \nL 169.029884 23.083636 \nL 172.104264 23.083636 \nL 175.178644 23.083636 \nL 178.253024 23.083636 \nL 181.327404 23.083636 \nL 184.401785 23.083636 \nL 187.476165 23.083636 \nL 190.550545 23.083636 \nL 193.624925 23.083636 \nL 196.699305 23.083636 \nL 199.773685 23.083636 \nL 202.848066 23.083636 \nL 205.922446 23.083636 \nL 208.996826 23.083636 \nL 212.071206 23.083636 \nL 215.145586 23.083636 \nL 218.219966 23.083636 \nL 221.294347 23.083636 \nL 224.368727 23.083636 \nL 227.443107 23.083636 \nL 230.517487 23.083636 \nL 233.591867 23.083636 \nL 236.666247 23.083636 \nL 239.740628 23.083636 \nL 242.815008 23.083636 \nL 245.889388 23.083636 \nL 248.963768 23.083636 \nL 252.038148 23.083636 \nL 255.112528 23.083636 \nL 258.186909 23.083636 \nL 261.261289 23.083636 \nL 264.335669 23.083636 \nL 267.410049 23.083636 \nL 270.484429 23.083636 \nL 273.558809 23.083636 \nL 276.63319 23.083636 \nL 279.70757 23.083636 \nL 282.78195 23.083636 \nL 285.85633 23.083636 \nL 288.93071 23.083636 \nL 292.00509 23.083636 \nL 295.079471 23.083636 \nL 298.153851 23.083636 \nL 301.228231 23.083636 \nL 304.302611 23.083636 \nL 307.376991 187.810909 \nL 310.451371 187.810909 \nL 313.525752 187.810909 \nL 316.600132 187.810909 \nL 319.674512 187.810909 \nL 322.748892 187.810909 \nL 325.823272 187.810909 \nL 328.897652 187.810909 \nL 331.972033 187.810909 \nL 335.046413 187.810909 \nL 338.120793 187.810909 \nL 341.195173 187.810909 \nL 344.269553 187.810909 \nL 347.343933 187.810909 \nL 350.418314 187.810909 \nL 353.492694 187.810909 \nL 356.567074 187.810909 \nL 359.641454 187.810909 \nL 362.715834 187.810909 \nL 365.790214 187.810909 \nL 368.864595 187.810909 \nL 371.938975 187.810909 \nL 375.013355 187.810909 \nL 378.087735 187.810909 \nL 381.162115 220.756364 \nL 384.236495 220.756364 \nL 387.310876 220.756364 \nL 390.385256 220.756364 \n\" style=\"fill:none;stroke:#4c72b0;stroke-linecap:round;stroke-width:1.5;\"/>\n   </g>\n   <g id=\"patch_3\">\n    <path d=\"M 70.803438 230.64 \nL 70.803438 13.2 \n\" style=\"fill:none;stroke:#ffffff;stroke-linecap:square;stroke-linejoin:miter;stroke-width:1.25;\"/>\n   </g>\n   <g id=\"patch_4\">\n    <path d=\"M 405.603438 230.64 \nL 405.603438 13.2 \n\" style=\"fill:none;stroke:#ffffff;stroke-linecap:square;stroke-linejoin:miter;stroke-width:1.25;\"/>\n   </g>\n   <g id=\"patch_5\">\n    <path d=\"M 70.803438 230.64 \nL 405.603438 230.64 \n\" style=\"fill:none;stroke:#ffffff;stroke-linecap:square;stroke-linejoin:miter;stroke-width:1.25;\"/>\n   </g>\n   <g id=\"patch_6\">\n    <path d=\"M 70.803438 13.2 \nL 405.603438 13.2 \n\" style=\"fill:none;stroke:#ffffff;stroke-linecap:square;stroke-linejoin:miter;stroke-width:1.25;\"/>\n   </g>\n  </g>\n </g>\n <defs>\n  <clipPath id=\"p7679b15448\">\n   <rect height=\"217.44\" width=\"334.8\" x=\"70.803438\" y=\"13.2\"/>\n  </clipPath>\n </defs>\n</svg>\n"
          },
          "metadata": {
            "tags": []
          }
        }
      ]
    },
    {
      "cell_type": "markdown",
      "metadata": {
        "id": "91NkYvCrKcyc",
        "colab_type": "text"
      },
      "source": [
        "## Testing a simple bayesian neural net\n",
        "\n",
        "(with no flipout)\n",
        "\n",
        "This works:\n",
        "\n"
      ]
    },
    {
      "cell_type": "code",
      "metadata": {
        "id": "SVDCW8AXNqge",
        "colab_type": "code",
        "colab": {
          "base_uri": "https://localhost:8080/",
          "height": 91
        },
        "outputId": "7961e1c3-abd5-4188-8e9b-b3ac91444234"
      },
      "source": [
        "# Split data randomly into training + validation\n",
        "tr_ind = np.random.choice([False, True],\n",
        "                          size=x_taxi.shape[0],\n",
        "                          p=[0.2, 0.8])\n",
        "x_train = x_taxi[tr_ind].values\n",
        "y_train = y_taxi[tr_ind].values\n",
        "x_val = x_taxi[~tr_ind].values\n",
        "y_val = y_taxi[~tr_ind].values\n",
        "N_train = x_train.shape[0]\n",
        "N_val = x_val.shape[0]\n",
        "\n",
        "# Make y 2d\n",
        "y_train = np.expand_dims(y_train, 1)\n",
        "y_val = np.expand_dims(y_val, 1)\n",
        "\n",
        "# Make a TensorFlow Dataset from training data\n",
        "batch_size = 1024\n",
        "data_train = tf.data.Dataset.from_tensor_slices(\n",
        "    (x_train, y_train)).shuffle(10000).batch(batch_size)\n",
        "\n",
        "# Make a TensorFlow Dataset from validation data\n",
        "data_val = tf.data.Dataset.from_tensor_slices((x_val, y_val)).batch(N_val)"
      ],
      "execution_count": 14,
      "outputs": [
        {
          "output_type": "stream",
          "text": [
            "W0706 04:17:11.257626 140673704961920 deprecation.py:323] From /usr/local/lib/python3.6/dist-packages/tensorflow_core/python/data/util/random_seed.py:58: where (from tensorflow.python.ops.array_ops) is deprecated and will be removed in a future version.\n",
            "Instructions for updating:\n",
            "Use tf.where in 2.0, which has the same broadcast rule as np.where\n"
          ],
          "name": "stderr"
        }
      ]
    },
    {
      "cell_type": "code",
      "metadata": {
        "id": "FSb2NoZPd0yw",
        "colab_type": "code",
        "colab": {}
      },
      "source": [
        "class BayesianDenseLayer(tf.keras.Model):\n",
        "    \n",
        "    def __init__(self, d_in, d_out, name=None):\n",
        "        \n",
        "        # Xavier initializer\n",
        "        def xavier(shape):\n",
        "            return tf.random.truncated_normal(\n",
        "                shape, \n",
        "                mean=0.0,\n",
        "                stddev=np.sqrt(2/sum(shape)))\n",
        "        \n",
        "        super(BayesianDenseLayer, self).__init__(name=name)\n",
        "        \n",
        "        self.w_loc = tf.Variable(xavier([d_in, d_out]), name='w_loc')\n",
        "        self.b_loc = tf.Variable(xavier([1, d_out]), name='b_loc')\n",
        "        self.w_std = tf.Variable(xavier([d_in, d_out])-6.0, name='w_std')\n",
        "        self.b_std = tf.Variable(xavier([1, d_out])-6.0, name='b_std')\n",
        "        \n",
        "    \n",
        "    def call(self, x, sampling=True):\n",
        "        \n",
        "        if sampling:\n",
        "            weight = tfd.Normal(self.w_loc, tf.nn.softplus(self.w_std))\n",
        "            bias = tfd.Normal(self.b_loc, tf.nn.softplus(self.b_std))\n",
        "            return x @ weight.sample() + bias.sample()\n",
        "            \n",
        "        else:\n",
        "            return x @ self.w_loc + self.b_loc\n",
        "    \n",
        "    \n",
        "    @property\n",
        "    def losses(self):\n",
        "        weight = tfd.Normal(self.w_loc, tf.nn.softplus(self.w_std))\n",
        "        bias = tfd.Normal(self.b_loc, tf.nn.softplus(self.b_std))\n",
        "        prior = tfd.Normal(0, 1)\n",
        "        return (tf.reduce_sum(tfd.kl_divergence(weight, prior)) +\n",
        "                tf.reduce_sum(tfd.kl_divergence(bias, prior)))"
      ],
      "execution_count": 0,
      "outputs": []
    },
    {
      "cell_type": "code",
      "metadata": {
        "id": "vNeRQT9Nd4dW",
        "colab_type": "code",
        "colab": {}
      },
      "source": [
        "class BayesianDenseNetwork(tf.keras.Model):\n",
        "    \n",
        "    def __init__(self, dims, name=None):\n",
        "        \n",
        "        super(BayesianDenseNetwork, self).__init__(name=name)\n",
        "        \n",
        "        self.steps = []\n",
        "        self.acts = []\n",
        "        for i in range(len(dims)-1):\n",
        "            self.steps += [BayesianDenseLayer(dims[i], dims[i+1])]\n",
        "            self.acts += [tf.nn.relu]\n",
        "            \n",
        "        self.acts[-1] = lambda x: x\n",
        "        \n",
        "    \n",
        "    def call(self, x, sampling=True):\n",
        "        \n",
        "        for i in range(len(self.steps)):\n",
        "            x = self.steps[i](x, sampling=sampling)\n",
        "            x = self.acts[i](x)\n",
        "            \n",
        "        return x\n",
        "    \n",
        "    \n",
        "    @property\n",
        "    def losses(self):\n",
        "        return tf.reduce_sum([s.losses for s in self.steps])"
      ],
      "execution_count": 0,
      "outputs": []
    },
    {
      "cell_type": "code",
      "metadata": {
        "id": "OmYqgkM4d6sJ",
        "colab_type": "code",
        "colab": {}
      },
      "source": [
        "model = BayesianDenseNetwork([8, 256, 128, 64, 1])"
      ],
      "execution_count": 0,
      "outputs": []
    },
    {
      "cell_type": "code",
      "metadata": {
        "id": "p6wYnYqgd8y-",
        "colab_type": "code",
        "colab": {
          "base_uri": "https://localhost:8080/",
          "height": 917
        },
        "outputId": "53e481eb-8105-4c24-aadb-b0ee454920c4"
      },
      "source": [
        "\n",
        "optimizer = tf.keras.optimizers.Adam(lr=1e-3)\n",
        "\n",
        "N = x_train.shape[0]\n",
        "\n",
        "@tf.function\n",
        "def train_step(x_data, y_data):\n",
        "    with tf.GradientTape() as tape:\n",
        "        preds = model(x_data)\n",
        "        ll = tf.reduce_mean(tfd.Normal(preds, 1).log_prob(y_data))\n",
        "        kl_loss = model.losses\n",
        "        elbo_loss = kl_loss/N - ll\n",
        "    gradients = tape.gradient(elbo_loss, model.trainable_variables)\n",
        "    optimizer.apply_gradients(zip(gradients, model.trainable_variables))\n",
        "    \n",
        "    \n",
        "# Fit the model\n",
        "EPOCHS = 50\n",
        "for epoch in range(EPOCHS):\n",
        "    \n",
        "    # Update weights each batch\n",
        "    for x_data, y_data in data_train:\n",
        "        train_step(x_data, y_data)\n",
        "        \n",
        "    # Evaluate performance on validation data\n",
        "    for x_data, y_data in data_val:\n",
        "        preds = model(x_data, sampling=False)\n",
        "        mae = mean_absolute_error(preds, y_data)\n",
        "        print('Epoch {}  \\tMAE {}'.format(epoch, mae))"
      ],
      "execution_count": 18,
      "outputs": [
        {
          "output_type": "stream",
          "text": [
            "Epoch 0  \tMAE 0.34711214900016785\n",
            "Epoch 1  \tMAE 0.304743230342865\n",
            "Epoch 2  \tMAE 0.2952728867530823\n",
            "Epoch 3  \tMAE 0.2911926507949829\n",
            "Epoch 4  \tMAE 0.28870689868927\n",
            "Epoch 5  \tMAE 0.2883450388908386\n",
            "Epoch 6  \tMAE 0.2870854437351227\n",
            "Epoch 7  \tMAE 0.28532689809799194\n",
            "Epoch 8  \tMAE 0.28670617938041687\n",
            "Epoch 9  \tMAE 0.2907015383243561\n",
            "Epoch 10  \tMAE 0.2834812104701996\n",
            "Epoch 11  \tMAE 0.2921922206878662\n",
            "Epoch 12  \tMAE 0.2801137864589691\n",
            "Epoch 13  \tMAE 0.28685876727104187\n",
            "Epoch 14  \tMAE 0.2955887019634247\n",
            "Epoch 15  \tMAE 0.2826129198074341\n",
            "Epoch 16  \tMAE 0.2805829346179962\n",
            "Epoch 17  \tMAE 0.2797192633152008\n",
            "Epoch 18  \tMAE 0.2797364592552185\n",
            "Epoch 19  \tMAE 0.28309860825538635\n",
            "Epoch 20  \tMAE 0.2833879888057709\n",
            "Epoch 21  \tMAE 0.2846357822418213\n",
            "Epoch 22  \tMAE 0.2842925190925598\n",
            "Epoch 23  \tMAE 0.27745774388313293\n",
            "Epoch 24  \tMAE 0.2787505090236664\n",
            "Epoch 25  \tMAE 0.27882081270217896\n",
            "Epoch 26  \tMAE 0.27809590101242065\n",
            "Epoch 27  \tMAE 0.28144755959510803\n",
            "Epoch 28  \tMAE 0.2866879999637604\n",
            "Epoch 29  \tMAE 0.27914535999298096\n",
            "Epoch 30  \tMAE 0.2804184854030609\n",
            "Epoch 31  \tMAE 0.28175413608551025\n",
            "Epoch 32  \tMAE 0.2790035605430603\n",
            "Epoch 33  \tMAE 0.2872719168663025\n",
            "Epoch 34  \tMAE 0.2789252996444702\n",
            "Epoch 35  \tMAE 0.277472585439682\n",
            "Epoch 36  \tMAE 0.2807577848434448\n",
            "Epoch 37  \tMAE 0.2856370806694031\n",
            "Epoch 38  \tMAE 0.27918383479118347\n",
            "Epoch 39  \tMAE 0.2784804105758667\n",
            "Epoch 40  \tMAE 0.2838487923145294\n",
            "Epoch 41  \tMAE 0.28863489627838135\n",
            "Epoch 42  \tMAE 0.28003644943237305\n",
            "Epoch 43  \tMAE 0.2885272800922394\n",
            "Epoch 44  \tMAE 0.278730183839798\n",
            "Epoch 45  \tMAE 0.2884290814399719\n",
            "Epoch 46  \tMAE 0.28481101989746094\n",
            "Epoch 47  \tMAE 0.28500229120254517\n",
            "Epoch 48  \tMAE 0.2841517925262451\n",
            "Epoch 49  \tMAE 0.27973783016204834\n"
          ],
          "name": "stdout"
        }
      ]
    },
    {
      "cell_type": "markdown",
      "metadata": {
        "id": "W3q9cCkYasYy",
        "colab_type": "text"
      },
      "source": [
        "## Bayesian Neural Network\n",
        "\n",
        "TODO: using TF2.0 w/ eager execution and tf.Module\n",
        "\n",
        "TODO: talk about how you were gonna use TFP but it doesn't fully support TF2.0 eager execution yet!  ie the kl loss was getting reset each batch\n",
        "\n",
        "TODO: diagram"
      ]
    },
    {
      "cell_type": "code",
      "metadata": {
        "id": "bKMqjILsErW9",
        "colab_type": "code",
        "colab": {}
      },
      "source": [
        "\"\"\" DOESN'T SEEM TO BE WORKING \"\"\"\n",
        "\n",
        "\n",
        "class DenseBayesian(tf.keras.Model):\n",
        "    \"\"\"Fully-connected Bayesian neural network layer which supports\n",
        "    both sampling and inference w/ MAP parameter estimates.\n",
        "    \n",
        "    Uses normally-distributed variational posteriors, and\n",
        "    normally-distributed priors with mean=0 and std=1.\n",
        "    \n",
        "    Parameters\n",
        "    ----------\n",
        "    d_in : int\n",
        "        Number of input dimensions\n",
        "    d_out : int\n",
        "        Number of output dimensions (\"units\")\n",
        "    bias : bool\n",
        "        Whether to include a bias term\n",
        "    name : None or str\n",
        "        Name for the layer\n",
        "    \"\"\"\n",
        "    \n",
        "    \n",
        "    def __init__(self, d_in, d_out=1, name=None):\n",
        "        \n",
        "        # Xavier initializer\n",
        "        def xavier(shape):\n",
        "            return tf.random.truncated_normal(\n",
        "                shape, \n",
        "                mean=0.0,\n",
        "                stddev=np.sqrt(2/sum(shape)))\n",
        "        \n",
        "        # Initialize\n",
        "        super(DenseBayesian, self).__init__(name=name)\n",
        "        self.d_in = d_in\n",
        "        self.d_out = d_out\n",
        "                \n",
        "        # Variables of the variational posterior distributions\n",
        "        self.w_loc = tf.Variable(xavier([d_in, d_out]), name='w_loc')\n",
        "        self.w_std = tf.Variable(xavier([d_in, d_out])-6.0, name='w_std')\n",
        "        self.b_loc = tf.Variable(xavier([d_out]), name='b_loc')\n",
        "        self.b_std = tf.Variable(xavier([d_out])-6.0, name='b_std')\n",
        "            \n",
        "    \n",
        "    def call(self, x, sampling=True):\n",
        "        \"\"\"Pass data through the layer\n",
        "        \n",
        "        Parameters\n",
        "        ----------\n",
        "        x : tf.Tensor\n",
        "            Input data\n",
        "        sampling : bool\n",
        "            Whether to sample parameter values from their variational\n",
        "            distributions using Flipout (if True, the default), or\n",
        "            just use the Maximum a Posteriori parameter value\n",
        "            estimates (if False).\n",
        "            \n",
        "        Returns\n",
        "        -------\n",
        "        preds : tf.Tensor\n",
        "            Output of this layer, the predictions\n",
        "        \"\"\"\n",
        "        \n",
        "        # Convert x to matrix if 1-dimensional\n",
        "        if len(x.shape) < 2:\n",
        "            x = tf.expand_dims(x, 1)\n",
        "        \n",
        "        # Use Flipout-estimated samples from parameters' var dists\n",
        "        if sampling:\n",
        "                        \n",
        "            # Transform std parameters\n",
        "            w_std = tf.nn.softplus(self.w_std)\n",
        "            b_std = tf.nn.softplus(self.b_std)\n",
        "            \n",
        "            # Compute effect of weight samples\n",
        "            s = random_rademacher(tf.shape(x))\n",
        "            r = random_rademacher([x.shape[0], self.d_out])\n",
        "            w_samples = w_std*tf.random.normal([self.d_in, self.d_out])\n",
        "            w_perturbations = r*tf.matmul(x*s, w_samples)\n",
        "            w_outputs = tf.matmul(x, self.w_loc) + w_perturbations\n",
        "            \n",
        "            # Compute effect of bias samples\n",
        "            r = random_rademacher([x.shape[0], self.d_out])\n",
        "            b_samples = b_std*tf.random.normal([self.d_out])\n",
        "            b_outputs = self.b_loc + r*b_samples\n",
        "            \n",
        "            return w_outputs + b_outputs\n",
        "            \n",
        "        # Use MAP estimates of parameters' variational distributions\n",
        "        else:\n",
        "            return tf.matmul(x, self.w_loc) + self.b_loc\n",
        "                \n",
        "    \n",
        "    @property\n",
        "    def losses(self):\n",
        "        \"\"\"The sum of the KL divergences between the priors and\n",
        "        posteriors, assuming normal priors w/ mean=0 and std=1\n",
        "        \"\"\"\n",
        "        \n",
        "        # Transform std parameters\n",
        "        w_std = tf.nn.softplus(self.w_std)\n",
        "        b_std = tf.nn.softplus(self.b_std)\n",
        "\n",
        "        # Compute the divergences\n",
        "        w_loss = 0.5*tf.reduce_sum(tf.square(self.w_loc) + \n",
        "                                   tf.square(w_std) -\n",
        "                                   2*tf.math.log(w_std) - 1)\n",
        "        b_loss = 0.5*tf.reduce_sum(tf.square(self.b_loc) + \n",
        "                                   tf.square(b_std) -\n",
        "                                   2*tf.math.log(b_std) - 1)\n",
        "        return w_loss + b_loss"
      ],
      "execution_count": 0,
      "outputs": []
    },
    {
      "cell_type": "markdown",
      "metadata": {
        "id": "yPw7uVRZcXLn",
        "colab_type": "text"
      },
      "source": [
        "TODO: then need to make a model which takes those predictions and computes likelihood of the target: use a net w/ 2 heads, one for mean and 1 for std\n",
        "\n",
        "TODO: diagram"
      ]
    },
    {
      "cell_type": "code",
      "metadata": {
        "id": "IxoyEqD0eB7N",
        "colab_type": "code",
        "colab": {}
      },
      "source": [
        "class BayesianDensityNetwork(tf.keras.Model):\n",
        "    \"\"\"Multilayer fully-connected Bayesian neural network, which\n",
        "    has two heads to predict both the mean and the standard deviation.\n",
        "    \n",
        "    Parameters\n",
        "    ----------\n",
        "    input_dims : int\n",
        "        Number of input dimensions\n",
        "    units : list of int\n",
        "        Number of output dimensions for each layer.\n",
        "    name : None or str\n",
        "        Name for the layer\n",
        "    \"\"\"\n",
        "    \n",
        "    \n",
        "    def __init__(self, input_dims, units, head_units, name=None):\n",
        "        \n",
        "        # Initialize\n",
        "        super(BayesianDensityNetwork, self).__init__(name=name)\n",
        "        \n",
        "        # Create layers\n",
        "        units = [input_dims] + units\n",
        "        self.steps = []\n",
        "        for i in range(len(units)-1):\n",
        "            self.steps += [DenseBayesian(units[i], units[i+1])]\n",
        "\n",
        "        # Create activation functions\n",
        "        self.acts = [tf.nn.relu for i in range(len(units))]\n",
        "        \n",
        "        # Create layers for heads\n",
        "        head_units = [units[-1]] + head_units\n",
        "        self.head1_steps = []\n",
        "        self.head2_steps = []\n",
        "        for i in range(len(units)-1):\n",
        "            self.head1_steps += [DenseBayesian(head_units[i], head_units[i+1])]\n",
        "            self.head2_steps += [DenseBayesian(head_units[i], head_units[i+1])]\n",
        "        self.head1_steps += [DenseBayesian(head_units[-1], 1)]\n",
        "        self.head2_steps += [DenseBayesian(head_units[-1], 1)]\n",
        "        \n",
        "        # Create activation functions for heads\n",
        "        self.head_acts = [tf.nn.relu for i in range(len(head_units)-1)]\n",
        "        self.head_acts += [lambda x: x] #last layer has no activation\n",
        "\n",
        "    \n",
        "    def call(self, x, sampling=True):\n",
        "        \"\"\"Pass data through the model\n",
        "        \n",
        "        Parameters\n",
        "        ----------\n",
        "        x : tf.Tensor\n",
        "            Input data\n",
        "        sampling : bool\n",
        "            Whether to sample parameter values from their variational\n",
        "            distributions using Flipout (if True, the default), or\n",
        "            just use the Maximum a Posteriori parameter value\n",
        "            estimates (if False).\n",
        "            \n",
        "        Returns\n",
        "        -------\n",
        "        preds : tf.Tensor\n",
        "            Output of this model, the predictions\n",
        "        \"\"\"\n",
        "        \n",
        "        # Pass data through core network\n",
        "        for i in range(len(self.steps)):\n",
        "            x = self.steps[i](x, sampling=sampling)\n",
        "            x = self.acts[i](x)\n",
        "            \n",
        "        # Pass data through heads\n",
        "        out1 = x\n",
        "        out2 = x\n",
        "        for i in range(len(self.steps)):\n",
        "            out1 = self.head1_steps[i](out1, sampling=sampling)\n",
        "            out2 = self.head2_steps[i](out2, sampling=sampling)\n",
        "            out1 = self.head_acts[i](out1)\n",
        "            out2 = self.head_acts[i](out2)\n",
        "\n",
        "        return tf.concat([out1, out2], 1)\n",
        "    \n",
        "    \n",
        "    def _normal_log_likelihood(self, y, means, stds):\n",
        "        \"\"\"Compute the log likelihood of y given a normal distribution\n",
        "        with some mean and standard deviation\n",
        "        \"\"\"\n",
        "        return (-0.5*tf.math.log(2*np.pi) - tf.math.log(stds) -\n",
        "                0.5*tf.square(y-means)/tf.square(stds))\n",
        "    \n",
        "    \n",
        "    def log_likelihood(self, x, y, sampling=True):\n",
        "        \"\"\"Compute the log likelihood of y given x\"\"\"\n",
        "        preds = self(x)\n",
        "        return self._normal_log_likelihood(y, preds[:,0],\n",
        "                                           tf.nn.softplus(preds[:,1]))\n",
        "        \n",
        "        \n",
        "    @property\n",
        "    def losses(self):\n",
        "        \"\"\"The sum of the KL divergences between the priors and\n",
        "        posteriors, assuming normal priors w/ mean=0 and std=1,\n",
        "        for all layers.\n",
        "        \"\"\"\n",
        "        return sum([l.losses for l in self.steps])"
      ],
      "execution_count": 0,
      "outputs": []
    },
    {
      "cell_type": "markdown",
      "metadata": {
        "id": "yVKGOgyZyTRa",
        "colab_type": "text"
      },
      "source": [
        "TODO: make a TF dataset from the data:"
      ]
    },
    {
      "cell_type": "code",
      "metadata": {
        "id": "meQUTIQ5ySz2",
        "colab_type": "code",
        "colab": {}
      },
      "source": [
        "# Split data randomly into training + validation\n",
        "tr_ind = np.random.choice([False, True],\n",
        "                          size=x_taxi.shape[0],\n",
        "                          p=[0.2, 0.8])\n",
        "x_train = x_taxi[tr_ind].values\n",
        "y_train = y_taxi[tr_ind].values\n",
        "x_val = x_taxi[~tr_ind].values\n",
        "y_val = y_taxi[~tr_ind].values\n",
        "N_train = x_train.shape[0]\n",
        "N_val = x_val.shape[0]\n",
        "\n",
        "# Make y 2d\n",
        "y_train = np.expand_dims(y_train, 1)\n",
        "y_val = np.expand_dims(y_val, 1)\n",
        "\n",
        "# Make a TensorFlow Dataset from training data\n",
        "batch_size = 1024\n",
        "data_train = tf.data.Dataset.from_tensor_slices(\n",
        "    (x_train, y_train)).shuffle(10000).batch(batch_size)\n",
        "\n",
        "# Make a TensorFlow Dataset from validation data\n",
        "data_val = tf.data.Dataset.from_tensor_slices((x_val, y_val)).batch(N_val)"
      ],
      "execution_count": 0,
      "outputs": []
    },
    {
      "cell_type": "markdown",
      "metadata": {
        "id": "-cnadplMywu2",
        "colab_type": "text"
      },
      "source": [
        "TODO: now can instantiate and fit the model"
      ]
    },
    {
      "cell_type": "code",
      "metadata": {
        "id": "ILxi9Sh2aNj5",
        "colab_type": "code",
        "colab": {}
      },
      "source": [
        "# Instantiate the model\n",
        "model = BayesianDensityNetwork(8, [128, 64], [32, 16])"
      ],
      "execution_count": 0,
      "outputs": []
    },
    {
      "cell_type": "code",
      "metadata": {
        "id": "2enrevEDaWBj",
        "colab_type": "code",
        "colab": {}
      },
      "source": [
        "# Use the Adam optimizer\n",
        "optimizer = tf.keras.optimizers.Adam(lr=1e-3)"
      ],
      "execution_count": 0,
      "outputs": []
    },
    {
      "cell_type": "code",
      "metadata": {
        "id": "fLQb2uKJaXXl",
        "colab_type": "code",
        "colab": {}
      },
      "source": [
        "N = x_train.shape[0]\n",
        "\n",
        "@tf.function\n",
        "def train_step(x_data, y_data):\n",
        "    with tf.GradientTape() as tape:\n",
        "        log_likelihoods = model.log_likelihood(x_data, y_data)\n",
        "        kl_loss = model.losses\n",
        "        elbo_loss = kl_loss/N - tf.reduce_mean(log_likelihoods)\n",
        "    gradients = tape.gradient(elbo_loss, model.trainable_variables)\n",
        "    optimizer.apply_gradients(zip(gradients, model.trainable_variables))"
      ],
      "execution_count": 0,
      "outputs": []
    },
    {
      "cell_type": "markdown",
      "metadata": {
        "id": "X_VKayRO4ppl",
        "colab_type": "text"
      },
      "source": [
        "TODO: K there's a bug somewhere, the gradients aren't being connected..."
      ]
    },
    {
      "cell_type": "code",
      "metadata": {
        "id": "jUYSvSA_fcqY",
        "colab_type": "code",
        "outputId": "67d88510-a15b-4f8e-cde4-751d7bc7f9ef",
        "colab": {
          "base_uri": "https://localhost:8080/",
          "height": 145
        }
      },
      "source": [
        "# Fit the model\n",
        "EPOCHS = 3\n",
        "for epoch in range(EPOCHS):\n",
        "    \n",
        "    # Update weights each batch\n",
        "    for x_data, y_data in data_train:\n",
        "        train_step(x_data, y_data)\n",
        "        \n",
        "    # Evaluate performance on validation data\n",
        "    for x_data, y_data in data_val:\n",
        "        preds = model(x_data, sampling=False)\n",
        "        y_pred = preds[:, 0]\n",
        "        mae = mean_absolute_error(y_pred, y_data)\n",
        "        print('Epoch {}  \\tMAE {}'.format(epoch, mae))"
      ],
      "execution_count": 78,
      "outputs": [
        {
          "output_type": "stream",
          "text": [
            "W0706 04:13:06.149334 139768724141952 optimizer_v2.py:982] Gradients does not exist for variables ['w_loc:0', 'w_std:0', 'b_loc:0', 'b_std:0', 'w_loc:0', 'w_std:0', 'b_loc:0', 'b_std:0'] when minimizing the loss.\n",
            "W0706 04:13:07.401564 139768724141952 optimizer_v2.py:982] Gradients does not exist for variables ['w_loc:0', 'w_std:0', 'b_loc:0', 'b_std:0', 'w_loc:0', 'w_std:0', 'b_loc:0', 'b_std:0'] when minimizing the loss.\n",
            "W0706 04:13:09.786331 139768724141952 optimizer_v2.py:982] Gradients does not exist for variables ['w_loc:0', 'w_std:0', 'b_loc:0', 'b_std:0', 'w_loc:0', 'w_std:0', 'b_loc:0', 'b_std:0'] when minimizing the loss.\n"
          ],
          "name": "stderr"
        },
        {
          "output_type": "stream",
          "text": [
            "Epoch 0  \tMAE 0.7937636971473694\n",
            "Epoch 1  \tMAE 0.7937636971473694\n",
            "Epoch 2  \tMAE 0.7937636971473694\n"
          ],
          "name": "stdout"
        }
      ]
    },
    {
      "cell_type": "markdown",
      "metadata": {
        "id": "s6LHjuVpEpMZ",
        "colab_type": "text"
      },
      "source": [
        "TODO: plot MAE, ELBO over training"
      ]
    },
    {
      "cell_type": "markdown",
      "metadata": {
        "id": "yyhnXw_eCoGX",
        "colab_type": "text"
      },
      "source": [
        "## Model E\n",
        "\n",
        "TODO: look at predictive distributions\n",
        "\n",
        "TODO: look at residuals (using sampling=False)\n",
        "\n",
        "TODO: look at coverage of the 95% interval\n",
        "\n",
        "TODO: look at coverage of the 95% interval over some variable, ie time and space like below:"
      ]
    },
    {
      "cell_type": "code",
      "metadata": {
        "id": "61OIthwuFfso",
        "colab_type": "code",
        "outputId": "7901c7b8-9749-41ad-a4d3-26f31cbdc229",
        "colab": {
          "base_uri": "https://localhost:8080/",
          "height": 498
        }
      },
      "source": [
        "# Plot coverage as a fn of time of day\n",
        "min_of_day = train_orig.loc[~tr_ind,'min_of_day'].values\n",
        "covs = np.zeros(24)\n",
        "for iT in range(0,24):\n",
        "  ix = ((min_of_day>=(iT*60)) &\n",
        "        (min_of_day<((iT+1)*60)))\n",
        "  covs[iT] = coverage(prediction_dists[:,ix,0], y_val[ix])\n",
        "plt.plot(covs, label='True')\n",
        "plt.axhline(95.0, label='Ideal', color=colors[2])\n",
        "plt.xlabel('Hour')\n",
        "plt.ylabel('95% Predictive Interval Coverage')\n",
        "plt.title('Coverage of 95% Predictive Interval by Hour')\n",
        "plt.legend()\n",
        "plt.show()"
      ],
      "execution_count": 0,
      "outputs": [
        {
          "output_type": "display_data",
          "data": {
            "text/plain": [
              "<matplotlib.figure.Figure at 0x7fa0fb2744e0>"
            ],
            "image/svg+xml": "<?xml version=\"1.0\" encoding=\"utf-8\" standalone=\"no\"?>\n<!DOCTYPE svg PUBLIC \"-//W3C//DTD SVG 1.1//EN\"\n  \"http://www.w3.org/Graphics/SVG/1.1/DTD/svg11.dtd\">\n<!-- Created with matplotlib (http://matplotlib.org/) -->\n<svg height=\"358pt\" version=\"1.1\" viewBox=\"0 0 493 358\" width=\"493pt\" xmlns=\"http://www.w3.org/2000/svg\" xmlns:xlink=\"http://www.w3.org/1999/xlink\">\n <defs>\n  <style type=\"text/css\">\n*{stroke-linecap:butt;stroke-linejoin:round;}\n  </style>\n </defs>\n <g id=\"figure_1\">\n  <g id=\"patch_1\">\n   <path d=\"M 0 358.652187 \nL 493.175937 358.652187 \nL 493.175937 0 \nL 0 0 \nz\n\" style=\"fill:#ffffff;\"/>\n  </g>\n  <g id=\"axes_1\">\n   <g id=\"patch_2\">\n    <path d=\"M 39.575938 320.87625 \nL 485.975937 320.87625 \nL 485.975937 21.89625 \nL 39.575938 21.89625 \nz\n\" style=\"fill:#eaeaf2;\"/>\n   </g>\n   <g id=\"matplotlib.axis_1\">\n    <g id=\"xtick_1\">\n     <g id=\"line2d_1\">\n      <path clip-path=\"url(#pc857b3578e)\" d=\"M 59.866847 320.87625 \nL 59.866847 21.89625 \n\" style=\"fill:none;stroke:#ffffff;stroke-linecap:round;\"/>\n     </g>\n     <g id=\"line2d_2\"/>\n     <g id=\"text_1\">\n      <!-- 0 -->\n      <defs>\n       <path d=\"M 51.703125 34.421875 \nQ 51.703125 24.515625 49.828125 17.75 \nQ 47.953125 10.984375 44.703125 6.8125 \nQ 41.453125 2.640625 37.0625 0.828125 \nQ 32.671875 -0.984375 27.6875 -0.984375 \nQ 22.65625 -0.984375 18.3125 0.828125 \nQ 13.96875 2.640625 10.765625 6.78125 \nQ 7.5625 10.9375 5.734375 17.703125 \nQ 3.90625 24.46875 3.90625 34.421875 \nQ 3.90625 44.828125 5.734375 51.640625 \nQ 7.5625 58.453125 10.78125 62.5 \nQ 14.015625 66.546875 18.40625 68.1875 \nQ 22.796875 69.828125 27.984375 69.828125 \nQ 32.90625 69.828125 37.21875 68.1875 \nQ 41.546875 66.546875 44.765625 62.5 \nQ 48 58.453125 49.84375 51.640625 \nQ 51.703125 44.828125 51.703125 34.421875 \nz\nM 42.78125 34.421875 \nQ 42.78125 42.625 41.796875 48.0625 \nQ 40.828125 53.515625 38.921875 56.765625 \nQ 37.015625 60.015625 34.25 61.359375 \nQ 31.5 62.703125 27.984375 62.703125 \nQ 24.265625 62.703125 21.4375 61.328125 \nQ 18.609375 59.96875 16.671875 56.71875 \nQ 14.75 53.46875 13.765625 48.015625 \nQ 12.796875 42.578125 12.796875 34.421875 \nQ 12.796875 26.515625 13.796875 21.09375 \nQ 14.796875 15.671875 16.71875 12.375 \nQ 18.65625 9.078125 21.4375 7.640625 \nQ 24.21875 6.203125 27.78125 6.203125 \nQ 31.25 6.203125 34.03125 7.640625 \nQ 36.8125 9.078125 38.734375 12.375 \nQ 40.671875 15.671875 41.71875 21.09375 \nQ 42.78125 26.515625 42.78125 34.421875 \nz\n\" id=\"LiberationSans-30\"/>\n      </defs>\n      <g style=\"fill:#262626;\" transform=\"translate(57.086378 335.123125)scale(0.1 -0.1)\">\n       <use xlink:href=\"#LiberationSans-30\"/>\n      </g>\n     </g>\n    </g>\n    <g id=\"xtick_2\">\n     <g id=\"line2d_3\">\n      <path clip-path=\"url(#pc857b3578e)\" d=\"M 148.08819 320.87625 \nL 148.08819 21.89625 \n\" style=\"fill:none;stroke:#ffffff;stroke-linecap:round;\"/>\n     </g>\n     <g id=\"line2d_4\"/>\n     <g id=\"text_2\">\n      <!-- 5 -->\n      <defs>\n       <path d=\"M 51.421875 22.40625 \nQ 51.421875 17.234375 49.859375 12.9375 \nQ 48.296875 8.640625 45.21875 5.53125 \nQ 42.140625 2.4375 37.578125 0.71875 \nQ 33.015625 -0.984375 27 -0.984375 \nQ 21.578125 -0.984375 17.546875 0.28125 \nQ 13.53125 1.5625 10.734375 3.78125 \nQ 7.953125 6 6.3125 8.984375 \nQ 4.6875 11.96875 4 15.375 \nL 12.890625 16.40625 \nQ 13.421875 14.453125 14.390625 12.625 \nQ 15.375 10.796875 17.0625 9.34375 \nQ 18.75 7.90625 21.21875 7.046875 \nQ 23.6875 6.203125 27.203125 6.203125 \nQ 30.609375 6.203125 33.390625 7.25 \nQ 36.1875 8.296875 38.15625 10.34375 \nQ 40.140625 12.40625 41.203125 15.375 \nQ 42.28125 18.359375 42.28125 22.21875 \nQ 42.28125 25.390625 41.25 28.046875 \nQ 40.234375 30.71875 38.328125 32.640625 \nQ 36.421875 34.578125 33.65625 35.640625 \nQ 30.90625 36.71875 27.390625 36.71875 \nQ 25.203125 36.71875 23.34375 36.328125 \nQ 21.484375 35.9375 19.890625 35.25 \nQ 18.3125 34.578125 17.015625 33.671875 \nQ 15.71875 32.765625 14.59375 31.78125 \nL 6 31.78125 \nL 8.296875 68.796875 \nL 47.40625 68.796875 \nL 47.40625 61.328125 \nL 16.3125 61.328125 \nL 14.984375 39.5 \nQ 17.328125 41.3125 20.84375 42.59375 \nQ 24.359375 43.890625 29.203125 43.890625 \nQ 34.328125 43.890625 38.421875 42.328125 \nQ 42.53125 40.765625 45.40625 37.90625 \nQ 48.296875 35.0625 49.859375 31.109375 \nQ 51.421875 27.15625 51.421875 22.40625 \nz\n\" id=\"LiberationSans-35\"/>\n      </defs>\n      <g style=\"fill:#262626;\" transform=\"translate(145.307722 335.123125)scale(0.1 -0.1)\">\n       <use xlink:href=\"#LiberationSans-35\"/>\n      </g>\n     </g>\n    </g>\n    <g id=\"xtick_3\">\n     <g id=\"line2d_5\">\n      <path clip-path=\"url(#pc857b3578e)\" d=\"M 236.309534 320.87625 \nL 236.309534 21.89625 \n\" style=\"fill:none;stroke:#ffffff;stroke-linecap:round;\"/>\n     </g>\n     <g id=\"line2d_6\"/>\n     <g id=\"text_3\">\n      <!-- 10 -->\n      <defs>\n       <path d=\"M 7.625 0 \nL 7.625 7.46875 \nL 25.140625 7.46875 \nL 25.140625 60.40625 \nL 9.625 49.3125 \nL 9.625 57.625 \nL 25.875 68.796875 \nL 33.984375 68.796875 \nL 33.984375 7.46875 \nL 50.734375 7.46875 \nL 50.734375 0 \nz\n\" id=\"LiberationSans-31\"/>\n      </defs>\n      <g style=\"fill:#262626;\" transform=\"translate(230.748597 335.123125)scale(0.1 -0.1)\">\n       <use xlink:href=\"#LiberationSans-31\"/>\n       <use x=\"55.615234\" xlink:href=\"#LiberationSans-30\"/>\n      </g>\n     </g>\n    </g>\n    <g id=\"xtick_4\">\n     <g id=\"line2d_7\">\n      <path clip-path=\"url(#pc857b3578e)\" d=\"M 324.530878 320.87625 \nL 324.530878 21.89625 \n\" style=\"fill:none;stroke:#ffffff;stroke-linecap:round;\"/>\n     </g>\n     <g id=\"line2d_8\"/>\n     <g id=\"text_4\">\n      <!-- 15 -->\n      <g style=\"fill:#262626;\" transform=\"translate(318.969941 335.123125)scale(0.1 -0.1)\">\n       <use xlink:href=\"#LiberationSans-31\"/>\n       <use x=\"55.615234\" xlink:href=\"#LiberationSans-35\"/>\n      </g>\n     </g>\n    </g>\n    <g id=\"xtick_5\">\n     <g id=\"line2d_9\">\n      <path clip-path=\"url(#pc857b3578e)\" d=\"M 412.752222 320.87625 \nL 412.752222 21.89625 \n\" style=\"fill:none;stroke:#ffffff;stroke-linecap:round;\"/>\n     </g>\n     <g id=\"line2d_10\"/>\n     <g id=\"text_5\">\n      <!-- 20 -->\n      <defs>\n       <path d=\"M 5.03125 0 \nL 5.03125 6.203125 \nQ 7.515625 11.921875 11.109375 16.28125 \nQ 14.703125 20.65625 18.65625 24.1875 \nQ 22.609375 27.734375 26.484375 30.765625 \nQ 30.375 33.796875 33.5 36.8125 \nQ 36.625 39.84375 38.546875 43.15625 \nQ 40.484375 46.484375 40.484375 50.6875 \nQ 40.484375 53.609375 39.59375 55.828125 \nQ 38.71875 58.0625 37.0625 59.5625 \nQ 35.40625 61.078125 33.078125 61.828125 \nQ 30.765625 62.59375 27.9375 62.59375 \nQ 25.296875 62.59375 22.96875 61.859375 \nQ 20.65625 61.140625 18.84375 59.671875 \nQ 17.046875 58.203125 15.890625 56.03125 \nQ 14.75 53.859375 14.40625 50.984375 \nL 5.421875 51.8125 \nQ 5.859375 55.515625 7.46875 58.78125 \nQ 9.078125 62.0625 11.90625 64.53125 \nQ 14.75 67 18.71875 68.40625 \nQ 22.703125 69.828125 27.9375 69.828125 \nQ 33.0625 69.828125 37.0625 68.609375 \nQ 41.0625 67.390625 43.8125 64.984375 \nQ 46.578125 62.59375 48.046875 59.078125 \nQ 49.515625 55.5625 49.515625 50.984375 \nQ 49.515625 47.515625 48.265625 44.390625 \nQ 47.015625 41.265625 44.9375 38.421875 \nQ 42.875 35.59375 40.140625 32.953125 \nQ 37.40625 30.328125 34.421875 27.8125 \nQ 31.453125 25.296875 28.421875 22.828125 \nQ 25.390625 20.359375 22.71875 17.859375 \nQ 20.0625 15.375 17.96875 12.8125 \nQ 15.875 10.25 14.703125 7.46875 \nL 50.59375 7.46875 \nL 50.59375 0 \nz\n\" id=\"LiberationSans-32\"/>\n      </defs>\n      <g style=\"fill:#262626;\" transform=\"translate(407.191285 335.123125)scale(0.1 -0.1)\">\n       <use xlink:href=\"#LiberationSans-32\"/>\n       <use x=\"55.615234\" xlink:href=\"#LiberationSans-30\"/>\n      </g>\n     </g>\n    </g>\n    <g id=\"text_6\">\n     <!-- Hour -->\n     <defs>\n      <path d=\"M 54.734375 0 \nL 54.734375 31.890625 \nL 17.53125 31.890625 \nL 17.53125 0 \nL 8.203125 0 \nL 8.203125 68.796875 \nL 17.53125 68.796875 \nL 17.53125 39.703125 \nL 54.734375 39.703125 \nL 54.734375 68.796875 \nL 64.0625 68.796875 \nL 64.0625 0 \nz\n\" id=\"LiberationSans-48\"/>\n      <path d=\"M 51.421875 26.46875 \nQ 51.421875 12.59375 45.3125 5.796875 \nQ 39.203125 -0.984375 27.59375 -0.984375 \nQ 22.078125 -0.984375 17.71875 0.671875 \nQ 13.375 2.34375 10.375 5.765625 \nQ 7.375 9.1875 5.78125 14.328125 \nQ 4.203125 19.484375 4.203125 26.46875 \nQ 4.203125 53.8125 27.875 53.8125 \nQ 34.03125 53.8125 38.5 52.09375 \nQ 42.96875 50.390625 45.828125 46.96875 \nQ 48.6875 43.5625 50.046875 38.421875 \nQ 51.421875 33.296875 51.421875 26.46875 \nz\nM 42.1875 26.46875 \nQ 42.1875 32.625 41.234375 36.625 \nQ 40.28125 40.625 38.453125 43.015625 \nQ 36.625 45.40625 33.984375 46.359375 \nQ 31.34375 47.3125 28.03125 47.3125 \nQ 24.65625 47.3125 21.9375 46.3125 \nQ 19.234375 45.3125 17.328125 42.890625 \nQ 15.4375 40.484375 14.421875 36.46875 \nQ 13.421875 32.46875 13.421875 26.46875 \nQ 13.421875 20.3125 14.5 16.28125 \nQ 15.578125 12.25 17.453125 9.859375 \nQ 19.34375 7.46875 21.90625 6.484375 \nQ 24.46875 5.515625 27.484375 5.515625 \nQ 30.859375 5.515625 33.59375 6.46875 \nQ 36.328125 7.421875 38.234375 9.8125 \nQ 40.140625 12.203125 41.15625 16.25 \nQ 42.1875 20.3125 42.1875 26.46875 \nz\n\" id=\"LiberationSans-6f\"/>\n      <path d=\"M 15.328125 52.828125 \nL 15.328125 19.34375 \nQ 15.328125 15.484375 15.890625 12.890625 \nQ 16.453125 10.296875 17.71875 8.703125 \nQ 19 7.125 21.0625 6.46875 \nQ 23.140625 5.8125 26.21875 5.8125 \nQ 29.34375 5.8125 31.859375 6.90625 \nQ 34.375 8.015625 36.15625 10.078125 \nQ 37.9375 12.15625 38.90625 15.203125 \nQ 39.890625 18.265625 39.890625 22.21875 \nL 39.890625 52.828125 \nL 48.6875 52.828125 \nL 48.6875 11.28125 \nQ 48.6875 9.625 48.703125 7.78125 \nQ 48.734375 5.953125 48.78125 4.3125 \nQ 48.828125 2.6875 48.875 1.515625 \nQ 48.921875 0.34375 48.96875 0 \nL 40.671875 0 \nQ 40.625 0.25 40.578125 1.3125 \nQ 40.53125 2.390625 40.453125 3.78125 \nQ 40.375 5.171875 40.328125 6.609375 \nQ 40.28125 8.0625 40.28125 9.03125 \nL 40.140625 9.03125 \nQ 38.875 6.734375 37.359375 4.875 \nQ 35.84375 3.03125 33.84375 1.734375 \nQ 31.84375 0.4375 29.25 -0.265625 \nQ 26.65625 -0.984375 23.25 -0.984375 \nQ 18.84375 -0.984375 15.671875 0.09375 \nQ 12.5 1.171875 10.453125 3.421875 \nQ 8.40625 5.671875 7.453125 9.1875 \nQ 6.5 12.703125 6.5 17.625 \nL 6.5 52.828125 \nz\n\" id=\"LiberationSans-75\"/>\n      <path d=\"M 6.9375 0 \nL 6.9375 40.53125 \nQ 6.9375 42.1875 6.90625 43.921875 \nQ 6.890625 45.65625 6.828125 47.265625 \nQ 6.78125 48.875 6.734375 50.28125 \nQ 6.6875 51.703125 6.640625 52.828125 \nL 14.9375 52.828125 \nQ 14.984375 51.703125 15.0625 50.265625 \nQ 15.140625 48.828125 15.203125 47.3125 \nQ 15.28125 45.796875 15.296875 44.40625 \nQ 15.328125 43.015625 15.328125 42.046875 \nL 15.53125 42.046875 \nQ 16.453125 45.0625 17.5 47.28125 \nQ 18.5625 49.515625 19.96875 50.953125 \nQ 21.390625 52.390625 23.34375 53.09375 \nQ 25.296875 53.8125 28.078125 53.8125 \nQ 29.15625 53.8125 30.125 53.640625 \nQ 31.109375 53.46875 31.640625 53.328125 \nL 31.640625 45.265625 \nQ 30.765625 45.515625 29.59375 45.625 \nQ 28.421875 45.75 26.953125 45.75 \nQ 23.921875 45.75 21.796875 44.375 \nQ 19.671875 43.015625 18.328125 40.59375 \nQ 17 38.1875 16.359375 34.84375 \nQ 15.71875 31.5 15.71875 27.546875 \nL 15.71875 0 \nz\n\" id=\"LiberationSans-72\"/>\n     </defs>\n     <g style=\"fill:#262626;\" transform=\"translate(250.855547 349.169687)scale(0.11 -0.11)\">\n      <use xlink:href=\"#LiberationSans-48\"/>\n      <use x=\"72.216797\" xlink:href=\"#LiberationSans-6f\"/>\n      <use x=\"127.832031\" xlink:href=\"#LiberationSans-75\"/>\n      <use x=\"183.447266\" xlink:href=\"#LiberationSans-72\"/>\n     </g>\n    </g>\n   </g>\n   <g id=\"matplotlib.axis_2\">\n    <g id=\"ytick_1\">\n     <g id=\"line2d_11\">\n      <path clip-path=\"url(#pc857b3578e)\" d=\"M 39.575938 268.723763 \nL 485.975937 268.723763 \n\" style=\"fill:none;stroke:#ffffff;stroke-linecap:round;\"/>\n     </g>\n     <g id=\"line2d_12\"/>\n     <g id=\"text_7\">\n      <!-- 94 -->\n      <defs>\n       <path d=\"M 50.875 35.796875 \nQ 50.875 26.609375 49.140625 19.703125 \nQ 47.40625 12.796875 44.1875 8.203125 \nQ 40.96875 3.609375 36.34375 1.3125 \nQ 31.734375 -0.984375 25.984375 -0.984375 \nQ 22.015625 -0.984375 18.84375 -0.171875 \nQ 15.671875 0.640625 13.171875 2.34375 \nQ 10.6875 4.046875 8.921875 6.78125 \nQ 7.171875 9.515625 6.109375 13.375 \nL 14.5 14.703125 \nQ 15.875 10.25 18.78125 8.171875 \nQ 21.6875 6.109375 26.125 6.109375 \nQ 29.6875 6.109375 32.640625 7.78125 \nQ 35.59375 9.46875 37.671875 12.84375 \nQ 39.75 16.21875 40.921875 21.296875 \nQ 42.09375 26.375 42.1875 33.203125 \nQ 41.15625 30.90625 39.375 29.09375 \nQ 37.59375 27.296875 35.328125 26.046875 \nQ 33.0625 24.8125 30.421875 24.140625 \nQ 27.78125 23.484375 25.09375 23.484375 \nQ 20.40625 23.484375 16.625 25.171875 \nQ 12.84375 26.859375 10.203125 29.875 \nQ 7.5625 32.90625 6.125 37.171875 \nQ 4.6875 41.453125 4.6875 46.6875 \nQ 4.6875 52 6.21875 56.296875 \nQ 7.765625 60.59375 10.6875 63.59375 \nQ 13.625 66.609375 17.890625 68.21875 \nQ 22.171875 69.828125 27.59375 69.828125 \nQ 39.0625 69.828125 44.96875 61.328125 \nQ 50.875 52.828125 50.875 35.796875 \nz\nM 41.3125 44.28125 \nQ 41.3125 48.09375 40.40625 51.453125 \nQ 39.5 54.828125 37.71875 57.3125 \nQ 35.9375 59.8125 33.328125 61.25 \nQ 30.71875 62.703125 27.296875 62.703125 \nQ 24.125 62.703125 21.578125 61.578125 \nQ 19.046875 60.453125 17.28125 58.375 \nQ 15.53125 56.296875 14.578125 53.3125 \nQ 13.625 50.34375 13.625 46.6875 \nQ 13.625 43.21875 14.46875 40.234375 \nQ 15.328125 37.25 17.03125 35.078125 \nQ 18.75 32.90625 21.28125 31.65625 \nQ 23.828125 30.421875 27.203125 30.421875 \nQ 29.640625 30.421875 32.15625 31.25 \nQ 34.671875 32.078125 36.6875 33.78125 \nQ 38.71875 35.5 40.015625 38.109375 \nQ 41.3125 40.71875 41.3125 44.28125 \nz\n\" id=\"LiberationSans-39\"/>\n       <path d=\"M 43.015625 15.578125 \nL 43.015625 0 \nL 34.71875 0 \nL 34.71875 15.578125 \nL 2.296875 15.578125 \nL 2.296875 22.40625 \nL 33.796875 68.796875 \nL 43.015625 68.796875 \nL 43.015625 22.515625 \nL 52.6875 22.515625 \nL 52.6875 15.578125 \nz\nM 34.71875 58.890625 \nQ 34.625 58.640625 34.234375 57.9375 \nQ 33.84375 57.234375 33.34375 56.34375 \nQ 32.859375 55.46875 32.34375 54.5625 \nQ 31.84375 53.65625 31.453125 53.078125 \nL 13.8125 27.09375 \nQ 13.578125 26.703125 13.109375 26.0625 \nQ 12.640625 25.4375 12.15625 24.78125 \nQ 11.671875 24.125 11.171875 23.484375 \nQ 10.6875 22.859375 10.40625 22.515625 \nL 34.71875 22.515625 \nz\n\" id=\"LiberationSans-34\"/>\n      </defs>\n      <g style=\"fill:#262626;\" transform=\"translate(21.454063 272.3472)scale(0.1 -0.1)\">\n       <use xlink:href=\"#LiberationSans-39\"/>\n       <use x=\"55.615234\" xlink:href=\"#LiberationSans-34\"/>\n      </g>\n     </g>\n    </g>\n    <g id=\"ytick_2\">\n     <g id=\"line2d_13\">\n      <path clip-path=\"url(#pc857b3578e)\" d=\"M 39.575938 209.790696 \nL 485.975937 209.790696 \n\" style=\"fill:none;stroke:#ffffff;stroke-linecap:round;\"/>\n     </g>\n     <g id=\"line2d_14\"/>\n     <g id=\"text_8\">\n      <!-- 95 -->\n      <g style=\"fill:#262626;\" transform=\"translate(21.454063 213.414134)scale(0.1 -0.1)\">\n       <use xlink:href=\"#LiberationSans-39\"/>\n       <use x=\"55.615234\" xlink:href=\"#LiberationSans-35\"/>\n      </g>\n     </g>\n    </g>\n    <g id=\"ytick_3\">\n     <g id=\"line2d_15\">\n      <path clip-path=\"url(#pc857b3578e)\" d=\"M 39.575938 150.85763 \nL 485.975937 150.85763 \n\" style=\"fill:none;stroke:#ffffff;stroke-linecap:round;\"/>\n     </g>\n     <g id=\"line2d_16\"/>\n     <g id=\"text_9\">\n      <!-- 96 -->\n      <defs>\n       <path d=\"M 51.21875 22.515625 \nQ 51.21875 17.328125 49.78125 13 \nQ 48.34375 8.6875 45.53125 5.578125 \nQ 42.71875 2.484375 38.5625 0.75 \nQ 34.421875 -0.984375 29 -0.984375 \nQ 23 -0.984375 18.5 1.3125 \nQ 14.015625 3.609375 11.03125 7.921875 \nQ 8.0625 12.25 6.5625 18.53125 \nQ 5.078125 24.8125 5.078125 32.8125 \nQ 5.078125 42 6.765625 48.921875 \nQ 8.453125 55.859375 11.625 60.5 \nQ 14.796875 65.140625 19.359375 67.484375 \nQ 23.921875 69.828125 29.6875 69.828125 \nQ 33.203125 69.828125 36.28125 69.09375 \nQ 39.359375 68.359375 41.875 66.71875 \nQ 44.390625 65.09375 46.28125 62.40625 \nQ 48.1875 59.71875 49.3125 55.8125 \nL 40.921875 54.296875 \nQ 39.546875 58.734375 36.546875 60.71875 \nQ 33.546875 62.703125 29.59375 62.703125 \nQ 25.984375 62.703125 23.046875 60.984375 \nQ 20.125 59.28125 18.0625 55.875 \nQ 16.015625 52.484375 14.90625 47.359375 \nQ 13.8125 42.234375 13.8125 35.40625 \nQ 16.21875 39.84375 20.5625 42.15625 \nQ 24.90625 44.484375 30.515625 44.484375 \nQ 35.203125 44.484375 39.015625 42.96875 \nQ 42.828125 41.453125 45.53125 38.59375 \nQ 48.25 35.75 49.734375 31.671875 \nQ 51.21875 27.59375 51.21875 22.515625 \nz\nM 42.28125 22.125 \nQ 42.28125 25.6875 41.40625 28.5625 \nQ 40.53125 31.453125 38.765625 33.46875 \nQ 37.015625 35.5 34.421875 36.59375 \nQ 31.84375 37.703125 28.421875 37.703125 \nQ 26.03125 37.703125 23.578125 36.984375 \nQ 21.140625 36.28125 19.15625 34.6875 \nQ 17.1875 33.109375 15.9375 30.515625 \nQ 14.703125 27.9375 14.703125 24.21875 \nQ 14.703125 20.40625 15.671875 17.109375 \nQ 16.65625 13.8125 18.484375 11.375 \nQ 20.3125 8.9375 22.890625 7.515625 \nQ 25.484375 6.109375 28.71875 6.109375 \nQ 31.890625 6.109375 34.40625 7.203125 \nQ 36.921875 8.296875 38.671875 10.375 \nQ 40.4375 12.453125 41.359375 15.421875 \nQ 42.28125 18.40625 42.28125 22.125 \nz\n\" id=\"LiberationSans-36\"/>\n      </defs>\n      <g style=\"fill:#262626;\" transform=\"translate(21.454063 154.481067)scale(0.1 -0.1)\">\n       <use xlink:href=\"#LiberationSans-39\"/>\n       <use x=\"55.615234\" xlink:href=\"#LiberationSans-36\"/>\n      </g>\n     </g>\n    </g>\n    <g id=\"ytick_4\">\n     <g id=\"line2d_17\">\n      <path clip-path=\"url(#pc857b3578e)\" d=\"M 39.575938 91.924564 \nL 485.975937 91.924564 \n\" style=\"fill:none;stroke:#ffffff;stroke-linecap:round;\"/>\n     </g>\n     <g id=\"line2d_18\"/>\n     <g id=\"text_10\">\n      <!-- 97 -->\n      <defs>\n       <path d=\"M 50.59375 61.671875 \nQ 45.40625 53.765625 41.0625 46.453125 \nQ 36.71875 39.15625 33.59375 31.75 \nQ 30.46875 24.359375 28.734375 16.578125 \nQ 27 8.796875 27 0 \nL 17.828125 0 \nQ 17.828125 8.25 19.78125 16.1875 \nQ 21.734375 24.125 25.046875 31.765625 \nQ 28.375 39.40625 32.765625 46.78125 \nQ 37.15625 54.15625 42.09375 61.328125 \nL 5.125 61.328125 \nL 5.125 68.796875 \nL 50.59375 68.796875 \nz\n\" id=\"LiberationSans-37\"/>\n      </defs>\n      <g style=\"fill:#262626;\" transform=\"translate(21.454063 95.548001)scale(0.1 -0.1)\">\n       <use xlink:href=\"#LiberationSans-39\"/>\n       <use x=\"55.615234\" xlink:href=\"#LiberationSans-37\"/>\n      </g>\n     </g>\n    </g>\n    <g id=\"ytick_5\">\n     <g id=\"line2d_19\">\n      <path clip-path=\"url(#pc857b3578e)\" d=\"M 39.575938 32.991497 \nL 485.975937 32.991497 \n\" style=\"fill:none;stroke:#ffffff;stroke-linecap:round;\"/>\n     </g>\n     <g id=\"line2d_20\"/>\n     <g id=\"text_11\">\n      <!-- 98 -->\n      <defs>\n       <path d=\"M 51.265625 19.1875 \nQ 51.265625 14.796875 49.875 11.109375 \nQ 48.484375 7.421875 45.625 4.734375 \nQ 42.78125 2.046875 38.328125 0.53125 \nQ 33.890625 -0.984375 27.828125 -0.984375 \nQ 21.78125 -0.984375 17.359375 0.53125 \nQ 12.9375 2.046875 10.03125 4.703125 \nQ 7.125 7.375 5.734375 11.0625 \nQ 4.34375 14.75 4.34375 19.09375 \nQ 4.34375 22.859375 5.484375 25.78125 \nQ 6.640625 28.71875 8.5625 30.828125 \nQ 10.5 32.953125 12.96875 34.25 \nQ 15.4375 35.546875 18.0625 35.984375 \nL 18.0625 36.1875 \nQ 15.1875 36.859375 12.90625 38.375 \nQ 10.640625 39.890625 9.09375 42.015625 \nQ 7.5625 44.140625 6.75 46.71875 \nQ 5.953125 49.3125 5.953125 52.203125 \nQ 5.953125 55.8125 7.34375 59 \nQ 8.734375 62.203125 11.46875 64.625 \nQ 14.203125 67.046875 18.25 68.4375 \nQ 22.3125 69.828125 27.640625 69.828125 \nQ 33.25 69.828125 37.375 68.40625 \nQ 41.5 67 44.203125 64.578125 \nQ 46.921875 62.15625 48.234375 58.9375 \nQ 49.5625 55.71875 49.5625 52.09375 \nQ 49.5625 49.265625 48.75 46.671875 \nQ 47.953125 44.09375 46.40625 41.96875 \nQ 44.875 39.84375 42.59375 38.34375 \nQ 40.328125 36.859375 37.359375 36.28125 \nL 37.359375 36.078125 \nQ 40.328125 35.59375 42.859375 34.296875 \nQ 45.40625 33.015625 47.265625 30.890625 \nQ 49.125 28.765625 50.1875 25.828125 \nQ 51.265625 22.90625 51.265625 19.1875 \nz\nM 40.4375 51.609375 \nQ 40.4375 54.203125 39.765625 56.34375 \nQ 39.109375 58.5 37.59375 60.03125 \nQ 36.078125 61.578125 33.640625 62.421875 \nQ 31.203125 63.28125 27.640625 63.28125 \nQ 24.171875 63.28125 21.78125 62.421875 \nQ 19.390625 61.578125 17.84375 60.03125 \nQ 16.3125 58.5 15.625 56.34375 \nQ 14.9375 54.203125 14.9375 51.609375 \nQ 14.9375 49.5625 15.46875 47.40625 \nQ 16.015625 45.265625 17.421875 43.5 \nQ 18.84375 41.75 21.328125 40.625 \nQ 23.828125 39.5 27.734375 39.5 \nQ 31.890625 39.5 34.40625 40.625 \nQ 36.921875 41.75 38.25 43.5 \nQ 39.59375 45.265625 40.015625 47.40625 \nQ 40.4375 49.5625 40.4375 51.609375 \nz\nM 42.140625 20.015625 \nQ 42.140625 22.515625 41.453125 24.828125 \nQ 40.765625 27.15625 39.109375 28.9375 \nQ 37.453125 30.71875 34.640625 31.8125 \nQ 31.84375 32.90625 27.640625 32.90625 \nQ 23.78125 32.90625 21.0625 31.8125 \nQ 18.359375 30.71875 16.671875 28.90625 \nQ 14.984375 27.09375 14.203125 24.71875 \nQ 13.421875 22.359375 13.421875 19.828125 \nQ 13.421875 16.65625 14.203125 14.03125 \nQ 14.984375 11.421875 16.6875 9.546875 \nQ 18.40625 7.671875 21.1875 6.640625 \nQ 23.96875 5.609375 27.9375 5.609375 \nQ 31.9375 5.609375 34.671875 6.640625 \nQ 37.40625 7.671875 39.0625 9.546875 \nQ 40.71875 11.421875 41.421875 14.078125 \nQ 42.140625 16.75 42.140625 20.015625 \nz\n\" id=\"LiberationSans-38\"/>\n      </defs>\n      <g style=\"fill:#262626;\" transform=\"translate(21.454063 36.614935)scale(0.1 -0.1)\">\n       <use xlink:href=\"#LiberationSans-39\"/>\n       <use x=\"55.615234\" xlink:href=\"#LiberationSans-38\"/>\n      </g>\n     </g>\n    </g>\n    <g id=\"text_12\">\n     <!-- 95% Predictive Interval Coverage -->\n     <defs>\n      <path d=\"M 85.359375 21.1875 \nQ 85.359375 15.09375 84.109375 10.90625 \nQ 82.859375 6.734375 80.734375 4.171875 \nQ 78.609375 1.609375 75.78125 0.5 \nQ 72.953125 -0.59375 69.734375 -0.59375 \nQ 66.5 -0.59375 63.6875 0.5 \nQ 60.890625 1.609375 58.8125 4.140625 \nQ 56.734375 6.6875 55.53125 10.859375 \nQ 54.34375 15.046875 54.34375 21.1875 \nQ 54.34375 27.6875 55.515625 31.9375 \nQ 56.6875 36.1875 58.78125 38.703125 \nQ 60.890625 41.21875 63.75 42.21875 \nQ 66.609375 43.21875 69.921875 43.21875 \nQ 73.140625 43.21875 75.953125 42.21875 \nQ 78.765625 41.21875 80.828125 38.703125 \nQ 82.90625 36.1875 84.125 31.9375 \nQ 85.359375 27.6875 85.359375 21.1875 \nz\nM 25.734375 0 \nL 18.171875 0 \nL 63.1875 68.796875 \nL 70.84375 68.796875 \nz\nM 19.234375 69.390625 \nQ 22.359375 69.390625 25.140625 68.390625 \nQ 27.9375 67.390625 30.03125 64.890625 \nQ 32.125 62.40625 33.3125 58.203125 \nQ 34.515625 54 34.515625 47.609375 \nQ 34.515625 41.453125 33.296875 37.25 \nQ 32.078125 33.0625 30 30.4375 \nQ 27.9375 27.828125 25.09375 26.703125 \nQ 22.265625 25.59375 19.046875 25.59375 \nQ 15.765625 25.59375 12.9375 26.703125 \nQ 10.109375 27.828125 8.03125 30.421875 \nQ 5.953125 33.015625 4.75 37.203125 \nQ 3.5625 41.40625 3.5625 47.609375 \nQ 3.5625 54 4.75 58.203125 \nQ 5.953125 62.40625 8.046875 64.890625 \nQ 10.15625 67.390625 13.03125 68.390625 \nQ 15.921875 69.390625 19.234375 69.390625 \nz\nM 78.125 21.1875 \nQ 78.125 26.03125 77.578125 29.21875 \nQ 77.046875 32.421875 76 34.328125 \nQ 74.953125 36.234375 73.40625 37.015625 \nQ 71.875 37.796875 69.921875 37.796875 \nQ 67.875 37.796875 66.3125 36.984375 \nQ 64.75 36.1875 63.671875 34.28125 \nQ 62.59375 32.375 62.0625 29.171875 \nQ 61.53125 25.984375 61.53125 21.1875 \nQ 61.53125 16.546875 62.078125 13.421875 \nQ 62.640625 10.296875 63.6875 8.375 \nQ 64.75 6.453125 66.28125 5.609375 \nQ 67.828125 4.78125 69.828125 4.78125 \nQ 71.734375 4.78125 73.265625 5.609375 \nQ 74.8125 6.453125 75.875 8.375 \nQ 76.953125 10.296875 77.53125 13.421875 \nQ 78.125 16.546875 78.125 21.1875 \nz\nM 27.34375 47.609375 \nQ 27.34375 52.390625 26.796875 55.5625 \nQ 26.265625 58.734375 25.234375 60.640625 \nQ 24.21875 62.546875 22.703125 63.328125 \nQ 21.1875 64.109375 19.234375 64.109375 \nQ 17.140625 64.109375 15.546875 63.296875 \nQ 13.96875 62.5 12.890625 60.59375 \nQ 11.8125 58.6875 11.28125 55.515625 \nQ 10.75 52.34375 10.75 47.609375 \nQ 10.75 42.96875 11.296875 39.796875 \nQ 11.859375 36.625 12.90625 34.6875 \nQ 13.96875 32.765625 15.53125 31.9375 \nQ 17.09375 31.109375 19.140625 31.109375 \nQ 21 31.109375 22.515625 31.9375 \nQ 24.03125 32.765625 25.09375 34.6875 \nQ 26.171875 36.625 26.75 39.796875 \nQ 27.34375 42.96875 27.34375 47.609375 \nz\n\" id=\"LiberationSans-25\"/>\n      <path id=\"LiberationSans-20\"/>\n      <path d=\"M 61.421875 48.09375 \nQ 61.421875 43.609375 59.9375 39.71875 \nQ 58.453125 35.84375 55.5 32.984375 \nQ 52.546875 30.125 48.09375 28.46875 \nQ 43.65625 26.8125 37.75 26.8125 \nL 17.53125 26.8125 \nL 17.53125 0 \nL 8.203125 0 \nL 8.203125 68.796875 \nL 37.15625 68.796875 \nQ 43.265625 68.796875 47.796875 67.3125 \nQ 52.34375 65.828125 55.375 63.109375 \nQ 58.40625 60.40625 59.90625 56.5625 \nQ 61.421875 52.734375 61.421875 48.09375 \nz\nM 52.046875 48 \nQ 52.046875 54.546875 48.046875 57.9375 \nQ 44.046875 61.328125 36.03125 61.328125 \nL 17.53125 61.328125 \nL 17.53125 34.1875 \nL 36.421875 34.1875 \nQ 44.484375 34.1875 48.265625 37.75 \nQ 52.046875 41.3125 52.046875 48 \nz\n\" id=\"LiberationSans-50\"/>\n      <path d=\"M 13.484375 24.5625 \nQ 13.484375 20.40625 14.328125 16.90625 \nQ 15.1875 13.421875 16.96875 10.90625 \nQ 18.75 8.40625 21.53125 7 \nQ 24.3125 5.609375 28.21875 5.609375 \nQ 33.9375 5.609375 37.375 7.90625 \nQ 40.828125 10.203125 42.046875 13.71875 \nL 49.75 11.53125 \nQ 48.921875 9.328125 47.4375 7.109375 \nQ 45.953125 4.890625 43.453125 3.09375 \nQ 40.96875 1.3125 37.234375 0.15625 \nQ 33.5 -0.984375 28.21875 -0.984375 \nQ 16.5 -0.984375 10.375 6 \nQ 4.25 12.984375 4.25 26.765625 \nQ 4.25 34.1875 6.09375 39.328125 \nQ 7.953125 44.484375 11.171875 47.703125 \nQ 14.40625 50.921875 18.703125 52.359375 \nQ 23 53.8125 27.875 53.8125 \nQ 34.515625 53.8125 38.984375 51.65625 \nQ 43.453125 49.515625 46.15625 45.71875 \nQ 48.875 41.9375 50.015625 36.8125 \nQ 51.171875 31.6875 51.171875 25.734375 \nL 51.171875 24.5625 \nz\nM 42.09375 31.296875 \nQ 41.359375 39.65625 37.84375 43.484375 \nQ 34.328125 47.3125 27.734375 47.3125 \nQ 25.53125 47.3125 23.109375 46.609375 \nQ 20.703125 45.90625 18.65625 44.09375 \nQ 16.609375 42.28125 15.1875 39.171875 \nQ 13.765625 36.078125 13.578125 31.296875 \nz\n\" id=\"LiberationSans-65\"/>\n      <path d=\"M 40.09375 8.5 \nQ 37.640625 3.421875 33.609375 1.21875 \nQ 29.59375 -0.984375 23.640625 -0.984375 \nQ 13.625 -0.984375 8.90625 5.75 \nQ 4.203125 12.5 4.203125 26.171875 \nQ 4.203125 53.8125 23.640625 53.8125 \nQ 29.640625 53.8125 33.640625 51.609375 \nQ 37.640625 49.421875 40.09375 44.625 \nL 40.1875 44.625 \nQ 40.1875 45.125 40.15625 46.171875 \nQ 40.140625 47.21875 40.109375 48.359375 \nQ 40.09375 49.515625 40.09375 50.53125 \nQ 40.09375 51.5625 40.09375 52 \nL 40.09375 72.46875 \nL 48.875 72.46875 \nL 48.875 10.890625 \nQ 48.875 8.984375 48.890625 7.21875 \nQ 48.921875 5.46875 48.96875 4 \nQ 49.03125 2.546875 49.078125 1.484375 \nQ 49.125 0.4375 49.171875 0 \nL 40.765625 0 \nQ 40.671875 0.484375 40.59375 1.390625 \nQ 40.53125 2.296875 40.453125 3.46875 \nQ 40.375 4.640625 40.328125 5.9375 \nQ 40.28125 7.234375 40.28125 8.5 \nz\nM 13.421875 26.46875 \nQ 13.421875 21 14.109375 17.09375 \nQ 14.796875 13.1875 16.3125 10.671875 \nQ 17.828125 8.15625 20.171875 6.984375 \nQ 22.515625 5.8125 25.875 5.8125 \nQ 29.34375 5.8125 32 6.9375 \nQ 34.671875 8.0625 36.453125 10.578125 \nQ 38.234375 13.09375 39.15625 17.140625 \nQ 40.09375 21.1875 40.09375 27.046875 \nQ 40.09375 32.671875 39.15625 36.546875 \nQ 38.234375 40.4375 36.421875 42.828125 \nQ 34.625 45.21875 32 46.265625 \nQ 29.390625 47.3125 25.984375 47.3125 \nQ 22.75 47.3125 20.40625 46.1875 \nQ 18.0625 45.0625 16.5 42.578125 \nQ 14.9375 40.09375 14.171875 36.109375 \nQ 13.421875 32.125 13.421875 26.46875 \nz\n\" id=\"LiberationSans-64\"/>\n      <path d=\"M 6.6875 64.0625 \nL 6.6875 72.46875 \nL 15.484375 72.46875 \nL 15.484375 64.0625 \nz\nM 6.6875 0 \nL 6.6875 52.828125 \nL 15.484375 52.828125 \nL 15.484375 0 \nz\n\" id=\"LiberationSans-69\"/>\n      <path d=\"M 13.421875 26.65625 \nQ 13.421875 22.125 14.078125 18.3125 \nQ 14.75 14.5 16.3125 11.734375 \nQ 17.875 8.984375 20.4375 7.46875 \nQ 23 5.953125 26.765625 5.953125 \nQ 31.453125 5.953125 34.59375 8.484375 \nQ 37.75 11.03125 38.484375 16.3125 \nL 47.359375 15.71875 \nQ 46.921875 12.453125 45.453125 9.421875 \nQ 44 6.390625 41.484375 4.09375 \nQ 38.96875 1.8125 35.34375 0.40625 \nQ 31.734375 -0.984375 27 -0.984375 \nQ 20.796875 -0.984375 16.453125 1.109375 \nQ 12.109375 3.21875 9.390625 6.90625 \nQ 6.6875 10.59375 5.46875 15.59375 \nQ 4.25 20.609375 4.25 26.46875 \nQ 4.25 31.78125 5.125 35.859375 \nQ 6 39.9375 7.59375 42.984375 \nQ 9.1875 46.046875 11.328125 48.125 \nQ 13.484375 50.203125 15.984375 51.4375 \nQ 18.5 52.6875 21.28125 53.25 \nQ 24.078125 53.8125 26.90625 53.8125 \nQ 31.34375 53.8125 34.8125 52.59375 \nQ 38.28125 51.375 40.796875 49.25 \nQ 43.3125 47.125 44.875 44.234375 \nQ 46.4375 41.359375 47.078125 38.03125 \nL 38.03125 37.359375 \nQ 37.359375 41.75 34.5625 44.328125 \nQ 31.78125 46.921875 26.65625 46.921875 \nQ 22.90625 46.921875 20.390625 45.671875 \nQ 17.875 44.4375 16.3125 41.921875 \nQ 14.75 39.40625 14.078125 35.59375 \nQ 13.421875 31.78125 13.421875 26.65625 \nz\n\" id=\"LiberationSans-63\"/>\n      <path d=\"M 27.046875 0.390625 \nQ 25.046875 -0.140625 22.96875 -0.453125 \nQ 20.90625 -0.78125 18.171875 -0.78125 \nQ 7.625 -0.78125 7.625 11.1875 \nL 7.625 46.4375 \nL 1.515625 46.4375 \nL 1.515625 52.828125 \nL 7.953125 52.828125 \nL 10.546875 64.65625 \nL 16.40625 64.65625 \nL 16.40625 52.828125 \nL 26.171875 52.828125 \nL 26.171875 46.4375 \nL 16.40625 46.4375 \nL 16.40625 13.09375 \nQ 16.40625 9.28125 17.640625 7.734375 \nQ 18.890625 6.203125 21.96875 6.203125 \nQ 23.25 6.203125 24.4375 6.390625 \nQ 25.640625 6.59375 27.046875 6.890625 \nz\n\" id=\"LiberationSans-74\"/>\n      <path d=\"M 29.9375 0 \nL 19.53125 0 \nL 0.34375 52.828125 \nL 9.71875 52.828125 \nL 21.34375 18.453125 \nQ 21.6875 17.390625 22.140625 15.84375 \nQ 22.609375 14.3125 23.09375 12.640625 \nQ 23.578125 10.984375 24 9.4375 \nQ 24.421875 7.90625 24.703125 6.890625 \nQ 25 7.90625 25.453125 9.4375 \nQ 25.921875 10.984375 26.40625 12.59375 \nQ 26.90625 14.203125 27.421875 15.734375 \nQ 27.9375 17.28125 28.328125 18.359375 \nL 40.328125 52.828125 \nL 49.65625 52.828125 \nz\n\" id=\"LiberationSans-76\"/>\n      <path d=\"M 9.234375 0 \nL 9.234375 68.796875 \nL 18.5625 68.796875 \nL 18.5625 0 \nz\n\" id=\"LiberationSans-49\"/>\n      <path d=\"M 40.28125 0 \nL 40.28125 33.5 \nQ 40.28125 37.359375 39.71875 39.9375 \nQ 39.15625 42.53125 37.890625 44.109375 \nQ 36.625 45.703125 34.546875 46.359375 \nQ 32.46875 47.015625 29.390625 47.015625 \nQ 26.265625 47.015625 23.75 45.921875 \nQ 21.234375 44.828125 19.453125 42.75 \nQ 17.671875 40.671875 16.6875 37.625 \nQ 15.71875 34.578125 15.71875 30.609375 \nL 15.71875 0 \nL 6.9375 0 \nL 6.9375 41.546875 \nQ 6.9375 43.21875 6.90625 45.046875 \nQ 6.890625 46.875 6.828125 48.5 \nQ 6.78125 50.140625 6.734375 51.3125 \nQ 6.6875 52.484375 6.640625 52.828125 \nL 14.9375 52.828125 \nQ 14.984375 52.59375 15.03125 51.515625 \nQ 15.09375 50.4375 15.15625 49.046875 \nQ 15.234375 47.65625 15.28125 46.21875 \nQ 15.328125 44.78125 15.328125 43.796875 \nL 15.484375 43.796875 \nQ 16.75 46.09375 18.265625 47.953125 \nQ 19.78125 49.8125 21.78125 51.09375 \nQ 23.78125 52.390625 26.359375 53.09375 \nQ 28.953125 53.8125 32.375 53.8125 \nQ 36.765625 53.8125 39.9375 52.734375 \nQ 43.109375 51.65625 45.15625 49.40625 \nQ 47.21875 47.171875 48.171875 43.625 \nQ 49.125 40.09375 49.125 35.203125 \nL 49.125 0 \nz\n\" id=\"LiberationSans-6e\"/>\n      <path d=\"M 20.21875 -0.984375 \nQ 12.25 -0.984375 8.25 3.21875 \nQ 4.25 7.421875 4.25 14.75 \nQ 4.25 19.96875 6.21875 23.3125 \nQ 8.203125 26.65625 11.390625 28.5625 \nQ 14.59375 30.46875 18.6875 31.203125 \nQ 22.796875 31.9375 27.046875 32.03125 \nL 38.921875 32.234375 \nL 38.921875 35.109375 \nQ 38.921875 38.375 38.234375 40.671875 \nQ 37.546875 42.96875 36.125 44.375 \nQ 34.71875 45.796875 32.59375 46.453125 \nQ 30.46875 47.125 27.59375 47.125 \nQ 25.046875 47.125 23 46.75 \nQ 20.953125 46.390625 19.4375 45.4375 \nQ 17.921875 44.484375 16.984375 42.84375 \nQ 16.0625 41.21875 15.765625 38.71875 \nL 6.59375 39.546875 \nQ 7.078125 42.671875 8.4375 45.28125 \nQ 9.8125 47.90625 12.328125 49.796875 \nQ 14.84375 51.703125 18.625 52.75 \nQ 22.40625 53.8125 27.78125 53.8125 \nQ 37.75 53.8125 42.765625 49.234375 \nQ 47.796875 44.671875 47.796875 36.03125 \nL 47.796875 13.28125 \nQ 47.796875 9.375 48.828125 7.390625 \nQ 49.859375 5.421875 52.734375 5.421875 \nQ 53.46875 5.421875 54.203125 5.515625 \nQ 54.9375 5.609375 55.609375 5.765625 \nL 55.609375 0.296875 \nQ 53.953125 -0.09375 52.3125 -0.28125 \nQ 50.6875 -0.484375 48.828125 -0.484375 \nQ 46.34375 -0.484375 44.5625 0.171875 \nQ 42.78125 0.828125 41.65625 2.171875 \nQ 40.53125 3.515625 39.9375 5.484375 \nQ 39.359375 7.46875 39.203125 10.109375 \nL 38.921875 10.109375 \nQ 37.5 7.5625 35.8125 5.515625 \nQ 34.125 3.46875 31.875 2.03125 \nQ 29.640625 0.59375 26.78125 -0.1875 \nQ 23.921875 -0.984375 20.21875 -0.984375 \nz\nM 22.21875 5.609375 \nQ 26.421875 5.609375 29.5625 7.140625 \nQ 32.71875 8.6875 34.78125 11.078125 \nQ 36.859375 13.484375 37.890625 16.3125 \nQ 38.921875 19.140625 38.921875 21.734375 \nL 38.921875 26.078125 \nL 29.296875 25.875 \nQ 26.078125 25.828125 23.171875 25.40625 \nQ 20.265625 25 18.0625 23.78125 \nQ 15.875 22.5625 14.578125 20.359375 \nQ 13.28125 18.171875 13.28125 14.59375 \nQ 13.28125 10.296875 15.59375 7.953125 \nQ 17.921875 5.609375 22.21875 5.609375 \nz\n\" id=\"LiberationSans-61\"/>\n      <path d=\"M 6.734375 0 \nL 6.734375 72.46875 \nL 15.53125 72.46875 \nL 15.53125 0 \nz\n\" id=\"LiberationSans-6c\"/>\n      <path d=\"M 38.671875 62.203125 \nQ 32.8125 62.203125 28.296875 60.25 \nQ 23.78125 58.296875 20.71875 54.6875 \nQ 17.671875 51.078125 16.109375 46 \nQ 14.546875 40.921875 14.546875 34.71875 \nQ 14.546875 28.515625 16.234375 23.359375 \nQ 17.921875 18.21875 21.0625 14.5 \nQ 24.21875 10.796875 28.78125 8.734375 \nQ 33.34375 6.6875 39.0625 6.6875 \nQ 43.0625 6.6875 46.359375 7.734375 \nQ 49.65625 8.796875 52.3125 10.6875 \nQ 54.984375 12.59375 57.078125 15.203125 \nQ 59.1875 17.828125 60.796875 21 \nL 68.40625 17.1875 \nQ 66.546875 13.328125 63.8125 10 \nQ 61.078125 6.6875 57.390625 4.25 \nQ 53.71875 1.8125 49.046875 0.40625 \nQ 44.390625 -0.984375 38.625 -0.984375 \nQ 30.28125 -0.984375 24 1.671875 \nQ 17.71875 4.34375 13.5 9.109375 \nQ 9.28125 13.875 7.171875 20.40625 \nQ 5.078125 26.953125 5.078125 34.71875 \nQ 5.078125 42.78125 7.296875 49.265625 \nQ 9.515625 55.765625 13.78125 60.328125 \nQ 18.0625 64.890625 24.3125 67.359375 \nQ 30.5625 69.828125 38.578125 69.828125 \nQ 49.5625 69.828125 56.9375 65.53125 \nQ 64.3125 61.234375 67.78125 52.78125 \nL 58.9375 49.859375 \nQ 57.953125 52.296875 56.296875 54.515625 \nQ 54.640625 56.734375 52.140625 58.4375 \nQ 49.65625 60.15625 46.3125 61.171875 \nQ 42.96875 62.203125 38.671875 62.203125 \nz\n\" id=\"LiberationSans-43\"/>\n      <path d=\"M 26.765625 -20.75 \nQ 22.21875 -20.75 18.703125 -19.8125 \nQ 15.1875 -18.890625 12.6875 -17.15625 \nQ 10.203125 -15.4375 8.640625 -13.03125 \nQ 7.078125 -10.640625 6.390625 -7.71875 \nL 15.234375 -6.453125 \nQ 16.109375 -10.109375 19.109375 -12.078125 \nQ 22.125 -14.0625 27 -14.0625 \nQ 29.984375 -14.0625 32.421875 -13.234375 \nQ 34.859375 -12.40625 36.5625 -10.5625 \nQ 38.28125 -8.734375 39.203125 -5.796875 \nQ 40.140625 -2.875 40.140625 1.3125 \nL 40.140625 9.8125 \nL 40.046875 9.8125 \nQ 39.0625 7.8125 37.625 5.984375 \nQ 36.1875 4.15625 34.109375 2.734375 \nQ 32.03125 1.3125 29.296875 0.453125 \nQ 26.5625 -0.390625 23.046875 -0.390625 \nQ 18.015625 -0.390625 14.421875 1.296875 \nQ 10.84375 2.984375 8.5625 6.34375 \nQ 6.296875 9.71875 5.25 14.71875 \nQ 4.203125 19.734375 4.203125 26.3125 \nQ 4.203125 32.671875 5.25 37.75 \nQ 6.296875 42.828125 8.65625 46.359375 \nQ 11.03125 49.90625 14.8125 51.78125 \nQ 18.609375 53.65625 24.03125 53.65625 \nQ 29.640625 53.65625 33.765625 51.09375 \nQ 37.890625 48.53125 40.140625 43.796875 \nL 40.234375 43.796875 \nQ 40.234375 45.015625 40.296875 46.53125 \nQ 40.375 48.046875 40.453125 49.390625 \nQ 40.53125 50.734375 40.625 51.703125 \nQ 40.71875 52.6875 40.828125 52.828125 \nL 49.171875 52.828125 \nQ 49.125 52.390625 49.078125 51.34375 \nQ 49.03125 50.296875 48.96875 48.828125 \nQ 48.921875 47.359375 48.890625 45.578125 \nQ 48.875 43.796875 48.875 41.890625 \nL 48.875 1.515625 \nQ 48.875 -9.578125 43.421875 -15.15625 \nQ 37.984375 -20.75 26.765625 -20.75 \nz\nM 40.140625 26.421875 \nQ 40.140625 31.9375 38.9375 35.859375 \nQ 37.75 39.796875 35.796875 42.28125 \nQ 33.84375 44.78125 31.328125 45.953125 \nQ 28.8125 47.125 26.171875 47.125 \nQ 22.796875 47.125 20.375 45.953125 \nQ 17.96875 44.78125 16.375 42.265625 \nQ 14.796875 39.75 14.03125 35.8125 \nQ 13.28125 31.890625 13.28125 26.421875 \nQ 13.28125 20.703125 14.03125 16.8125 \nQ 14.796875 12.9375 16.359375 10.546875 \nQ 17.921875 8.15625 20.3125 7.125 \nQ 22.703125 6.109375 26.03125 6.109375 \nQ 28.65625 6.109375 31.171875 7.21875 \nQ 33.6875 8.34375 35.6875 10.78125 \nQ 37.703125 13.234375 38.921875 17.09375 \nQ 40.140625 20.953125 40.140625 26.421875 \nz\n\" id=\"LiberationSans-67\"/>\n     </defs>\n     <g style=\"fill:#262626;\" transform=\"translate(15.171563 253.00625)rotate(-90)scale(0.11 -0.11)\">\n      <use xlink:href=\"#LiberationSans-39\"/>\n      <use x=\"55.615234\" xlink:href=\"#LiberationSans-35\"/>\n      <use x=\"111.230469\" xlink:href=\"#LiberationSans-25\"/>\n      <use x=\"200.146484\" xlink:href=\"#LiberationSans-20\"/>\n      <use x=\"227.929688\" xlink:href=\"#LiberationSans-50\"/>\n      <use x=\"294.628906\" xlink:href=\"#LiberationSans-72\"/>\n      <use x=\"327.929688\" xlink:href=\"#LiberationSans-65\"/>\n      <use x=\"383.544922\" xlink:href=\"#LiberationSans-64\"/>\n      <use x=\"439.160156\" xlink:href=\"#LiberationSans-69\"/>\n      <use x=\"461.376953\" xlink:href=\"#LiberationSans-63\"/>\n      <use x=\"511.376953\" xlink:href=\"#LiberationSans-74\"/>\n      <use x=\"539.160156\" xlink:href=\"#LiberationSans-69\"/>\n      <use x=\"561.376953\" xlink:href=\"#LiberationSans-76\"/>\n      <use x=\"611.376953\" xlink:href=\"#LiberationSans-65\"/>\n      <use x=\"666.992188\" xlink:href=\"#LiberationSans-20\"/>\n      <use x=\"694.775391\" xlink:href=\"#LiberationSans-49\"/>\n      <use x=\"722.558594\" xlink:href=\"#LiberationSans-6e\"/>\n      <use x=\"778.173828\" xlink:href=\"#LiberationSans-74\"/>\n      <use x=\"805.957031\" xlink:href=\"#LiberationSans-65\"/>\n      <use x=\"861.572266\" xlink:href=\"#LiberationSans-72\"/>\n      <use x=\"894.873047\" xlink:href=\"#LiberationSans-76\"/>\n      <use x=\"944.873047\" xlink:href=\"#LiberationSans-61\"/>\n      <use x=\"1000.488281\" xlink:href=\"#LiberationSans-6c\"/>\n      <use x=\"1022.705078\" xlink:href=\"#LiberationSans-20\"/>\n      <use x=\"1050.488281\" xlink:href=\"#LiberationSans-43\"/>\n      <use x=\"1122.705078\" xlink:href=\"#LiberationSans-6f\"/>\n      <use x=\"1178.320312\" xlink:href=\"#LiberationSans-76\"/>\n      <use x=\"1228.320312\" xlink:href=\"#LiberationSans-65\"/>\n      <use x=\"1283.935547\" xlink:href=\"#LiberationSans-72\"/>\n      <use x=\"1317.236328\" xlink:href=\"#LiberationSans-61\"/>\n      <use x=\"1372.851562\" xlink:href=\"#LiberationSans-67\"/>\n      <use x=\"1428.466797\" xlink:href=\"#LiberationSans-65\"/>\n     </g>\n    </g>\n   </g>\n   <g id=\"line2d_21\">\n    <path clip-path=\"url(#pc857b3578e)\" d=\"M 59.866847 70.785867 \nL 77.511115 61.102528 \nL 95.155384 43.119748 \nL 112.799653 115.159271 \nL 130.443922 170.46794 \nL 148.08819 307.28625 \nL 165.732459 191.462231 \nL 183.376728 152.784597 \nL 201.020997 89.562947 \nL 218.665266 61.049986 \nL 236.309534 53.400978 \nL 253.953803 94.629771 \nL 271.598072 92.072019 \nL 289.242341 107.131445 \nL 306.886609 100.853816 \nL 324.530878 167.018708 \nL 342.175147 164.640363 \nL 359.819416 102.095753 \nL 377.463685 96.094727 \nL 395.107953 76.209079 \nL 412.752222 67.87657 \nL 430.396491 74.177674 \nL 448.04076 35.48625 \nL 465.685028 116.253839 \n\" style=\"fill:none;stroke:#4c72b0;stroke-linecap:round;stroke-width:1.75;\"/>\n   </g>\n   <g id=\"line2d_22\">\n    <path clip-path=\"url(#pc857b3578e)\" d=\"M 39.575938 209.790696 \nL 485.975937 209.790696 \n\" style=\"fill:none;stroke:#c44e52;stroke-linecap:round;stroke-width:1.75;\"/>\n   </g>\n   <g id=\"patch_3\">\n    <path d=\"M 39.575938 320.87625 \nL 39.575938 21.89625 \n\" style=\"fill:none;\"/>\n   </g>\n   <g id=\"patch_4\">\n    <path d=\"M 485.975937 320.87625 \nL 485.975937 21.89625 \n\" style=\"fill:none;\"/>\n   </g>\n   <g id=\"patch_5\">\n    <path d=\"M 39.575938 320.87625 \nL 485.975938 320.87625 \n\" style=\"fill:none;\"/>\n   </g>\n   <g id=\"patch_6\">\n    <path d=\"M 39.575938 21.89625 \nL 485.975938 21.89625 \n\" style=\"fill:none;\"/>\n   </g>\n   <g id=\"text_13\">\n    <!-- Coverage of 95% Predictive Interval by Hour -->\n    <defs>\n     <path d=\"M 17.625 46.4375 \nL 17.625 0 \nL 8.84375 0 \nL 8.84375 46.4375 \nL 1.421875 46.4375 \nL 1.421875 52.828125 \nL 8.84375 52.828125 \nL 8.84375 58.796875 \nQ 8.84375 61.671875 9.375 64.140625 \nQ 9.90625 66.609375 11.34375 68.4375 \nQ 12.796875 70.265625 15.28125 71.3125 \nQ 17.78125 72.359375 21.734375 72.359375 \nQ 23.296875 72.359375 24.96875 72.21875 \nQ 26.65625 72.078125 27.9375 71.78125 \nL 27.9375 65.09375 \nQ 27.09375 65.234375 26 65.359375 \nQ 24.90625 65.484375 24.03125 65.484375 \nQ 22.078125 65.484375 20.828125 64.9375 \nQ 19.578125 64.40625 18.875 63.40625 \nQ 18.171875 62.40625 17.890625 60.9375 \nQ 17.625 59.46875 17.625 57.5625 \nL 17.625 52.828125 \nL 27.9375 52.828125 \nL 27.9375 46.4375 \nz\n\" id=\"LiberationSans-66\"/>\n     <path d=\"M 51.421875 26.65625 \nQ 51.421875 -0.984375 31.984375 -0.984375 \nQ 25.984375 -0.984375 22 1.1875 \nQ 18.015625 3.375 15.53125 8.203125 \nL 15.4375 8.203125 \nQ 15.4375 6.9375 15.359375 5.5625 \nQ 15.28125 4.203125 15.203125 3.03125 \nQ 15.140625 1.859375 15.0625 1.03125 \nQ 14.984375 0.203125 14.9375 0 \nL 6.453125 0 \nQ 6.5 0.4375 6.546875 1.484375 \nQ 6.59375 2.546875 6.640625 4 \nQ 6.6875 5.46875 6.703125 7.21875 \nQ 6.734375 8.984375 6.734375 10.890625 \nL 6.734375 72.46875 \nL 15.53125 72.46875 \nL 15.53125 51.8125 \nQ 15.53125 50.34375 15.5 49 \nQ 15.484375 47.65625 15.4375 46.625 \nQ 15.375 45.40625 15.328125 44.34375 \nL 15.53125 44.34375 \nQ 17.96875 49.421875 22 51.609375 \nQ 26.03125 53.8125 31.984375 53.8125 \nQ 42 53.8125 46.703125 47.0625 \nQ 51.421875 40.328125 51.421875 26.65625 \nz\nM 42.1875 26.375 \nQ 42.1875 31.84375 41.5 35.75 \nQ 40.828125 39.65625 39.3125 42.15625 \nQ 37.796875 44.671875 35.453125 45.84375 \nQ 33.109375 47.015625 29.734375 47.015625 \nQ 26.265625 47.015625 23.609375 45.890625 \nQ 20.953125 44.78125 19.171875 42.28125 \nQ 17.390625 39.796875 16.453125 35.734375 \nQ 15.53125 31.6875 15.53125 25.828125 \nQ 15.53125 20.171875 16.453125 16.3125 \nQ 17.390625 12.453125 19.171875 10.03125 \nQ 20.953125 7.625 23.578125 6.5625 \nQ 26.21875 5.515625 29.640625 5.515625 \nQ 32.859375 5.515625 35.203125 6.640625 \nQ 37.546875 7.765625 39.109375 10.25 \nQ 40.671875 12.75 41.421875 16.71875 \nQ 42.1875 20.703125 42.1875 26.375 \nz\n\" id=\"LiberationSans-62\"/>\n     <path d=\"M 29.5 0 \nQ 27.640625 -4.78125 25.703125 -8.609375 \nQ 23.78125 -12.453125 21.390625 -15.15625 \nQ 19 -17.875 16.0625 -19.3125 \nQ 13.140625 -20.75 9.328125 -20.75 \nQ 7.671875 -20.75 6.25 -20.65625 \nQ 4.828125 -20.5625 3.265625 -20.21875 \nL 3.265625 -13.625 \nQ 4.203125 -13.765625 5.375 -13.84375 \nQ 6.546875 -13.921875 7.375 -13.921875 \nQ 11.234375 -13.921875 14.546875 -11.03125 \nQ 17.875 -8.15625 20.359375 -1.859375 \nL 21.1875 0.25 \nL 0.25 52.828125 \nL 9.625 52.828125 \nL 20.75 23.640625 \nQ 21.234375 22.3125 21.984375 20.109375 \nQ 22.75 17.921875 23.5 15.71875 \nQ 24.265625 13.53125 24.84375 11.765625 \nQ 25.4375 10.015625 25.53125 9.578125 \nQ 25.6875 10.109375 26.25 11.6875 \nQ 26.8125 13.28125 27.515625 15.234375 \nQ 28.21875 17.1875 28.953125 19.1875 \nQ 29.6875 21.1875 30.171875 22.65625 \nL 40.53125 52.828125 \nL 49.8125 52.828125 \nz\n\" id=\"LiberationSans-79\"/>\n    </defs>\n    <g style=\"fill:#262626;\" transform=\"translate(144.39125 15.89625)scale(0.12 -0.12)\">\n     <use xlink:href=\"#LiberationSans-43\"/>\n     <use x=\"72.216797\" xlink:href=\"#LiberationSans-6f\"/>\n     <use x=\"127.832031\" xlink:href=\"#LiberationSans-76\"/>\n     <use x=\"177.832031\" xlink:href=\"#LiberationSans-65\"/>\n     <use x=\"233.447266\" xlink:href=\"#LiberationSans-72\"/>\n     <use x=\"266.748047\" xlink:href=\"#LiberationSans-61\"/>\n     <use x=\"322.363281\" xlink:href=\"#LiberationSans-67\"/>\n     <use x=\"377.978516\" xlink:href=\"#LiberationSans-65\"/>\n     <use x=\"433.59375\" xlink:href=\"#LiberationSans-20\"/>\n     <use x=\"461.376953\" xlink:href=\"#LiberationSans-6f\"/>\n     <use x=\"516.992188\" xlink:href=\"#LiberationSans-66\"/>\n     <use x=\"544.775391\" xlink:href=\"#LiberationSans-20\"/>\n     <use x=\"572.558594\" xlink:href=\"#LiberationSans-39\"/>\n     <use x=\"628.173828\" xlink:href=\"#LiberationSans-35\"/>\n     <use x=\"683.789062\" xlink:href=\"#LiberationSans-25\"/>\n     <use x=\"772.705078\" xlink:href=\"#LiberationSans-20\"/>\n     <use x=\"800.488281\" xlink:href=\"#LiberationSans-50\"/>\n     <use x=\"867.1875\" xlink:href=\"#LiberationSans-72\"/>\n     <use x=\"900.488281\" xlink:href=\"#LiberationSans-65\"/>\n     <use x=\"956.103516\" xlink:href=\"#LiberationSans-64\"/>\n     <use x=\"1011.71875\" xlink:href=\"#LiberationSans-69\"/>\n     <use x=\"1033.935547\" xlink:href=\"#LiberationSans-63\"/>\n     <use x=\"1083.935547\" xlink:href=\"#LiberationSans-74\"/>\n     <use x=\"1111.71875\" xlink:href=\"#LiberationSans-69\"/>\n     <use x=\"1133.935547\" xlink:href=\"#LiberationSans-76\"/>\n     <use x=\"1183.935547\" xlink:href=\"#LiberationSans-65\"/>\n     <use x=\"1239.550781\" xlink:href=\"#LiberationSans-20\"/>\n     <use x=\"1267.333984\" xlink:href=\"#LiberationSans-49\"/>\n     <use x=\"1295.117188\" xlink:href=\"#LiberationSans-6e\"/>\n     <use x=\"1350.732422\" xlink:href=\"#LiberationSans-74\"/>\n     <use x=\"1378.515625\" xlink:href=\"#LiberationSans-65\"/>\n     <use x=\"1434.130859\" xlink:href=\"#LiberationSans-72\"/>\n     <use x=\"1467.431641\" xlink:href=\"#LiberationSans-76\"/>\n     <use x=\"1517.431641\" xlink:href=\"#LiberationSans-61\"/>\n     <use x=\"1573.046875\" xlink:href=\"#LiberationSans-6c\"/>\n     <use x=\"1595.263672\" xlink:href=\"#LiberationSans-20\"/>\n     <use x=\"1623.046875\" xlink:href=\"#LiberationSans-62\"/>\n     <use x=\"1678.662109\" xlink:href=\"#LiberationSans-79\"/>\n     <use x=\"1728.662109\" xlink:href=\"#LiberationSans-20\"/>\n     <use x=\"1756.445312\" xlink:href=\"#LiberationSans-48\"/>\n     <use x=\"1828.662109\" xlink:href=\"#LiberationSans-6f\"/>\n     <use x=\"1884.277344\" xlink:href=\"#LiberationSans-75\"/>\n     <use x=\"1939.892578\" xlink:href=\"#LiberationSans-72\"/>\n    </g>\n   </g>\n   <g id=\"legend_1\">\n    <g id=\"line2d_23\">\n     <path d=\"M 48.575938 291.979375 \nL 68.575938 291.979375 \n\" style=\"fill:none;stroke:#4c72b0;stroke-linecap:round;stroke-width:1.75;\"/>\n    </g>\n    <g id=\"line2d_24\"/>\n    <g id=\"text_14\">\n     <!-- True -->\n     <defs>\n      <path d=\"M 35.15625 61.1875 \nL 35.15625 0 \nL 25.875 0 \nL 25.875 61.1875 \nL 2.25 61.1875 \nL 2.25 68.796875 \nL 58.796875 68.796875 \nL 58.796875 61.1875 \nz\n\" id=\"LiberationSans-54\"/>\n     </defs>\n     <g style=\"fill:#262626;\" transform=\"translate(76.575938 295.479375)scale(0.1 -0.1)\">\n      <use xlink:href=\"#LiberationSans-54\"/>\n      <use x=\"61.037109\" xlink:href=\"#LiberationSans-72\"/>\n      <use x=\"94.337891\" xlink:href=\"#LiberationSans-75\"/>\n      <use x=\"149.953125\" xlink:href=\"#LiberationSans-65\"/>\n     </g>\n    </g>\n    <g id=\"line2d_25\">\n     <path d=\"M 48.575938 306.30125 \nL 68.575938 306.30125 \n\" style=\"fill:none;stroke:#c44e52;stroke-linecap:round;stroke-width:1.75;\"/>\n    </g>\n    <g id=\"line2d_26\"/>\n    <g id=\"text_15\">\n     <!-- Ideal -->\n     <g style=\"fill:#262626;\" transform=\"translate(76.575938 309.80125)scale(0.1 -0.1)\">\n      <use xlink:href=\"#LiberationSans-49\"/>\n      <use x=\"27.783203\" xlink:href=\"#LiberationSans-64\"/>\n      <use x=\"83.398438\" xlink:href=\"#LiberationSans-65\"/>\n      <use x=\"139.013672\" xlink:href=\"#LiberationSans-61\"/>\n      <use x=\"194.628906\" xlink:href=\"#LiberationSans-6c\"/>\n     </g>\n    </g>\n   </g>\n  </g>\n </g>\n <defs>\n  <clipPath id=\"pc857b3578e\">\n   <rect height=\"298.98\" width=\"446.4\" x=\"39.575938\" y=\"21.89625\"/>\n  </clipPath>\n </defs>\n</svg>\n"
          },
          "metadata": {
            "tags": []
          }
        }
      ]
    },
    {
      "cell_type": "markdown",
      "metadata": {
        "id": "hpLWGF4SKTJO",
        "colab_type": "text"
      },
      "source": [
        "TODO: and we can also look at the coverage across pickup location"
      ]
    },
    {
      "cell_type": "code",
      "metadata": {
        "id": "Pa9Ft4zXImHe",
        "colab_type": "code",
        "outputId": "8c7628fd-77df-4583-a614-a77da5da6a66",
        "colab": {
          "base_uri": "https://localhost:8080/",
          "height": 553
        }
      },
      "source": [
        "# Create vaex df with predictive intervals\n",
        "cov_by_loc = pd.DataFrame()\n",
        "cov_by_loc['x'] = train_orig.loc[~tr_ind,'pickup_longitude']\n",
        "cov_by_loc['y'] = train_orig.loc[~tr_ind,'pickup_latitude']\n",
        "cov_by_loc['covered'] = covered(prediction_dists[:,:,0], y_val)\n",
        "vdf = vaex.from_pandas(cov_by_loc)\n",
        "\n",
        "# Compute coverage of the predictive interval\n",
        "lims = [[-74.1, -73.75],[40.6, 40.9]]\n",
        "cov = vdf.mean(vdf.covered, limits=lims, shape=300,\n",
        "               binby=[vdf.x,\n",
        "                      vdf.y])\n",
        "\n",
        "# Plot coverage of the predictive interval\n",
        "cmap = matplotlib.cm.PuOr\n",
        "cmap.set_bad('black', 1.)\n",
        "plt.imshow(cov.T, origin='lower',\n",
        "           vmin=0.9, vmax=1.0, cmap=cmap,\n",
        "           extent=[lims[0][0], lims[0][1], \n",
        "                   lims[1][0], lims[1][1]])\n",
        "ax = plt.gca()\n",
        "ax.grid(False)\n",
        "cbar = plt.colorbar()\n",
        "cbar.set_label('Coverage of 95% predictive interval', \n",
        "               rotation=270)"
      ],
      "execution_count": 0,
      "outputs": [
        {
          "output_type": "stream",
          "text": [
            "/usr/local/lib/python3.6/dist-packages/vaex/dataframe.py:1277: DeprecationWarning: Call to deprecated function iscategory: use is_category\n",
            "  if self.iscategory(expression):\n",
            "/usr/local/lib/python3.6/dist-packages/vaex/dataframe.py:1277: DeprecationWarning: Call to deprecated function iscategory: use is_category\n",
            "  if self.iscategory(expression):\n"
          ],
          "name": "stderr"
        },
        {
          "output_type": "display_data",
          "data": {
            "text/plain": [
              "<matplotlib.figure.Figure at 0x7fa0f6eb1518>"
            ],
            "image/svg+xml": "<?xml version=\"1.0\" encoding=\"utf-8\" standalone=\"no\"?>\n<!DOCTYPE svg PUBLIC \"-//W3C//DTD SVG 1.1//EN\"\n  \"http://www.w3.org/Graphics/SVG/1.1/DTD/svg11.dtd\">\n<!-- Created with matplotlib (http://matplotlib.org/) -->\n<svg height=\"333pt\" version=\"1.1\" viewBox=\"0 0 462 333\" width=\"462pt\" xmlns=\"http://www.w3.org/2000/svg\" xmlns:xlink=\"http://www.w3.org/1999/xlink\">\n <defs>\n  <style type=\"text/css\">\n*{stroke-linecap:butt;stroke-linejoin:round;}\n  </style>\n </defs>\n <g id=\"figure_1\">\n  <g id=\"patch_1\">\n   <path d=\"M 0 333.325313 \nL 462.961812 333.325313 \nL 462.961812 0 \nL 0 0 \nz\n\" style=\"fill:#ffffff;\"/>\n  </g>\n  <g id=\"axes_1\">\n   <g id=\"patch_2\">\n    <path d=\"M 39.221875 309.803438 \nL 388.031875 309.803438 \nL 388.031875 10.823438 \nL 39.221875 10.823438 \nz\n\" style=\"fill:#eaeaf2;\"/>\n   </g>\n   <g clip-path=\"url(#pa0ba66cf13)\">\n    <image height=\"299\" id=\"image205766b55c\" transform=\"scale(1 -1)translate(0 -299)\" width=\"349\" x=\"39.221875\" xlink:href=\"data:image/png;base64,\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\" y=\"-10.803438\"/>\n   </g>\n   <g id=\"matplotlib.axis_1\">\n    <g id=\"xtick_1\">\n     <g id=\"line2d_1\"/>\n     <g id=\"text_1\">\n      <!-- −74.10 -->\n      <defs>\n       <path d=\"M 4.9375 29.6875 \nL 4.9375 36.8125 \nL 53.515625 36.8125 \nL 53.515625 29.6875 \nz\n\" id=\"LiberationSans-2212\"/>\n       <path d=\"M 50.59375 61.671875 \nQ 45.40625 53.765625 41.0625 46.453125 \nQ 36.71875 39.15625 33.59375 31.75 \nQ 30.46875 24.359375 28.734375 16.578125 \nQ 27 8.796875 27 0 \nL 17.828125 0 \nQ 17.828125 8.25 19.78125 16.1875 \nQ 21.734375 24.125 25.046875 31.765625 \nQ 28.375 39.40625 32.765625 46.78125 \nQ 37.15625 54.15625 42.09375 61.328125 \nL 5.125 61.328125 \nL 5.125 68.796875 \nL 50.59375 68.796875 \nz\n\" id=\"LiberationSans-37\"/>\n       <path d=\"M 43.015625 15.578125 \nL 43.015625 0 \nL 34.71875 0 \nL 34.71875 15.578125 \nL 2.296875 15.578125 \nL 2.296875 22.40625 \nL 33.796875 68.796875 \nL 43.015625 68.796875 \nL 43.015625 22.515625 \nL 52.6875 22.515625 \nL 52.6875 15.578125 \nz\nM 34.71875 58.890625 \nQ 34.625 58.640625 34.234375 57.9375 \nQ 33.84375 57.234375 33.34375 56.34375 \nQ 32.859375 55.46875 32.34375 54.5625 \nQ 31.84375 53.65625 31.453125 53.078125 \nL 13.8125 27.09375 \nQ 13.578125 26.703125 13.109375 26.0625 \nQ 12.640625 25.4375 12.15625 24.78125 \nQ 11.671875 24.125 11.171875 23.484375 \nQ 10.6875 22.859375 10.40625 22.515625 \nL 34.71875 22.515625 \nz\n\" id=\"LiberationSans-34\"/>\n       <path d=\"M 9.125 0 \nL 9.125 10.6875 \nL 18.65625 10.6875 \nL 18.65625 0 \nz\n\" id=\"LiberationSans-2e\"/>\n       <path d=\"M 7.625 0 \nL 7.625 7.46875 \nL 25.140625 7.46875 \nL 25.140625 60.40625 \nL 9.625 49.3125 \nL 9.625 57.625 \nL 25.875 68.796875 \nL 33.984375 68.796875 \nL 33.984375 7.46875 \nL 50.734375 7.46875 \nL 50.734375 0 \nz\n\" id=\"LiberationSans-31\"/>\n       <path d=\"M 51.703125 34.421875 \nQ 51.703125 24.515625 49.828125 17.75 \nQ 47.953125 10.984375 44.703125 6.8125 \nQ 41.453125 2.640625 37.0625 0.828125 \nQ 32.671875 -0.984375 27.6875 -0.984375 \nQ 22.65625 -0.984375 18.3125 0.828125 \nQ 13.96875 2.640625 10.765625 6.78125 \nQ 7.5625 10.9375 5.734375 17.703125 \nQ 3.90625 24.46875 3.90625 34.421875 \nQ 3.90625 44.828125 5.734375 51.640625 \nQ 7.5625 58.453125 10.78125 62.5 \nQ 14.015625 66.546875 18.40625 68.1875 \nQ 22.796875 69.828125 27.984375 69.828125 \nQ 32.90625 69.828125 37.21875 68.1875 \nQ 41.546875 66.546875 44.765625 62.5 \nQ 48 58.453125 49.84375 51.640625 \nQ 51.703125 44.828125 51.703125 34.421875 \nz\nM 42.78125 34.421875 \nQ 42.78125 42.625 41.796875 48.0625 \nQ 40.828125 53.515625 38.921875 56.765625 \nQ 37.015625 60.015625 34.25 61.359375 \nQ 31.5 62.703125 27.984375 62.703125 \nQ 24.265625 62.703125 21.4375 61.328125 \nQ 18.609375 59.96875 16.671875 56.71875 \nQ 14.75 53.46875 13.765625 48.015625 \nQ 12.796875 42.578125 12.796875 34.421875 \nQ 12.796875 26.515625 13.796875 21.09375 \nQ 14.796875 15.671875 16.71875 12.375 \nQ 18.65625 9.078125 21.4375 7.640625 \nQ 24.21875 6.203125 27.78125 6.203125 \nQ 31.25 6.203125 34.03125 7.640625 \nQ 36.8125 9.078125 38.734375 12.375 \nQ 40.671875 15.671875 41.71875 21.09375 \nQ 42.78125 26.515625 42.78125 34.421875 \nz\n\" id=\"LiberationSans-30\"/>\n      </defs>\n      <g style=\"fill:#262626;\" transform=\"translate(23.790625 324.050313)scale(0.1 -0.1)\">\n       <use xlink:href=\"#LiberationSans-2212\"/>\n       <use x=\"58.398438\" xlink:href=\"#LiberationSans-37\"/>\n       <use x=\"114.013672\" xlink:href=\"#LiberationSans-34\"/>\n       <use x=\"169.628906\" xlink:href=\"#LiberationSans-2e\"/>\n       <use x=\"197.412109\" xlink:href=\"#LiberationSans-31\"/>\n       <use x=\"253.027344\" xlink:href=\"#LiberationSans-30\"/>\n      </g>\n     </g>\n    </g>\n    <g id=\"xtick_2\">\n     <g id=\"line2d_2\"/>\n     <g id=\"text_2\">\n      <!-- −74.05 -->\n      <defs>\n       <path d=\"M 51.421875 22.40625 \nQ 51.421875 17.234375 49.859375 12.9375 \nQ 48.296875 8.640625 45.21875 5.53125 \nQ 42.140625 2.4375 37.578125 0.71875 \nQ 33.015625 -0.984375 27 -0.984375 \nQ 21.578125 -0.984375 17.546875 0.28125 \nQ 13.53125 1.5625 10.734375 3.78125 \nQ 7.953125 6 6.3125 8.984375 \nQ 4.6875 11.96875 4 15.375 \nL 12.890625 16.40625 \nQ 13.421875 14.453125 14.390625 12.625 \nQ 15.375 10.796875 17.0625 9.34375 \nQ 18.75 7.90625 21.21875 7.046875 \nQ 23.6875 6.203125 27.203125 6.203125 \nQ 30.609375 6.203125 33.390625 7.25 \nQ 36.1875 8.296875 38.15625 10.34375 \nQ 40.140625 12.40625 41.203125 15.375 \nQ 42.28125 18.359375 42.28125 22.21875 \nQ 42.28125 25.390625 41.25 28.046875 \nQ 40.234375 30.71875 38.328125 32.640625 \nQ 36.421875 34.578125 33.65625 35.640625 \nQ 30.90625 36.71875 27.390625 36.71875 \nQ 25.203125 36.71875 23.34375 36.328125 \nQ 21.484375 35.9375 19.890625 35.25 \nQ 18.3125 34.578125 17.015625 33.671875 \nQ 15.71875 32.765625 14.59375 31.78125 \nL 6 31.78125 \nL 8.296875 68.796875 \nL 47.40625 68.796875 \nL 47.40625 61.328125 \nL 16.3125 61.328125 \nL 14.984375 39.5 \nQ 17.328125 41.3125 20.84375 42.59375 \nQ 24.359375 43.890625 29.203125 43.890625 \nQ 34.328125 43.890625 38.421875 42.328125 \nQ 42.53125 40.765625 45.40625 37.90625 \nQ 48.296875 35.0625 49.859375 31.109375 \nQ 51.421875 27.15625 51.421875 22.40625 \nz\n\" id=\"LiberationSans-35\"/>\n      </defs>\n      <g style=\"fill:#262626;\" transform=\"translate(73.620625 324.050313)scale(0.1 -0.1)\">\n       <use xlink:href=\"#LiberationSans-2212\"/>\n       <use x=\"58.398438\" xlink:href=\"#LiberationSans-37\"/>\n       <use x=\"114.013672\" xlink:href=\"#LiberationSans-34\"/>\n       <use x=\"169.628906\" xlink:href=\"#LiberationSans-2e\"/>\n       <use x=\"197.412109\" xlink:href=\"#LiberationSans-30\"/>\n       <use x=\"253.027344\" xlink:href=\"#LiberationSans-35\"/>\n      </g>\n     </g>\n    </g>\n    <g id=\"xtick_3\">\n     <g id=\"line2d_3\"/>\n     <g id=\"text_3\">\n      <!-- −74.00 -->\n      <g style=\"fill:#262626;\" transform=\"translate(123.450625 324.050313)scale(0.1 -0.1)\">\n       <use xlink:href=\"#LiberationSans-2212\"/>\n       <use x=\"58.398438\" xlink:href=\"#LiberationSans-37\"/>\n       <use x=\"114.013672\" xlink:href=\"#LiberationSans-34\"/>\n       <use x=\"169.628906\" xlink:href=\"#LiberationSans-2e\"/>\n       <use x=\"197.412109\" xlink:href=\"#LiberationSans-30\"/>\n       <use x=\"253.027344\" xlink:href=\"#LiberationSans-30\"/>\n      </g>\n     </g>\n    </g>\n    <g id=\"xtick_4\">\n     <g id=\"line2d_4\"/>\n     <g id=\"text_4\">\n      <!-- −73.95 -->\n      <defs>\n       <path d=\"M 51.21875 19 \nQ 51.21875 14.265625 49.671875 10.546875 \nQ 48.140625 6.84375 45.1875 4.265625 \nQ 42.234375 1.703125 37.859375 0.359375 \nQ 33.5 -0.984375 27.875 -0.984375 \nQ 21.484375 -0.984375 17.109375 0.609375 \nQ 12.75 2.203125 9.90625 4.8125 \nQ 7.078125 7.421875 5.65625 10.765625 \nQ 4.25 14.109375 3.8125 17.671875 \nL 12.890625 18.5 \nQ 13.28125 15.765625 14.328125 13.515625 \nQ 15.375 11.28125 17.1875 9.671875 \nQ 19 8.0625 21.625 7.171875 \nQ 24.265625 6.296875 27.875 6.296875 \nQ 34.515625 6.296875 38.296875 9.5625 \nQ 42.09375 12.84375 42.09375 19.28125 \nQ 42.09375 23.09375 40.40625 25.40625 \nQ 38.71875 27.734375 36.203125 29.03125 \nQ 33.6875 30.328125 30.734375 30.765625 \nQ 27.78125 31.203125 25.296875 31.203125 \nL 20.3125 31.203125 \nL 20.3125 38.8125 \nL 25.09375 38.8125 \nQ 27.59375 38.8125 30.265625 39.328125 \nQ 32.953125 39.84375 35.171875 41.1875 \nQ 37.40625 42.53125 38.84375 44.828125 \nQ 40.28125 47.125 40.28125 50.6875 \nQ 40.28125 56.203125 37.03125 59.390625 \nQ 33.796875 62.59375 27.390625 62.59375 \nQ 21.578125 62.59375 17.984375 59.609375 \nQ 14.40625 56.640625 13.8125 51.21875 \nL 4.984375 51.90625 \nQ 5.515625 56.453125 7.46875 59.8125 \nQ 9.421875 63.1875 12.421875 65.40625 \nQ 15.4375 67.625 19.28125 68.71875 \nQ 23.140625 69.828125 27.484375 69.828125 \nQ 33.25 69.828125 37.390625 68.375 \nQ 41.546875 66.9375 44.1875 64.46875 \nQ 46.828125 62.015625 48.0625 58.6875 \nQ 49.3125 55.375 49.3125 51.609375 \nQ 49.3125 48.578125 48.484375 45.9375 \nQ 47.65625 43.3125 45.890625 41.203125 \nQ 44.140625 39.109375 41.421875 37.59375 \nQ 38.71875 36.078125 34.90625 35.296875 \nL 34.90625 35.109375 \nQ 39.0625 34.671875 42.140625 33.21875 \nQ 45.21875 31.78125 47.21875 29.625 \nQ 49.21875 27.484375 50.21875 24.75 \nQ 51.21875 22.015625 51.21875 19 \nz\n\" id=\"LiberationSans-33\"/>\n       <path d=\"M 50.875 35.796875 \nQ 50.875 26.609375 49.140625 19.703125 \nQ 47.40625 12.796875 44.1875 8.203125 \nQ 40.96875 3.609375 36.34375 1.3125 \nQ 31.734375 -0.984375 25.984375 -0.984375 \nQ 22.015625 -0.984375 18.84375 -0.171875 \nQ 15.671875 0.640625 13.171875 2.34375 \nQ 10.6875 4.046875 8.921875 6.78125 \nQ 7.171875 9.515625 6.109375 13.375 \nL 14.5 14.703125 \nQ 15.875 10.25 18.78125 8.171875 \nQ 21.6875 6.109375 26.125 6.109375 \nQ 29.6875 6.109375 32.640625 7.78125 \nQ 35.59375 9.46875 37.671875 12.84375 \nQ 39.75 16.21875 40.921875 21.296875 \nQ 42.09375 26.375 42.1875 33.203125 \nQ 41.15625 30.90625 39.375 29.09375 \nQ 37.59375 27.296875 35.328125 26.046875 \nQ 33.0625 24.8125 30.421875 24.140625 \nQ 27.78125 23.484375 25.09375 23.484375 \nQ 20.40625 23.484375 16.625 25.171875 \nQ 12.84375 26.859375 10.203125 29.875 \nQ 7.5625 32.90625 6.125 37.171875 \nQ 4.6875 41.453125 4.6875 46.6875 \nQ 4.6875 52 6.21875 56.296875 \nQ 7.765625 60.59375 10.6875 63.59375 \nQ 13.625 66.609375 17.890625 68.21875 \nQ 22.171875 69.828125 27.59375 69.828125 \nQ 39.0625 69.828125 44.96875 61.328125 \nQ 50.875 52.828125 50.875 35.796875 \nz\nM 41.3125 44.28125 \nQ 41.3125 48.09375 40.40625 51.453125 \nQ 39.5 54.828125 37.71875 57.3125 \nQ 35.9375 59.8125 33.328125 61.25 \nQ 30.71875 62.703125 27.296875 62.703125 \nQ 24.125 62.703125 21.578125 61.578125 \nQ 19.046875 60.453125 17.28125 58.375 \nQ 15.53125 56.296875 14.578125 53.3125 \nQ 13.625 50.34375 13.625 46.6875 \nQ 13.625 43.21875 14.46875 40.234375 \nQ 15.328125 37.25 17.03125 35.078125 \nQ 18.75 32.90625 21.28125 31.65625 \nQ 23.828125 30.421875 27.203125 30.421875 \nQ 29.640625 30.421875 32.15625 31.25 \nQ 34.671875 32.078125 36.6875 33.78125 \nQ 38.71875 35.5 40.015625 38.109375 \nQ 41.3125 40.71875 41.3125 44.28125 \nz\n\" id=\"LiberationSans-39\"/>\n      </defs>\n      <g style=\"fill:#262626;\" transform=\"translate(173.280625 324.050313)scale(0.1 -0.1)\">\n       <use xlink:href=\"#LiberationSans-2212\"/>\n       <use x=\"58.398438\" xlink:href=\"#LiberationSans-37\"/>\n       <use x=\"114.013672\" xlink:href=\"#LiberationSans-33\"/>\n       <use x=\"169.628906\" xlink:href=\"#LiberationSans-2e\"/>\n       <use x=\"197.412109\" xlink:href=\"#LiberationSans-39\"/>\n       <use x=\"253.027344\" xlink:href=\"#LiberationSans-35\"/>\n      </g>\n     </g>\n    </g>\n    <g id=\"xtick_5\">\n     <g id=\"line2d_5\"/>\n     <g id=\"text_5\">\n      <!-- −73.90 -->\n      <g style=\"fill:#262626;\" transform=\"translate(223.110625 324.050313)scale(0.1 -0.1)\">\n       <use xlink:href=\"#LiberationSans-2212\"/>\n       <use x=\"58.398438\" xlink:href=\"#LiberationSans-37\"/>\n       <use x=\"114.013672\" xlink:href=\"#LiberationSans-33\"/>\n       <use x=\"169.628906\" xlink:href=\"#LiberationSans-2e\"/>\n       <use x=\"197.412109\" xlink:href=\"#LiberationSans-39\"/>\n       <use x=\"253.027344\" xlink:href=\"#LiberationSans-30\"/>\n      </g>\n     </g>\n    </g>\n    <g id=\"xtick_6\">\n     <g id=\"line2d_6\"/>\n     <g id=\"text_6\">\n      <!-- −73.85 -->\n      <defs>\n       <path d=\"M 51.265625 19.1875 \nQ 51.265625 14.796875 49.875 11.109375 \nQ 48.484375 7.421875 45.625 4.734375 \nQ 42.78125 2.046875 38.328125 0.53125 \nQ 33.890625 -0.984375 27.828125 -0.984375 \nQ 21.78125 -0.984375 17.359375 0.53125 \nQ 12.9375 2.046875 10.03125 4.703125 \nQ 7.125 7.375 5.734375 11.0625 \nQ 4.34375 14.75 4.34375 19.09375 \nQ 4.34375 22.859375 5.484375 25.78125 \nQ 6.640625 28.71875 8.5625 30.828125 \nQ 10.5 32.953125 12.96875 34.25 \nQ 15.4375 35.546875 18.0625 35.984375 \nL 18.0625 36.1875 \nQ 15.1875 36.859375 12.90625 38.375 \nQ 10.640625 39.890625 9.09375 42.015625 \nQ 7.5625 44.140625 6.75 46.71875 \nQ 5.953125 49.3125 5.953125 52.203125 \nQ 5.953125 55.8125 7.34375 59 \nQ 8.734375 62.203125 11.46875 64.625 \nQ 14.203125 67.046875 18.25 68.4375 \nQ 22.3125 69.828125 27.640625 69.828125 \nQ 33.25 69.828125 37.375 68.40625 \nQ 41.5 67 44.203125 64.578125 \nQ 46.921875 62.15625 48.234375 58.9375 \nQ 49.5625 55.71875 49.5625 52.09375 \nQ 49.5625 49.265625 48.75 46.671875 \nQ 47.953125 44.09375 46.40625 41.96875 \nQ 44.875 39.84375 42.59375 38.34375 \nQ 40.328125 36.859375 37.359375 36.28125 \nL 37.359375 36.078125 \nQ 40.328125 35.59375 42.859375 34.296875 \nQ 45.40625 33.015625 47.265625 30.890625 \nQ 49.125 28.765625 50.1875 25.828125 \nQ 51.265625 22.90625 51.265625 19.1875 \nz\nM 40.4375 51.609375 \nQ 40.4375 54.203125 39.765625 56.34375 \nQ 39.109375 58.5 37.59375 60.03125 \nQ 36.078125 61.578125 33.640625 62.421875 \nQ 31.203125 63.28125 27.640625 63.28125 \nQ 24.171875 63.28125 21.78125 62.421875 \nQ 19.390625 61.578125 17.84375 60.03125 \nQ 16.3125 58.5 15.625 56.34375 \nQ 14.9375 54.203125 14.9375 51.609375 \nQ 14.9375 49.5625 15.46875 47.40625 \nQ 16.015625 45.265625 17.421875 43.5 \nQ 18.84375 41.75 21.328125 40.625 \nQ 23.828125 39.5 27.734375 39.5 \nQ 31.890625 39.5 34.40625 40.625 \nQ 36.921875 41.75 38.25 43.5 \nQ 39.59375 45.265625 40.015625 47.40625 \nQ 40.4375 49.5625 40.4375 51.609375 \nz\nM 42.140625 20.015625 \nQ 42.140625 22.515625 41.453125 24.828125 \nQ 40.765625 27.15625 39.109375 28.9375 \nQ 37.453125 30.71875 34.640625 31.8125 \nQ 31.84375 32.90625 27.640625 32.90625 \nQ 23.78125 32.90625 21.0625 31.8125 \nQ 18.359375 30.71875 16.671875 28.90625 \nQ 14.984375 27.09375 14.203125 24.71875 \nQ 13.421875 22.359375 13.421875 19.828125 \nQ 13.421875 16.65625 14.203125 14.03125 \nQ 14.984375 11.421875 16.6875 9.546875 \nQ 18.40625 7.671875 21.1875 6.640625 \nQ 23.96875 5.609375 27.9375 5.609375 \nQ 31.9375 5.609375 34.671875 6.640625 \nQ 37.40625 7.671875 39.0625 9.546875 \nQ 40.71875 11.421875 41.421875 14.078125 \nQ 42.140625 16.75 42.140625 20.015625 \nz\n\" id=\"LiberationSans-38\"/>\n      </defs>\n      <g style=\"fill:#262626;\" transform=\"translate(272.940625 324.050313)scale(0.1 -0.1)\">\n       <use xlink:href=\"#LiberationSans-2212\"/>\n       <use x=\"58.398438\" xlink:href=\"#LiberationSans-37\"/>\n       <use x=\"114.013672\" xlink:href=\"#LiberationSans-33\"/>\n       <use x=\"169.628906\" xlink:href=\"#LiberationSans-2e\"/>\n       <use x=\"197.412109\" xlink:href=\"#LiberationSans-38\"/>\n       <use x=\"253.027344\" xlink:href=\"#LiberationSans-35\"/>\n      </g>\n     </g>\n    </g>\n    <g id=\"xtick_7\">\n     <g id=\"line2d_7\"/>\n     <g id=\"text_7\">\n      <!-- −73.80 -->\n      <g style=\"fill:#262626;\" transform=\"translate(322.770625 324.050313)scale(0.1 -0.1)\">\n       <use xlink:href=\"#LiberationSans-2212\"/>\n       <use x=\"58.398438\" xlink:href=\"#LiberationSans-37\"/>\n       <use x=\"114.013672\" xlink:href=\"#LiberationSans-33\"/>\n       <use x=\"169.628906\" xlink:href=\"#LiberationSans-2e\"/>\n       <use x=\"197.412109\" xlink:href=\"#LiberationSans-38\"/>\n       <use x=\"253.027344\" xlink:href=\"#LiberationSans-30\"/>\n      </g>\n     </g>\n    </g>\n    <g id=\"xtick_8\">\n     <g id=\"line2d_8\"/>\n     <g id=\"text_8\">\n      <!-- −73.75 -->\n      <g style=\"fill:#262626;\" transform=\"translate(372.600625 324.050313)scale(0.1 -0.1)\">\n       <use xlink:href=\"#LiberationSans-2212\"/>\n       <use x=\"58.398438\" xlink:href=\"#LiberationSans-37\"/>\n       <use x=\"114.013672\" xlink:href=\"#LiberationSans-33\"/>\n       <use x=\"169.628906\" xlink:href=\"#LiberationSans-2e\"/>\n       <use x=\"197.412109\" xlink:href=\"#LiberationSans-37\"/>\n       <use x=\"253.027344\" xlink:href=\"#LiberationSans-35\"/>\n      </g>\n     </g>\n    </g>\n   </g>\n   <g id=\"matplotlib.axis_2\">\n    <g id=\"ytick_1\">\n     <g id=\"line2d_9\"/>\n     <g id=\"text_9\">\n      <!-- 40.60 -->\n      <defs>\n       <path d=\"M 51.21875 22.515625 \nQ 51.21875 17.328125 49.78125 13 \nQ 48.34375 8.6875 45.53125 5.578125 \nQ 42.71875 2.484375 38.5625 0.75 \nQ 34.421875 -0.984375 29 -0.984375 \nQ 23 -0.984375 18.5 1.3125 \nQ 14.015625 3.609375 11.03125 7.921875 \nQ 8.0625 12.25 6.5625 18.53125 \nQ 5.078125 24.8125 5.078125 32.8125 \nQ 5.078125 42 6.765625 48.921875 \nQ 8.453125 55.859375 11.625 60.5 \nQ 14.796875 65.140625 19.359375 67.484375 \nQ 23.921875 69.828125 29.6875 69.828125 \nQ 33.203125 69.828125 36.28125 69.09375 \nQ 39.359375 68.359375 41.875 66.71875 \nQ 44.390625 65.09375 46.28125 62.40625 \nQ 48.1875 59.71875 49.3125 55.8125 \nL 40.921875 54.296875 \nQ 39.546875 58.734375 36.546875 60.71875 \nQ 33.546875 62.703125 29.59375 62.703125 \nQ 25.984375 62.703125 23.046875 60.984375 \nQ 20.125 59.28125 18.0625 55.875 \nQ 16.015625 52.484375 14.90625 47.359375 \nQ 13.8125 42.234375 13.8125 35.40625 \nQ 16.21875 39.84375 20.5625 42.15625 \nQ 24.90625 44.484375 30.515625 44.484375 \nQ 35.203125 44.484375 39.015625 42.96875 \nQ 42.828125 41.453125 45.53125 38.59375 \nQ 48.25 35.75 49.734375 31.671875 \nQ 51.21875 27.59375 51.21875 22.515625 \nz\nM 42.28125 22.125 \nQ 42.28125 25.6875 41.40625 28.5625 \nQ 40.53125 31.453125 38.765625 33.46875 \nQ 37.015625 35.5 34.421875 36.59375 \nQ 31.84375 37.703125 28.421875 37.703125 \nQ 26.03125 37.703125 23.578125 36.984375 \nQ 21.140625 36.28125 19.15625 34.6875 \nQ 17.1875 33.109375 15.9375 30.515625 \nQ 14.703125 27.9375 14.703125 24.21875 \nQ 14.703125 20.40625 15.671875 17.109375 \nQ 16.65625 13.8125 18.484375 11.375 \nQ 20.3125 8.9375 22.890625 7.515625 \nQ 25.484375 6.109375 28.71875 6.109375 \nQ 31.890625 6.109375 34.40625 7.203125 \nQ 36.921875 8.296875 38.671875 10.375 \nQ 40.4375 12.453125 41.359375 15.421875 \nQ 42.28125 18.40625 42.28125 22.125 \nz\n\" id=\"LiberationSans-36\"/>\n      </defs>\n      <g style=\"fill:#262626;\" transform=\"translate(7.2 313.426875)scale(0.1 -0.1)\">\n       <use xlink:href=\"#LiberationSans-34\"/>\n       <use x=\"55.615234\" xlink:href=\"#LiberationSans-30\"/>\n       <use x=\"111.230469\" xlink:href=\"#LiberationSans-2e\"/>\n       <use x=\"139.013672\" xlink:href=\"#LiberationSans-36\"/>\n       <use x=\"194.628906\" xlink:href=\"#LiberationSans-30\"/>\n      </g>\n     </g>\n    </g>\n    <g id=\"ytick_2\">\n     <g id=\"line2d_10\"/>\n     <g id=\"text_10\">\n      <!-- 40.65 -->\n      <g style=\"fill:#262626;\" transform=\"translate(7.2 263.596875)scale(0.1 -0.1)\">\n       <use xlink:href=\"#LiberationSans-34\"/>\n       <use x=\"55.615234\" xlink:href=\"#LiberationSans-30\"/>\n       <use x=\"111.230469\" xlink:href=\"#LiberationSans-2e\"/>\n       <use x=\"139.013672\" xlink:href=\"#LiberationSans-36\"/>\n       <use x=\"194.628906\" xlink:href=\"#LiberationSans-35\"/>\n      </g>\n     </g>\n    </g>\n    <g id=\"ytick_3\">\n     <g id=\"line2d_11\"/>\n     <g id=\"text_11\">\n      <!-- 40.70 -->\n      <g style=\"fill:#262626;\" transform=\"translate(7.2 213.766875)scale(0.1 -0.1)\">\n       <use xlink:href=\"#LiberationSans-34\"/>\n       <use x=\"55.615234\" xlink:href=\"#LiberationSans-30\"/>\n       <use x=\"111.230469\" xlink:href=\"#LiberationSans-2e\"/>\n       <use x=\"139.013672\" xlink:href=\"#LiberationSans-37\"/>\n       <use x=\"194.628906\" xlink:href=\"#LiberationSans-30\"/>\n      </g>\n     </g>\n    </g>\n    <g id=\"ytick_4\">\n     <g id=\"line2d_12\"/>\n     <g id=\"text_12\">\n      <!-- 40.75 -->\n      <g style=\"fill:#262626;\" transform=\"translate(7.2 163.936875)scale(0.1 -0.1)\">\n       <use xlink:href=\"#LiberationSans-34\"/>\n       <use x=\"55.615234\" xlink:href=\"#LiberationSans-30\"/>\n       <use x=\"111.230469\" xlink:href=\"#LiberationSans-2e\"/>\n       <use x=\"139.013672\" xlink:href=\"#LiberationSans-37\"/>\n       <use x=\"194.628906\" xlink:href=\"#LiberationSans-35\"/>\n      </g>\n     </g>\n    </g>\n    <g id=\"ytick_5\">\n     <g id=\"line2d_13\"/>\n     <g id=\"text_13\">\n      <!-- 40.80 -->\n      <g style=\"fill:#262626;\" transform=\"translate(7.2 114.106875)scale(0.1 -0.1)\">\n       <use xlink:href=\"#LiberationSans-34\"/>\n       <use x=\"55.615234\" xlink:href=\"#LiberationSans-30\"/>\n       <use x=\"111.230469\" xlink:href=\"#LiberationSans-2e\"/>\n       <use x=\"139.013672\" xlink:href=\"#LiberationSans-38\"/>\n       <use x=\"194.628906\" xlink:href=\"#LiberationSans-30\"/>\n      </g>\n     </g>\n    </g>\n    <g id=\"ytick_6\">\n     <g id=\"line2d_14\"/>\n     <g id=\"text_14\">\n      <!-- 40.85 -->\n      <g style=\"fill:#262626;\" transform=\"translate(7.2 64.276875)scale(0.1 -0.1)\">\n       <use xlink:href=\"#LiberationSans-34\"/>\n       <use x=\"55.615234\" xlink:href=\"#LiberationSans-30\"/>\n       <use x=\"111.230469\" xlink:href=\"#LiberationSans-2e\"/>\n       <use x=\"139.013672\" xlink:href=\"#LiberationSans-38\"/>\n       <use x=\"194.628906\" xlink:href=\"#LiberationSans-35\"/>\n      </g>\n     </g>\n    </g>\n    <g id=\"ytick_7\">\n     <g id=\"line2d_15\"/>\n     <g id=\"text_15\">\n      <!-- 40.90 -->\n      <g style=\"fill:#262626;\" transform=\"translate(7.2 14.446875)scale(0.1 -0.1)\">\n       <use xlink:href=\"#LiberationSans-34\"/>\n       <use x=\"55.615234\" xlink:href=\"#LiberationSans-30\"/>\n       <use x=\"111.230469\" xlink:href=\"#LiberationSans-2e\"/>\n       <use x=\"139.013672\" xlink:href=\"#LiberationSans-39\"/>\n       <use x=\"194.628906\" xlink:href=\"#LiberationSans-30\"/>\n      </g>\n     </g>\n    </g>\n   </g>\n   <g id=\"patch_3\">\n    <path d=\"M 39.221875 309.803438 \nL 39.221875 10.823438 \n\" style=\"fill:none;\"/>\n   </g>\n   <g id=\"patch_4\">\n    <path d=\"M 388.031875 309.803438 \nL 388.031875 10.823438 \n\" style=\"fill:none;\"/>\n   </g>\n   <g id=\"patch_5\">\n    <path d=\"M 39.221875 309.803438 \nL 388.031875 309.803438 \n\" style=\"fill:none;\"/>\n   </g>\n   <g id=\"patch_6\">\n    <path d=\"M 39.221875 10.823438 \nL 388.031875 10.823438 \n\" style=\"fill:none;\"/>\n   </g>\n  </g>\n  <g id=\"axes_2\">\n   <g id=\"patch_7\">\n    <path clip-path=\"url(#p765bd9054a)\" d=\"M 410.351875 309.803438 \nL 410.351875 308.635547 \nL 410.351875 11.991328 \nL 410.351875 10.823438 \nL 425.300875 10.823438 \nL 425.300875 11.991328 \nL 425.300875 308.635547 \nL 425.300875 309.803438 \nz\n\" style=\"fill:#eaeaf2;stroke:#eaeaf2;stroke-linejoin:miter;stroke-width:0.01;\"/>\n   </g>\n   <g id=\"matplotlib.axis_3\"/>\n   <g id=\"matplotlib.axis_4\">\n    <g id=\"ytick_8\">\n     <g id=\"line2d_16\"/>\n     <g id=\"text_16\">\n      <!-- 0.90 -->\n      <g style=\"fill:#262626;\" transform=\"translate(432.300875 313.426875)scale(0.1 -0.1)\">\n       <use xlink:href=\"#LiberationSans-30\"/>\n       <use x=\"55.615234\" xlink:href=\"#LiberationSans-2e\"/>\n       <use x=\"83.398438\" xlink:href=\"#LiberationSans-39\"/>\n       <use x=\"139.013672\" xlink:href=\"#LiberationSans-30\"/>\n      </g>\n     </g>\n    </g>\n    <g id=\"ytick_9\">\n     <g id=\"line2d_17\"/>\n     <g id=\"text_17\">\n      <!-- 0.92 -->\n      <defs>\n       <path d=\"M 5.03125 0 \nL 5.03125 6.203125 \nQ 7.515625 11.921875 11.109375 16.28125 \nQ 14.703125 20.65625 18.65625 24.1875 \nQ 22.609375 27.734375 26.484375 30.765625 \nQ 30.375 33.796875 33.5 36.8125 \nQ 36.625 39.84375 38.546875 43.15625 \nQ 40.484375 46.484375 40.484375 50.6875 \nQ 40.484375 53.609375 39.59375 55.828125 \nQ 38.71875 58.0625 37.0625 59.5625 \nQ 35.40625 61.078125 33.078125 61.828125 \nQ 30.765625 62.59375 27.9375 62.59375 \nQ 25.296875 62.59375 22.96875 61.859375 \nQ 20.65625 61.140625 18.84375 59.671875 \nQ 17.046875 58.203125 15.890625 56.03125 \nQ 14.75 53.859375 14.40625 50.984375 \nL 5.421875 51.8125 \nQ 5.859375 55.515625 7.46875 58.78125 \nQ 9.078125 62.0625 11.90625 64.53125 \nQ 14.75 67 18.71875 68.40625 \nQ 22.703125 69.828125 27.9375 69.828125 \nQ 33.0625 69.828125 37.0625 68.609375 \nQ 41.0625 67.390625 43.8125 64.984375 \nQ 46.578125 62.59375 48.046875 59.078125 \nQ 49.515625 55.5625 49.515625 50.984375 \nQ 49.515625 47.515625 48.265625 44.390625 \nQ 47.015625 41.265625 44.9375 38.421875 \nQ 42.875 35.59375 40.140625 32.953125 \nQ 37.40625 30.328125 34.421875 27.8125 \nQ 31.453125 25.296875 28.421875 22.828125 \nQ 25.390625 20.359375 22.71875 17.859375 \nQ 20.0625 15.375 17.96875 12.8125 \nQ 15.875 10.25 14.703125 7.46875 \nL 50.59375 7.46875 \nL 50.59375 0 \nz\n\" id=\"LiberationSans-32\"/>\n      </defs>\n      <g style=\"fill:#262626;\" transform=\"translate(432.300875 253.630875)scale(0.1 -0.1)\">\n       <use xlink:href=\"#LiberationSans-30\"/>\n       <use x=\"55.615234\" xlink:href=\"#LiberationSans-2e\"/>\n       <use x=\"83.398438\" xlink:href=\"#LiberationSans-39\"/>\n       <use x=\"139.013672\" xlink:href=\"#LiberationSans-32\"/>\n      </g>\n     </g>\n    </g>\n    <g id=\"ytick_10\">\n     <g id=\"line2d_18\"/>\n     <g id=\"text_18\">\n      <!-- 0.94 -->\n      <g style=\"fill:#262626;\" transform=\"translate(432.300875 193.834875)scale(0.1 -0.1)\">\n       <use xlink:href=\"#LiberationSans-30\"/>\n       <use x=\"55.615234\" xlink:href=\"#LiberationSans-2e\"/>\n       <use x=\"83.398438\" xlink:href=\"#LiberationSans-39\"/>\n       <use x=\"139.013672\" xlink:href=\"#LiberationSans-34\"/>\n      </g>\n     </g>\n    </g>\n    <g id=\"ytick_11\">\n     <g id=\"line2d_19\"/>\n     <g id=\"text_19\">\n      <!-- 0.96 -->\n      <g style=\"fill:#262626;\" transform=\"translate(432.300875 134.038875)scale(0.1 -0.1)\">\n       <use xlink:href=\"#LiberationSans-30\"/>\n       <use x=\"55.615234\" xlink:href=\"#LiberationSans-2e\"/>\n       <use x=\"83.398438\" xlink:href=\"#LiberationSans-39\"/>\n       <use x=\"139.013672\" xlink:href=\"#LiberationSans-36\"/>\n      </g>\n     </g>\n    </g>\n    <g id=\"ytick_12\">\n     <g id=\"line2d_20\"/>\n     <g id=\"text_20\">\n      <!-- 0.98 -->\n      <g style=\"fill:#262626;\" transform=\"translate(432.300875 74.242875)scale(0.1 -0.1)\">\n       <use xlink:href=\"#LiberationSans-30\"/>\n       <use x=\"55.615234\" xlink:href=\"#LiberationSans-2e\"/>\n       <use x=\"83.398438\" xlink:href=\"#LiberationSans-39\"/>\n       <use x=\"139.013672\" xlink:href=\"#LiberationSans-38\"/>\n      </g>\n     </g>\n    </g>\n    <g id=\"ytick_13\">\n     <g id=\"line2d_21\"/>\n     <g id=\"text_21\">\n      <!-- 1.00 -->\n      <g style=\"fill:#262626;\" transform=\"translate(432.300875 14.446875)scale(0.1 -0.1)\">\n       <use xlink:href=\"#LiberationSans-31\"/>\n       <use x=\"55.615234\" xlink:href=\"#LiberationSans-2e\"/>\n       <use x=\"83.398438\" xlink:href=\"#LiberationSans-30\"/>\n       <use x=\"139.013672\" xlink:href=\"#LiberationSans-30\"/>\n      </g>\n     </g>\n    </g>\n    <g id=\"text_22\">\n     <!-- Coverage of 95% predictive interval -->\n     <defs>\n      <path d=\"M 38.671875 62.203125 \nQ 32.8125 62.203125 28.296875 60.25 \nQ 23.78125 58.296875 20.71875 54.6875 \nQ 17.671875 51.078125 16.109375 46 \nQ 14.546875 40.921875 14.546875 34.71875 \nQ 14.546875 28.515625 16.234375 23.359375 \nQ 17.921875 18.21875 21.0625 14.5 \nQ 24.21875 10.796875 28.78125 8.734375 \nQ 33.34375 6.6875 39.0625 6.6875 \nQ 43.0625 6.6875 46.359375 7.734375 \nQ 49.65625 8.796875 52.3125 10.6875 \nQ 54.984375 12.59375 57.078125 15.203125 \nQ 59.1875 17.828125 60.796875 21 \nL 68.40625 17.1875 \nQ 66.546875 13.328125 63.8125 10 \nQ 61.078125 6.6875 57.390625 4.25 \nQ 53.71875 1.8125 49.046875 0.40625 \nQ 44.390625 -0.984375 38.625 -0.984375 \nQ 30.28125 -0.984375 24 1.671875 \nQ 17.71875 4.34375 13.5 9.109375 \nQ 9.28125 13.875 7.171875 20.40625 \nQ 5.078125 26.953125 5.078125 34.71875 \nQ 5.078125 42.78125 7.296875 49.265625 \nQ 9.515625 55.765625 13.78125 60.328125 \nQ 18.0625 64.890625 24.3125 67.359375 \nQ 30.5625 69.828125 38.578125 69.828125 \nQ 49.5625 69.828125 56.9375 65.53125 \nQ 64.3125 61.234375 67.78125 52.78125 \nL 58.9375 49.859375 \nQ 57.953125 52.296875 56.296875 54.515625 \nQ 54.640625 56.734375 52.140625 58.4375 \nQ 49.65625 60.15625 46.3125 61.171875 \nQ 42.96875 62.203125 38.671875 62.203125 \nz\n\" id=\"LiberationSans-43\"/>\n      <path d=\"M 51.421875 26.46875 \nQ 51.421875 12.59375 45.3125 5.796875 \nQ 39.203125 -0.984375 27.59375 -0.984375 \nQ 22.078125 -0.984375 17.71875 0.671875 \nQ 13.375 2.34375 10.375 5.765625 \nQ 7.375 9.1875 5.78125 14.328125 \nQ 4.203125 19.484375 4.203125 26.46875 \nQ 4.203125 53.8125 27.875 53.8125 \nQ 34.03125 53.8125 38.5 52.09375 \nQ 42.96875 50.390625 45.828125 46.96875 \nQ 48.6875 43.5625 50.046875 38.421875 \nQ 51.421875 33.296875 51.421875 26.46875 \nz\nM 42.1875 26.46875 \nQ 42.1875 32.625 41.234375 36.625 \nQ 40.28125 40.625 38.453125 43.015625 \nQ 36.625 45.40625 33.984375 46.359375 \nQ 31.34375 47.3125 28.03125 47.3125 \nQ 24.65625 47.3125 21.9375 46.3125 \nQ 19.234375 45.3125 17.328125 42.890625 \nQ 15.4375 40.484375 14.421875 36.46875 \nQ 13.421875 32.46875 13.421875 26.46875 \nQ 13.421875 20.3125 14.5 16.28125 \nQ 15.578125 12.25 17.453125 9.859375 \nQ 19.34375 7.46875 21.90625 6.484375 \nQ 24.46875 5.515625 27.484375 5.515625 \nQ 30.859375 5.515625 33.59375 6.46875 \nQ 36.328125 7.421875 38.234375 9.8125 \nQ 40.140625 12.203125 41.15625 16.25 \nQ 42.1875 20.3125 42.1875 26.46875 \nz\n\" id=\"LiberationSans-6f\"/>\n      <path d=\"M 29.9375 0 \nL 19.53125 0 \nL 0.34375 52.828125 \nL 9.71875 52.828125 \nL 21.34375 18.453125 \nQ 21.6875 17.390625 22.140625 15.84375 \nQ 22.609375 14.3125 23.09375 12.640625 \nQ 23.578125 10.984375 24 9.4375 \nQ 24.421875 7.90625 24.703125 6.890625 \nQ 25 7.90625 25.453125 9.4375 \nQ 25.921875 10.984375 26.40625 12.59375 \nQ 26.90625 14.203125 27.421875 15.734375 \nQ 27.9375 17.28125 28.328125 18.359375 \nL 40.328125 52.828125 \nL 49.65625 52.828125 \nz\n\" id=\"LiberationSans-76\"/>\n      <path d=\"M 13.484375 24.5625 \nQ 13.484375 20.40625 14.328125 16.90625 \nQ 15.1875 13.421875 16.96875 10.90625 \nQ 18.75 8.40625 21.53125 7 \nQ 24.3125 5.609375 28.21875 5.609375 \nQ 33.9375 5.609375 37.375 7.90625 \nQ 40.828125 10.203125 42.046875 13.71875 \nL 49.75 11.53125 \nQ 48.921875 9.328125 47.4375 7.109375 \nQ 45.953125 4.890625 43.453125 3.09375 \nQ 40.96875 1.3125 37.234375 0.15625 \nQ 33.5 -0.984375 28.21875 -0.984375 \nQ 16.5 -0.984375 10.375 6 \nQ 4.25 12.984375 4.25 26.765625 \nQ 4.25 34.1875 6.09375 39.328125 \nQ 7.953125 44.484375 11.171875 47.703125 \nQ 14.40625 50.921875 18.703125 52.359375 \nQ 23 53.8125 27.875 53.8125 \nQ 34.515625 53.8125 38.984375 51.65625 \nQ 43.453125 49.515625 46.15625 45.71875 \nQ 48.875 41.9375 50.015625 36.8125 \nQ 51.171875 31.6875 51.171875 25.734375 \nL 51.171875 24.5625 \nz\nM 42.09375 31.296875 \nQ 41.359375 39.65625 37.84375 43.484375 \nQ 34.328125 47.3125 27.734375 47.3125 \nQ 25.53125 47.3125 23.109375 46.609375 \nQ 20.703125 45.90625 18.65625 44.09375 \nQ 16.609375 42.28125 15.1875 39.171875 \nQ 13.765625 36.078125 13.578125 31.296875 \nz\n\" id=\"LiberationSans-65\"/>\n      <path d=\"M 6.9375 0 \nL 6.9375 40.53125 \nQ 6.9375 42.1875 6.90625 43.921875 \nQ 6.890625 45.65625 6.828125 47.265625 \nQ 6.78125 48.875 6.734375 50.28125 \nQ 6.6875 51.703125 6.640625 52.828125 \nL 14.9375 52.828125 \nQ 14.984375 51.703125 15.0625 50.265625 \nQ 15.140625 48.828125 15.203125 47.3125 \nQ 15.28125 45.796875 15.296875 44.40625 \nQ 15.328125 43.015625 15.328125 42.046875 \nL 15.53125 42.046875 \nQ 16.453125 45.0625 17.5 47.28125 \nQ 18.5625 49.515625 19.96875 50.953125 \nQ 21.390625 52.390625 23.34375 53.09375 \nQ 25.296875 53.8125 28.078125 53.8125 \nQ 29.15625 53.8125 30.125 53.640625 \nQ 31.109375 53.46875 31.640625 53.328125 \nL 31.640625 45.265625 \nQ 30.765625 45.515625 29.59375 45.625 \nQ 28.421875 45.75 26.953125 45.75 \nQ 23.921875 45.75 21.796875 44.375 \nQ 19.671875 43.015625 18.328125 40.59375 \nQ 17 38.1875 16.359375 34.84375 \nQ 15.71875 31.5 15.71875 27.546875 \nL 15.71875 0 \nz\n\" id=\"LiberationSans-72\"/>\n      <path d=\"M 20.21875 -0.984375 \nQ 12.25 -0.984375 8.25 3.21875 \nQ 4.25 7.421875 4.25 14.75 \nQ 4.25 19.96875 6.21875 23.3125 \nQ 8.203125 26.65625 11.390625 28.5625 \nQ 14.59375 30.46875 18.6875 31.203125 \nQ 22.796875 31.9375 27.046875 32.03125 \nL 38.921875 32.234375 \nL 38.921875 35.109375 \nQ 38.921875 38.375 38.234375 40.671875 \nQ 37.546875 42.96875 36.125 44.375 \nQ 34.71875 45.796875 32.59375 46.453125 \nQ 30.46875 47.125 27.59375 47.125 \nQ 25.046875 47.125 23 46.75 \nQ 20.953125 46.390625 19.4375 45.4375 \nQ 17.921875 44.484375 16.984375 42.84375 \nQ 16.0625 41.21875 15.765625 38.71875 \nL 6.59375 39.546875 \nQ 7.078125 42.671875 8.4375 45.28125 \nQ 9.8125 47.90625 12.328125 49.796875 \nQ 14.84375 51.703125 18.625 52.75 \nQ 22.40625 53.8125 27.78125 53.8125 \nQ 37.75 53.8125 42.765625 49.234375 \nQ 47.796875 44.671875 47.796875 36.03125 \nL 47.796875 13.28125 \nQ 47.796875 9.375 48.828125 7.390625 \nQ 49.859375 5.421875 52.734375 5.421875 \nQ 53.46875 5.421875 54.203125 5.515625 \nQ 54.9375 5.609375 55.609375 5.765625 \nL 55.609375 0.296875 \nQ 53.953125 -0.09375 52.3125 -0.28125 \nQ 50.6875 -0.484375 48.828125 -0.484375 \nQ 46.34375 -0.484375 44.5625 0.171875 \nQ 42.78125 0.828125 41.65625 2.171875 \nQ 40.53125 3.515625 39.9375 5.484375 \nQ 39.359375 7.46875 39.203125 10.109375 \nL 38.921875 10.109375 \nQ 37.5 7.5625 35.8125 5.515625 \nQ 34.125 3.46875 31.875 2.03125 \nQ 29.640625 0.59375 26.78125 -0.1875 \nQ 23.921875 -0.984375 20.21875 -0.984375 \nz\nM 22.21875 5.609375 \nQ 26.421875 5.609375 29.5625 7.140625 \nQ 32.71875 8.6875 34.78125 11.078125 \nQ 36.859375 13.484375 37.890625 16.3125 \nQ 38.921875 19.140625 38.921875 21.734375 \nL 38.921875 26.078125 \nL 29.296875 25.875 \nQ 26.078125 25.828125 23.171875 25.40625 \nQ 20.265625 25 18.0625 23.78125 \nQ 15.875 22.5625 14.578125 20.359375 \nQ 13.28125 18.171875 13.28125 14.59375 \nQ 13.28125 10.296875 15.59375 7.953125 \nQ 17.921875 5.609375 22.21875 5.609375 \nz\n\" id=\"LiberationSans-61\"/>\n      <path d=\"M 26.765625 -20.75 \nQ 22.21875 -20.75 18.703125 -19.8125 \nQ 15.1875 -18.890625 12.6875 -17.15625 \nQ 10.203125 -15.4375 8.640625 -13.03125 \nQ 7.078125 -10.640625 6.390625 -7.71875 \nL 15.234375 -6.453125 \nQ 16.109375 -10.109375 19.109375 -12.078125 \nQ 22.125 -14.0625 27 -14.0625 \nQ 29.984375 -14.0625 32.421875 -13.234375 \nQ 34.859375 -12.40625 36.5625 -10.5625 \nQ 38.28125 -8.734375 39.203125 -5.796875 \nQ 40.140625 -2.875 40.140625 1.3125 \nL 40.140625 9.8125 \nL 40.046875 9.8125 \nQ 39.0625 7.8125 37.625 5.984375 \nQ 36.1875 4.15625 34.109375 2.734375 \nQ 32.03125 1.3125 29.296875 0.453125 \nQ 26.5625 -0.390625 23.046875 -0.390625 \nQ 18.015625 -0.390625 14.421875 1.296875 \nQ 10.84375 2.984375 8.5625 6.34375 \nQ 6.296875 9.71875 5.25 14.71875 \nQ 4.203125 19.734375 4.203125 26.3125 \nQ 4.203125 32.671875 5.25 37.75 \nQ 6.296875 42.828125 8.65625 46.359375 \nQ 11.03125 49.90625 14.8125 51.78125 \nQ 18.609375 53.65625 24.03125 53.65625 \nQ 29.640625 53.65625 33.765625 51.09375 \nQ 37.890625 48.53125 40.140625 43.796875 \nL 40.234375 43.796875 \nQ 40.234375 45.015625 40.296875 46.53125 \nQ 40.375 48.046875 40.453125 49.390625 \nQ 40.53125 50.734375 40.625 51.703125 \nQ 40.71875 52.6875 40.828125 52.828125 \nL 49.171875 52.828125 \nQ 49.125 52.390625 49.078125 51.34375 \nQ 49.03125 50.296875 48.96875 48.828125 \nQ 48.921875 47.359375 48.890625 45.578125 \nQ 48.875 43.796875 48.875 41.890625 \nL 48.875 1.515625 \nQ 48.875 -9.578125 43.421875 -15.15625 \nQ 37.984375 -20.75 26.765625 -20.75 \nz\nM 40.140625 26.421875 \nQ 40.140625 31.9375 38.9375 35.859375 \nQ 37.75 39.796875 35.796875 42.28125 \nQ 33.84375 44.78125 31.328125 45.953125 \nQ 28.8125 47.125 26.171875 47.125 \nQ 22.796875 47.125 20.375 45.953125 \nQ 17.96875 44.78125 16.375 42.265625 \nQ 14.796875 39.75 14.03125 35.8125 \nQ 13.28125 31.890625 13.28125 26.421875 \nQ 13.28125 20.703125 14.03125 16.8125 \nQ 14.796875 12.9375 16.359375 10.546875 \nQ 17.921875 8.15625 20.3125 7.125 \nQ 22.703125 6.109375 26.03125 6.109375 \nQ 28.65625 6.109375 31.171875 7.21875 \nQ 33.6875 8.34375 35.6875 10.78125 \nQ 37.703125 13.234375 38.921875 17.09375 \nQ 40.140625 20.953125 40.140625 26.421875 \nz\n\" id=\"LiberationSans-67\"/>\n      <path id=\"LiberationSans-20\"/>\n      <path d=\"M 17.625 46.4375 \nL 17.625 0 \nL 8.84375 0 \nL 8.84375 46.4375 \nL 1.421875 46.4375 \nL 1.421875 52.828125 \nL 8.84375 52.828125 \nL 8.84375 58.796875 \nQ 8.84375 61.671875 9.375 64.140625 \nQ 9.90625 66.609375 11.34375 68.4375 \nQ 12.796875 70.265625 15.28125 71.3125 \nQ 17.78125 72.359375 21.734375 72.359375 \nQ 23.296875 72.359375 24.96875 72.21875 \nQ 26.65625 72.078125 27.9375 71.78125 \nL 27.9375 65.09375 \nQ 27.09375 65.234375 26 65.359375 \nQ 24.90625 65.484375 24.03125 65.484375 \nQ 22.078125 65.484375 20.828125 64.9375 \nQ 19.578125 64.40625 18.875 63.40625 \nQ 18.171875 62.40625 17.890625 60.9375 \nQ 17.625 59.46875 17.625 57.5625 \nL 17.625 52.828125 \nL 27.9375 52.828125 \nL 27.9375 46.4375 \nz\n\" id=\"LiberationSans-66\"/>\n      <path d=\"M 85.359375 21.1875 \nQ 85.359375 15.09375 84.109375 10.90625 \nQ 82.859375 6.734375 80.734375 4.171875 \nQ 78.609375 1.609375 75.78125 0.5 \nQ 72.953125 -0.59375 69.734375 -0.59375 \nQ 66.5 -0.59375 63.6875 0.5 \nQ 60.890625 1.609375 58.8125 4.140625 \nQ 56.734375 6.6875 55.53125 10.859375 \nQ 54.34375 15.046875 54.34375 21.1875 \nQ 54.34375 27.6875 55.515625 31.9375 \nQ 56.6875 36.1875 58.78125 38.703125 \nQ 60.890625 41.21875 63.75 42.21875 \nQ 66.609375 43.21875 69.921875 43.21875 \nQ 73.140625 43.21875 75.953125 42.21875 \nQ 78.765625 41.21875 80.828125 38.703125 \nQ 82.90625 36.1875 84.125 31.9375 \nQ 85.359375 27.6875 85.359375 21.1875 \nz\nM 25.734375 0 \nL 18.171875 0 \nL 63.1875 68.796875 \nL 70.84375 68.796875 \nz\nM 19.234375 69.390625 \nQ 22.359375 69.390625 25.140625 68.390625 \nQ 27.9375 67.390625 30.03125 64.890625 \nQ 32.125 62.40625 33.3125 58.203125 \nQ 34.515625 54 34.515625 47.609375 \nQ 34.515625 41.453125 33.296875 37.25 \nQ 32.078125 33.0625 30 30.4375 \nQ 27.9375 27.828125 25.09375 26.703125 \nQ 22.265625 25.59375 19.046875 25.59375 \nQ 15.765625 25.59375 12.9375 26.703125 \nQ 10.109375 27.828125 8.03125 30.421875 \nQ 5.953125 33.015625 4.75 37.203125 \nQ 3.5625 41.40625 3.5625 47.609375 \nQ 3.5625 54 4.75 58.203125 \nQ 5.953125 62.40625 8.046875 64.890625 \nQ 10.15625 67.390625 13.03125 68.390625 \nQ 15.921875 69.390625 19.234375 69.390625 \nz\nM 78.125 21.1875 \nQ 78.125 26.03125 77.578125 29.21875 \nQ 77.046875 32.421875 76 34.328125 \nQ 74.953125 36.234375 73.40625 37.015625 \nQ 71.875 37.796875 69.921875 37.796875 \nQ 67.875 37.796875 66.3125 36.984375 \nQ 64.75 36.1875 63.671875 34.28125 \nQ 62.59375 32.375 62.0625 29.171875 \nQ 61.53125 25.984375 61.53125 21.1875 \nQ 61.53125 16.546875 62.078125 13.421875 \nQ 62.640625 10.296875 63.6875 8.375 \nQ 64.75 6.453125 66.28125 5.609375 \nQ 67.828125 4.78125 69.828125 4.78125 \nQ 71.734375 4.78125 73.265625 5.609375 \nQ 74.8125 6.453125 75.875 8.375 \nQ 76.953125 10.296875 77.53125 13.421875 \nQ 78.125 16.546875 78.125 21.1875 \nz\nM 27.34375 47.609375 \nQ 27.34375 52.390625 26.796875 55.5625 \nQ 26.265625 58.734375 25.234375 60.640625 \nQ 24.21875 62.546875 22.703125 63.328125 \nQ 21.1875 64.109375 19.234375 64.109375 \nQ 17.140625 64.109375 15.546875 63.296875 \nQ 13.96875 62.5 12.890625 60.59375 \nQ 11.8125 58.6875 11.28125 55.515625 \nQ 10.75 52.34375 10.75 47.609375 \nQ 10.75 42.96875 11.296875 39.796875 \nQ 11.859375 36.625 12.90625 34.6875 \nQ 13.96875 32.765625 15.53125 31.9375 \nQ 17.09375 31.109375 19.140625 31.109375 \nQ 21 31.109375 22.515625 31.9375 \nQ 24.03125 32.765625 25.09375 34.6875 \nQ 26.171875 36.625 26.75 39.796875 \nQ 27.34375 42.96875 27.34375 47.609375 \nz\n\" id=\"LiberationSans-25\"/>\n      <path d=\"M 51.421875 26.65625 \nQ 51.421875 20.65625 50.4375 15.578125 \nQ 49.46875 10.5 47.1875 6.828125 \nQ 44.921875 3.171875 41.1875 1.09375 \nQ 37.453125 -0.984375 31.984375 -0.984375 \nQ 26.3125 -0.984375 22.0625 1.171875 \nQ 17.828125 3.328125 15.578125 8.203125 \nL 15.328125 8.203125 \nQ 15.375 8.109375 15.40625 7.328125 \nQ 15.4375 6.546875 15.453125 5.375 \nQ 15.484375 4.203125 15.5 2.75 \nQ 15.53125 1.3125 15.53125 -0.09375 \nL 15.53125 -20.75 \nL 6.734375 -20.75 \nL 6.734375 42.046875 \nQ 6.734375 43.953125 6.703125 45.703125 \nQ 6.6875 47.46875 6.640625 48.90625 \nQ 6.59375 50.34375 6.546875 51.359375 \nQ 6.5 52.390625 6.453125 52.828125 \nL 14.9375 52.828125 \nQ 14.984375 52.6875 15.0625 51.796875 \nQ 15.140625 50.921875 15.203125 49.671875 \nQ 15.28125 48.4375 15.359375 47.015625 \nQ 15.4375 45.609375 15.4375 44.34375 \nL 15.625 44.34375 \nQ 16.84375 46.875 18.40625 48.65625 \nQ 19.96875 50.4375 21.96875 51.578125 \nQ 23.96875 52.734375 26.4375 53.25 \nQ 28.90625 53.765625 31.984375 53.765625 \nQ 37.453125 53.765625 41.1875 51.8125 \nQ 44.921875 49.859375 47.1875 46.3125 \nQ 49.46875 42.78125 50.4375 37.765625 \nQ 51.421875 32.765625 51.421875 26.65625 \nz\nM 42.1875 26.46875 \nQ 42.1875 31.34375 41.59375 35.15625 \nQ 41.015625 38.96875 39.578125 41.59375 \nQ 38.140625 44.234375 35.734375 45.59375 \nQ 33.34375 46.96875 29.734375 46.96875 \nQ 26.8125 46.96875 24.21875 46.140625 \nQ 21.625 45.3125 19.703125 42.96875 \nQ 17.78125 40.625 16.65625 36.5 \nQ 15.53125 32.375 15.53125 25.78125 \nQ 15.53125 20.171875 16.453125 16.28125 \nQ 17.390625 12.40625 19.171875 10.015625 \nQ 20.953125 7.625 23.578125 6.5625 \nQ 26.21875 5.515625 29.640625 5.515625 \nQ 33.296875 5.515625 35.71875 6.921875 \nQ 38.140625 8.34375 39.578125 11.03125 \nQ 41.015625 13.71875 41.59375 17.59375 \nQ 42.1875 21.484375 42.1875 26.46875 \nz\n\" id=\"LiberationSans-70\"/>\n      <path d=\"M 40.09375 8.5 \nQ 37.640625 3.421875 33.609375 1.21875 \nQ 29.59375 -0.984375 23.640625 -0.984375 \nQ 13.625 -0.984375 8.90625 5.75 \nQ 4.203125 12.5 4.203125 26.171875 \nQ 4.203125 53.8125 23.640625 53.8125 \nQ 29.640625 53.8125 33.640625 51.609375 \nQ 37.640625 49.421875 40.09375 44.625 \nL 40.1875 44.625 \nQ 40.1875 45.125 40.15625 46.171875 \nQ 40.140625 47.21875 40.109375 48.359375 \nQ 40.09375 49.515625 40.09375 50.53125 \nQ 40.09375 51.5625 40.09375 52 \nL 40.09375 72.46875 \nL 48.875 72.46875 \nL 48.875 10.890625 \nQ 48.875 8.984375 48.890625 7.21875 \nQ 48.921875 5.46875 48.96875 4 \nQ 49.03125 2.546875 49.078125 1.484375 \nQ 49.125 0.4375 49.171875 0 \nL 40.765625 0 \nQ 40.671875 0.484375 40.59375 1.390625 \nQ 40.53125 2.296875 40.453125 3.46875 \nQ 40.375 4.640625 40.328125 5.9375 \nQ 40.28125 7.234375 40.28125 8.5 \nz\nM 13.421875 26.46875 \nQ 13.421875 21 14.109375 17.09375 \nQ 14.796875 13.1875 16.3125 10.671875 \nQ 17.828125 8.15625 20.171875 6.984375 \nQ 22.515625 5.8125 25.875 5.8125 \nQ 29.34375 5.8125 32 6.9375 \nQ 34.671875 8.0625 36.453125 10.578125 \nQ 38.234375 13.09375 39.15625 17.140625 \nQ 40.09375 21.1875 40.09375 27.046875 \nQ 40.09375 32.671875 39.15625 36.546875 \nQ 38.234375 40.4375 36.421875 42.828125 \nQ 34.625 45.21875 32 46.265625 \nQ 29.390625 47.3125 25.984375 47.3125 \nQ 22.75 47.3125 20.40625 46.1875 \nQ 18.0625 45.0625 16.5 42.578125 \nQ 14.9375 40.09375 14.171875 36.109375 \nQ 13.421875 32.125 13.421875 26.46875 \nz\n\" id=\"LiberationSans-64\"/>\n      <path d=\"M 6.6875 64.0625 \nL 6.6875 72.46875 \nL 15.484375 72.46875 \nL 15.484375 64.0625 \nz\nM 6.6875 0 \nL 6.6875 52.828125 \nL 15.484375 52.828125 \nL 15.484375 0 \nz\n\" id=\"LiberationSans-69\"/>\n      <path d=\"M 13.421875 26.65625 \nQ 13.421875 22.125 14.078125 18.3125 \nQ 14.75 14.5 16.3125 11.734375 \nQ 17.875 8.984375 20.4375 7.46875 \nQ 23 5.953125 26.765625 5.953125 \nQ 31.453125 5.953125 34.59375 8.484375 \nQ 37.75 11.03125 38.484375 16.3125 \nL 47.359375 15.71875 \nQ 46.921875 12.453125 45.453125 9.421875 \nQ 44 6.390625 41.484375 4.09375 \nQ 38.96875 1.8125 35.34375 0.40625 \nQ 31.734375 -0.984375 27 -0.984375 \nQ 20.796875 -0.984375 16.453125 1.109375 \nQ 12.109375 3.21875 9.390625 6.90625 \nQ 6.6875 10.59375 5.46875 15.59375 \nQ 4.25 20.609375 4.25 26.46875 \nQ 4.25 31.78125 5.125 35.859375 \nQ 6 39.9375 7.59375 42.984375 \nQ 9.1875 46.046875 11.328125 48.125 \nQ 13.484375 50.203125 15.984375 51.4375 \nQ 18.5 52.6875 21.28125 53.25 \nQ 24.078125 53.8125 26.90625 53.8125 \nQ 31.34375 53.8125 34.8125 52.59375 \nQ 38.28125 51.375 40.796875 49.25 \nQ 43.3125 47.125 44.875 44.234375 \nQ 46.4375 41.359375 47.078125 38.03125 \nL 38.03125 37.359375 \nQ 37.359375 41.75 34.5625 44.328125 \nQ 31.78125 46.921875 26.65625 46.921875 \nQ 22.90625 46.921875 20.390625 45.671875 \nQ 17.875 44.4375 16.3125 41.921875 \nQ 14.75 39.40625 14.078125 35.59375 \nQ 13.421875 31.78125 13.421875 26.65625 \nz\n\" id=\"LiberationSans-63\"/>\n      <path d=\"M 27.046875 0.390625 \nQ 25.046875 -0.140625 22.96875 -0.453125 \nQ 20.90625 -0.78125 18.171875 -0.78125 \nQ 7.625 -0.78125 7.625 11.1875 \nL 7.625 46.4375 \nL 1.515625 46.4375 \nL 1.515625 52.828125 \nL 7.953125 52.828125 \nL 10.546875 64.65625 \nL 16.40625 64.65625 \nL 16.40625 52.828125 \nL 26.171875 52.828125 \nL 26.171875 46.4375 \nL 16.40625 46.4375 \nL 16.40625 13.09375 \nQ 16.40625 9.28125 17.640625 7.734375 \nQ 18.890625 6.203125 21.96875 6.203125 \nQ 23.25 6.203125 24.4375 6.390625 \nQ 25.640625 6.59375 27.046875 6.890625 \nz\n\" id=\"LiberationSans-74\"/>\n      <path d=\"M 40.28125 0 \nL 40.28125 33.5 \nQ 40.28125 37.359375 39.71875 39.9375 \nQ 39.15625 42.53125 37.890625 44.109375 \nQ 36.625 45.703125 34.546875 46.359375 \nQ 32.46875 47.015625 29.390625 47.015625 \nQ 26.265625 47.015625 23.75 45.921875 \nQ 21.234375 44.828125 19.453125 42.75 \nQ 17.671875 40.671875 16.6875 37.625 \nQ 15.71875 34.578125 15.71875 30.609375 \nL 15.71875 0 \nL 6.9375 0 \nL 6.9375 41.546875 \nQ 6.9375 43.21875 6.90625 45.046875 \nQ 6.890625 46.875 6.828125 48.5 \nQ 6.78125 50.140625 6.734375 51.3125 \nQ 6.6875 52.484375 6.640625 52.828125 \nL 14.9375 52.828125 \nQ 14.984375 52.59375 15.03125 51.515625 \nQ 15.09375 50.4375 15.15625 49.046875 \nQ 15.234375 47.65625 15.28125 46.21875 \nQ 15.328125 44.78125 15.328125 43.796875 \nL 15.484375 43.796875 \nQ 16.75 46.09375 18.265625 47.953125 \nQ 19.78125 49.8125 21.78125 51.09375 \nQ 23.78125 52.390625 26.359375 53.09375 \nQ 28.953125 53.8125 32.375 53.8125 \nQ 36.765625 53.8125 39.9375 52.734375 \nQ 43.109375 51.65625 45.15625 49.40625 \nQ 47.21875 47.171875 48.171875 43.625 \nQ 49.125 40.09375 49.125 35.203125 \nL 49.125 0 \nz\n\" id=\"LiberationSans-6e\"/>\n      <path d=\"M 6.734375 0 \nL 6.734375 72.46875 \nL 15.53125 72.46875 \nL 15.53125 0 \nz\n\" id=\"LiberationSans-6c\"/>\n     </defs>\n     <g style=\"fill:#262626;\" transform=\"translate(447.79025 73.495078)rotate(-270)scale(0.11 -0.11)\">\n      <use xlink:href=\"#LiberationSans-43\"/>\n      <use x=\"72.216797\" xlink:href=\"#LiberationSans-6f\"/>\n      <use x=\"127.832031\" xlink:href=\"#LiberationSans-76\"/>\n      <use x=\"177.832031\" xlink:href=\"#LiberationSans-65\"/>\n      <use x=\"233.447266\" xlink:href=\"#LiberationSans-72\"/>\n      <use x=\"266.748047\" xlink:href=\"#LiberationSans-61\"/>\n      <use x=\"322.363281\" xlink:href=\"#LiberationSans-67\"/>\n      <use x=\"377.978516\" xlink:href=\"#LiberationSans-65\"/>\n      <use x=\"433.59375\" xlink:href=\"#LiberationSans-20\"/>\n      <use x=\"461.376953\" xlink:href=\"#LiberationSans-6f\"/>\n      <use x=\"516.992188\" xlink:href=\"#LiberationSans-66\"/>\n      <use x=\"544.775391\" xlink:href=\"#LiberationSans-20\"/>\n      <use x=\"572.558594\" xlink:href=\"#LiberationSans-39\"/>\n      <use x=\"628.173828\" xlink:href=\"#LiberationSans-35\"/>\n      <use x=\"683.789062\" xlink:href=\"#LiberationSans-25\"/>\n      <use x=\"772.705078\" xlink:href=\"#LiberationSans-20\"/>\n      <use x=\"800.488281\" xlink:href=\"#LiberationSans-70\"/>\n      <use x=\"856.103516\" xlink:href=\"#LiberationSans-72\"/>\n      <use x=\"889.404297\" xlink:href=\"#LiberationSans-65\"/>\n      <use x=\"945.019531\" xlink:href=\"#LiberationSans-64\"/>\n      <use x=\"1000.634766\" xlink:href=\"#LiberationSans-69\"/>\n      <use x=\"1022.851562\" xlink:href=\"#LiberationSans-63\"/>\n      <use x=\"1072.851562\" xlink:href=\"#LiberationSans-74\"/>\n      <use x=\"1100.634766\" xlink:href=\"#LiberationSans-69\"/>\n      <use x=\"1122.851562\" xlink:href=\"#LiberationSans-76\"/>\n      <use x=\"1172.851562\" xlink:href=\"#LiberationSans-65\"/>\n      <use x=\"1228.466797\" xlink:href=\"#LiberationSans-20\"/>\n      <use x=\"1256.25\" xlink:href=\"#LiberationSans-69\"/>\n      <use x=\"1278.466797\" xlink:href=\"#LiberationSans-6e\"/>\n      <use x=\"1334.082031\" xlink:href=\"#LiberationSans-74\"/>\n      <use x=\"1361.865234\" xlink:href=\"#LiberationSans-65\"/>\n      <use x=\"1417.480469\" xlink:href=\"#LiberationSans-72\"/>\n      <use x=\"1450.78125\" xlink:href=\"#LiberationSans-76\"/>\n      <use x=\"1500.78125\" xlink:href=\"#LiberationSans-61\"/>\n      <use x=\"1556.396484\" xlink:href=\"#LiberationSans-6c\"/>\n     </g>\n    </g>\n   </g>\n   <image height=\"299\" id=\"imagea27b2dd5ac\" transform=\"scale(1 -1)translate(0 -299)\" width=\"15\" x=\"410\" xlink:href=\"data:image/png;base64,\niVBORw0KGgoAAAANSUhEUgAAAA8AAAErCAYAAAABnNneAAAABHNCSVQICAgIfAhkiAAAAaFJREFUeJztmlGuwzAIBJ3EH+9Q73I9eELPEEbqaGX3HwE7C0ZRj8//X43mb55HN3SMsx8KM88T5IaZWXCbVC6qTM6X1XMsqlST9Edyo/ptMNCbourXPQ9kT6AYVRv13A9WzwqiNltDiQ5LRUXsaTpMOyuYYNpgoMyaSeBUscG4EoNPlPnqB9OpmiQ4EpXGmaKSHKaikuwpomKbxAu2HGZOlebtcYDMg5RNMjNUAwlm9UwzSz1DVJ5g6MXYU/UyWOS8p+pdcKRgrOcCn6VMVKBsKBho2+tZREUcRgVLLJuiImWPRMFyByNzAWYORhX44loF/hICYs3MD4imqEjw4wkGgjXOFFWiPWc9IPOKqDK9zZYB6Tl1qphgaPUyVNpbFSrYRvUueKN699uoYjKbZ0WkYDS4f3wyVM8tle0JBjPfGqpQwUjmsuy5Jirg7dgF6KEKXb2gbHhWIHsitbXMbAF6b5WmtiaYx5miipwqyHm9qTK3Z2LZ9Kwg3q5by4zOClA2yUxRSWXTI84ru5+Zfliy1F5wJFVUkSNJTLLic4N6/gIHQoDYWNFhUAAAAABJRU5ErkJggg==\" y=\"-10\"/>\n   <g id=\"patch_8\">\n    <path d=\"M 410.351875 309.803438 \nL 410.351875 308.635547 \nL 410.351875 11.991328 \nL 410.351875 10.823438 \nL 425.300875 10.823438 \nL 425.300875 11.991328 \nL 425.300875 308.635547 \nL 425.300875 309.803438 \nz\n\" style=\"fill:none;\"/>\n   </g>\n  </g>\n </g>\n <defs>\n  <clipPath id=\"pa0ba66cf13\">\n   <rect height=\"298.98\" width=\"348.81\" x=\"39.221875\" y=\"10.823438\"/>\n  </clipPath>\n  <clipPath id=\"p765bd9054a\">\n   <rect height=\"298.98\" width=\"14.949\" x=\"410.351875\" y=\"10.823438\"/>\n  </clipPath>\n </defs>\n</svg>\n"
          },
          "metadata": {
            "tags": []
          }
        }
      ]
    },
    {
      "cell_type": "markdown",
      "metadata": {
        "id": "fqPEoYiT7dUG",
        "colab_type": "text"
      },
      "source": [
        "TODO: compare net which doesn't predict std dev to one which does?"
      ]
    }
  ]
}